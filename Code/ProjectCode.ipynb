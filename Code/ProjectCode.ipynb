{
 "cells": [
  {
   "cell_type": "code",
   "execution_count": 13,
   "metadata": {},
   "outputs": [],
   "source": [
    "import pandas as pd"
   ]
  },
  {
   "cell_type": "code",
   "execution_count": 14,
   "metadata": {},
   "outputs": [],
   "source": [
    "dataframe = pd.read_csv(\"PCD data after 2020-7.csv\")"
   ]
  },
  {
   "cell_type": "code",
   "execution_count": 15,
   "metadata": {},
   "outputs": [
    {
     "data": {
      "text/html": [
       "<div>\n",
       "<style scoped>\n",
       "    .dataframe tbody tr th:only-of-type {\n",
       "        vertical-align: middle;\n",
       "    }\n",
       "\n",
       "    .dataframe tbody tr th {\n",
       "        vertical-align: top;\n",
       "    }\n",
       "\n",
       "    .dataframe thead th {\n",
       "        text-align: right;\n",
       "    }\n",
       "</style>\n",
       "<table border=\"1\" class=\"dataframe\">\n",
       "  <thead>\n",
       "    <tr style=\"text-align: right;\">\n",
       "      <th></th>\n",
       "      <th>id</th>\n",
       "      <th>stationID</th>\n",
       "      <th>nameTH</th>\n",
       "      <th>nameEN</th>\n",
       "      <th>stationType</th>\n",
       "      <th>lat</th>\n",
       "      <th>long</th>\n",
       "      <th>date_aq</th>\n",
       "      <th>time_aq</th>\n",
       "      <th>PM25</th>\n",
       "      <th>PM10</th>\n",
       "      <th>NO2</th>\n",
       "      <th>SO2</th>\n",
       "      <th>CO</th>\n",
       "      <th>O3</th>\n",
       "      <th>AQI</th>\n",
       "      <th>areaTH</th>\n",
       "      <th>areaEN</th>\n",
       "      <th>datetime_aq</th>\n",
       "    </tr>\n",
       "  </thead>\n",
       "  <tbody>\n",
       "    <tr>\n",
       "      <th>0</th>\n",
       "      <td>515454</td>\n",
       "      <td>76t</td>\n",
       "      <td>ศูนย์การศึกษานอกโรงเรียน</td>\n",
       "      <td>Non-Formal Education Centre, Mea Sot</td>\n",
       "      <td>GROUND</td>\n",
       "      <td>16.750102</td>\n",
       "      <td>98.591312</td>\n",
       "      <td>2020-07-20</td>\n",
       "      <td>21:00:00</td>\n",
       "      <td>8.0</td>\n",
       "      <td>22.0</td>\n",
       "      <td>4.0</td>\n",
       "      <td>NaN</td>\n",
       "      <td>0.13</td>\n",
       "      <td>13.0</td>\n",
       "      <td>1</td>\n",
       "      <td>ต.แม่ปะ อ.แม่สอด, ตาก</td>\n",
       "      <td>MaePa, MaeSot, Tak</td>\n",
       "      <td>2020-07-20 21:00:00.000</td>\n",
       "    </tr>\n",
       "    <tr>\n",
       "      <th>1</th>\n",
       "      <td>515455</td>\n",
       "      <td>81t</td>\n",
       "      <td>อ่างเก็บน้ำประปา</td>\n",
       "      <td>Water reservoir</td>\n",
       "      <td>GROUND</td>\n",
       "      <td>13.832076</td>\n",
       "      <td>100.057961</td>\n",
       "      <td>2020-07-20</td>\n",
       "      <td>21:00:00</td>\n",
       "      <td>10.0</td>\n",
       "      <td>24.0</td>\n",
       "      <td>9.0</td>\n",
       "      <td>1.0</td>\n",
       "      <td>0.58</td>\n",
       "      <td>27.0</td>\n",
       "      <td>1</td>\n",
       "      <td>ต.นครปฐม อ.เมือง, นครปฐม</td>\n",
       "      <td>Mueang, Nakhon Pathom</td>\n",
       "      <td>2020-07-20 21:00:00.000</td>\n",
       "    </tr>\n",
       "    <tr>\n",
       "      <th>2</th>\n",
       "      <td>515456</td>\n",
       "      <td>47t</td>\n",
       "      <td>สถานีสูบน้ำประตูพลแสน</td>\n",
       "      <td>Municipal Waste Water Pumping Station</td>\n",
       "      <td>GROUND</td>\n",
       "      <td>14.979726</td>\n",
       "      <td>102.098301</td>\n",
       "      <td>2020-07-20</td>\n",
       "      <td>21:00:00</td>\n",
       "      <td>17.0</td>\n",
       "      <td>35.0</td>\n",
       "      <td>12.0</td>\n",
       "      <td>0.0</td>\n",
       "      <td>0.61</td>\n",
       "      <td>7.0</td>\n",
       "      <td>1</td>\n",
       "      <td>ต.ในเมือง อ.เมือง, นครราชสีมา</td>\n",
       "      <td>Nai Mueang, Mueang, Nakhon Ratchasima</td>\n",
       "      <td>2020-07-20 21:00:00.000</td>\n",
       "    </tr>\n",
       "    <tr>\n",
       "      <th>3</th>\n",
       "      <td>515457</td>\n",
       "      <td>m3</td>\n",
       "      <td>สำนักงานพระพุทธศาสนา จังหวัดนครศรีธรรมราช</td>\n",
       "      <td>Office Of Buddhism Nakhon Si Thammarat</td>\n",
       "      <td>MOBILE</td>\n",
       "      <td>8.427328</td>\n",
       "      <td>99.963666</td>\n",
       "      <td>2020-07-20</td>\n",
       "      <td>20:00:00</td>\n",
       "      <td>10.0</td>\n",
       "      <td>24.0</td>\n",
       "      <td>NaN</td>\n",
       "      <td>NaN</td>\n",
       "      <td>NaN</td>\n",
       "      <td>NaN</td>\n",
       "      <td>1</td>\n",
       "      <td>ต.ในเมือง อ.เมือง, นครศรีธรรมราช</td>\n",
       "      <td>Mueang, Nakhon Si Thammarat</td>\n",
       "      <td>2020-07-20 20:00:00.000</td>\n",
       "    </tr>\n",
       "    <tr>\n",
       "      <th>4</th>\n",
       "      <td>515458</td>\n",
       "      <td>o26</td>\n",
       "      <td>โรงพยาบาลส่งเสริมสุขภาพตำบลเขาพระบาท อ.เชียรให...</td>\n",
       "      <td>Khao Phra Bat Health Promotion Hospital, Chian...</td>\n",
       "      <td>MOBILE</td>\n",
       "      <td>8.064768</td>\n",
       "      <td>100.191452</td>\n",
       "      <td>2020-07-20</td>\n",
       "      <td>21:00:00</td>\n",
       "      <td>6.0</td>\n",
       "      <td>NaN</td>\n",
       "      <td>NaN</td>\n",
       "      <td>NaN</td>\n",
       "      <td>NaN</td>\n",
       "      <td>NaN</td>\n",
       "      <td>1</td>\n",
       "      <td>ต.เขาพระบาท อ.เชียรใหญ่, นครศรีธรรมราช</td>\n",
       "      <td>Khao Phra Bat, Chian Yai, Nakhon Si Thammarat</td>\n",
       "      <td>2020-07-20 21:00:00.000</td>\n",
       "    </tr>\n",
       "  </tbody>\n",
       "</table>\n",
       "</div>"
      ],
      "text/plain": [
       "       id stationID                                             nameTH  \\\n",
       "0  515454       76t                           ศูนย์การศึกษานอกโรงเรียน   \n",
       "1  515455       81t                                   อ่างเก็บน้ำประปา   \n",
       "2  515456       47t                              สถานีสูบน้ำประตูพลแสน   \n",
       "3  515457        m3          สำนักงานพระพุทธศาสนา จังหวัดนครศรีธรรมราช   \n",
       "4  515458       o26  โรงพยาบาลส่งเสริมสุขภาพตำบลเขาพระบาท อ.เชียรให...   \n",
       "\n",
       "                                              nameEN stationType        lat  \\\n",
       "0               Non-Formal Education Centre, Mea Sot      GROUND  16.750102   \n",
       "1                                    Water reservoir      GROUND  13.832076   \n",
       "2              Municipal Waste Water Pumping Station      GROUND  14.979726   \n",
       "3             Office Of Buddhism Nakhon Si Thammarat      MOBILE   8.427328   \n",
       "4  Khao Phra Bat Health Promotion Hospital, Chian...      MOBILE   8.064768   \n",
       "\n",
       "         long     date_aq   time_aq  PM25  PM10   NO2  SO2    CO    O3  AQI  \\\n",
       "0   98.591312  2020-07-20  21:00:00   8.0  22.0   4.0  NaN  0.13  13.0    1   \n",
       "1  100.057961  2020-07-20  21:00:00  10.0  24.0   9.0  1.0  0.58  27.0    1   \n",
       "2  102.098301  2020-07-20  21:00:00  17.0  35.0  12.0  0.0  0.61   7.0    1   \n",
       "3   99.963666  2020-07-20  20:00:00  10.0  24.0   NaN  NaN   NaN   NaN    1   \n",
       "4  100.191452  2020-07-20  21:00:00   6.0   NaN   NaN  NaN   NaN   NaN    1   \n",
       "\n",
       "                                   areaTH  \\\n",
       "0                   ต.แม่ปะ อ.แม่สอด, ตาก   \n",
       "1                ต.นครปฐม อ.เมือง, นครปฐม   \n",
       "2           ต.ในเมือง อ.เมือง, นครราชสีมา   \n",
       "3        ต.ในเมือง อ.เมือง, นครศรีธรรมราช   \n",
       "4  ต.เขาพระบาท อ.เชียรใหญ่, นครศรีธรรมราช   \n",
       "\n",
       "                                          areaEN              datetime_aq  \n",
       "0                             MaePa, MaeSot, Tak  2020-07-20 21:00:00.000  \n",
       "1                          Mueang, Nakhon Pathom  2020-07-20 21:00:00.000  \n",
       "2          Nai Mueang, Mueang, Nakhon Ratchasima  2020-07-20 21:00:00.000  \n",
       "3                    Mueang, Nakhon Si Thammarat  2020-07-20 20:00:00.000  \n",
       "4  Khao Phra Bat, Chian Yai, Nakhon Si Thammarat  2020-07-20 21:00:00.000  "
      ]
     },
     "execution_count": 15,
     "metadata": {},
     "output_type": "execute_result"
    }
   ],
   "source": [
    "dataframe.head()"
   ]
  },
  {
   "cell_type": "code",
   "execution_count": 16,
   "metadata": {},
   "outputs": [
    {
     "data": {
      "text/plain": [
       "188"
      ]
     },
     "execution_count": 16,
     "metadata": {},
     "output_type": "execute_result"
    }
   ],
   "source": [
    "dataframe[\"areaTH\"].nunique()"
   ]
  },
  {
   "cell_type": "code",
   "execution_count": 21,
   "metadata": {},
   "outputs": [
    {
     "data": {
      "text/plain": [
       "Khao Phra Bat, Chian Yai, Nakhon Si Thammarat                                           2150\n",
       "Tambon Rahaeng, Amphoe Mueang, Tak                                                      2082\n",
       " Nai Mueang Subdistrict, Mueang District, Roi Et                                        1871\n",
       "Khuan Maphrao, Mueang, Phatthalung                                                      1849\n",
       "Mae Chaem,Chiang Mai                                                                    1611\n",
       "Mueang, Phangnga                                                                        1521\n",
       "Racha Thewa Subdistrict, Bang Phli District, Samut Prakan                               1411\n",
       "Dokmai Subdistrict, Prawet District, Bangkok                                            1380\n",
       "Mueang, Phitsanulok                                                                     1324\n",
       "Mueang District, Ranong                                                                 1289\n",
       " Bang Man Subdistrict, Mueang District, Sing Buri                                        916\n",
       "Mueang, Nakhon Si Thammarat                                                              787\n",
       "Charoen Muang Road, That Na Weng Subdistrict, Mueang District, Sakon Nakhon Province     566\n",
       " Bang Khen, Mueang, Nonthaburi                                                           402\n",
       " Ban Muang Sub-district, Ban Muang District, Sakon Nakhon Province                       224\n",
       "Nakhon Nayok Subdistrict, Mueang District, Nakhon Nayok                                  219\n",
       " Bang Krachao Subdistrict, Bang Krachao District, Samut Prakan                            70\n",
       "Wat Ket,Mueang Chiang Mai                                                                 51\n",
       "Tha Phae Gate,Mueang Chiang Mai                                                           29\n",
       "Ban Pang, Bang Sai, Phra Nakhon Si Ayutthaya                                              27\n",
       "Name: areaEN, dtype: int64"
      ]
     },
     "execution_count": 21,
     "metadata": {},
     "output_type": "execute_result"
    }
   ],
   "source": [
    "dataframe[\"areaEN\"].value_counts().tail(20)"
   ]
  },
  {
   "cell_type": "code",
   "execution_count": 36,
   "metadata": {},
   "outputs": [
    {
     "data": {
      "text/plain": [
       "151"
      ]
     },
     "execution_count": 36,
     "metadata": {},
     "output_type": "execute_result"
    }
   ],
   "source": [
    "dataframe[\"stationID\"].nunique()"
   ]
  },
  {
   "cell_type": "code",
   "execution_count": 23,
   "metadata": {},
   "outputs": [],
   "source": [
    "province = dataframe[\"nameEN\"].apply(lambda x : x.split(', ')[-1])"
   ]
  },
  {
   "cell_type": "code",
   "execution_count": 30,
   "metadata": {},
   "outputs": [
    {
     "data": {
      "text/plain": [
       "0                                   Mea Sot\n",
       "1                           Water reservoir\n",
       "2     Municipal Waste Water Pumping Station\n",
       "3    Office Of Buddhism Nakhon Si Thammarat\n",
       "4                       Nakhon Si Thammarat\n",
       "Name: nameEN, dtype: object"
      ]
     },
     "execution_count": 30,
     "metadata": {},
     "output_type": "execute_result"
    }
   ],
   "source": [
    "province.head()"
   ]
  },
  {
   "cell_type": "code",
   "execution_count": 27,
   "metadata": {},
   "outputs": [
    {
     "data": {
      "text/plain": [
       "150"
      ]
     },
     "execution_count": 27,
     "metadata": {},
     "output_type": "execute_result"
    }
   ],
   "source": [
    "province.nunique()"
   ]
  },
  {
   "cell_type": "code",
   "execution_count": 37,
   "metadata": {},
   "outputs": [
    {
     "data": {
      "text/html": [
       "<div>\n",
       "<style scoped>\n",
       "    .dataframe tbody tr th:only-of-type {\n",
       "        vertical-align: middle;\n",
       "    }\n",
       "\n",
       "    .dataframe tbody tr th {\n",
       "        vertical-align: top;\n",
       "    }\n",
       "\n",
       "    .dataframe thead th {\n",
       "        text-align: right;\n",
       "    }\n",
       "</style>\n",
       "<table border=\"1\" class=\"dataframe\">\n",
       "  <thead>\n",
       "    <tr style=\"text-align: right;\">\n",
       "      <th></th>\n",
       "      <th>lat</th>\n",
       "      <th>long</th>\n",
       "    </tr>\n",
       "  </thead>\n",
       "  <tbody>\n",
       "    <tr>\n",
       "      <th>0</th>\n",
       "      <td>16.750102</td>\n",
       "      <td>98.591312</td>\n",
       "    </tr>\n",
       "    <tr>\n",
       "      <th>1</th>\n",
       "      <td>13.832076</td>\n",
       "      <td>100.057961</td>\n",
       "    </tr>\n",
       "    <tr>\n",
       "      <th>2</th>\n",
       "      <td>14.979726</td>\n",
       "      <td>102.098301</td>\n",
       "    </tr>\n",
       "    <tr>\n",
       "      <th>3</th>\n",
       "      <td>8.427328</td>\n",
       "      <td>99.963666</td>\n",
       "    </tr>\n",
       "    <tr>\n",
       "      <th>4</th>\n",
       "      <td>8.064768</td>\n",
       "      <td>100.191452</td>\n",
       "    </tr>\n",
       "  </tbody>\n",
       "</table>\n",
       "</div>"
      ],
      "text/plain": [
       "         lat        long\n",
       "0  16.750102   98.591312\n",
       "1  13.832076  100.057961\n",
       "2  14.979726  102.098301\n",
       "3   8.427328   99.963666\n",
       "4   8.064768  100.191452"
      ]
     },
     "execution_count": 37,
     "metadata": {},
     "output_type": "execute_result"
    }
   ],
   "source": [
    "dataframe[[\"lat\",\"long\"]].head()"
   ]
  },
  {
   "cell_type": "code",
   "execution_count": 38,
   "metadata": {},
   "outputs": [
    {
     "ename": "SyntaxError",
     "evalue": "invalid syntax (2530011544.py, line 2)",
     "output_type": "error",
     "traceback": [
      "\u001b[1;36m  Input \u001b[1;32mIn [38]\u001b[1;36m\u001b[0m\n\u001b[1;33m    dataframe[[\"lat\",\"long\"]].apply(lambda (x,y) : temp.append((x,y)))\u001b[0m\n\u001b[1;37m                                           ^\u001b[0m\n\u001b[1;31mSyntaxError\u001b[0m\u001b[1;31m:\u001b[0m invalid syntax\n"
     ]
    }
   ],
   "source": [
    "temp = []\n",
    "dataframe[[\"lat\",\"long\"]].apply(lambda (x,y) : temp.append((x,y)))"
   ]
  },
  {
   "cell_type": "code",
   "execution_count": 34,
   "metadata": {},
   "outputs": [
    {
     "data": {
      "text/plain": [
       "[0          16.750102\n",
       " 1          13.832076\n",
       " 2          14.979726\n",
       " 3           8.427328\n",
       " 4           8.064768\n",
       "              ...    \n",
       " 1748632    13.718689\n",
       " 1748633    13.682136\n",
       " 1748634    13.759085\n",
       " 1748635    13.776664\n",
       " 1748636    13.756281\n",
       " Name: lat, Length: 1748637, dtype: float64,\n",
       " 0           98.591312\n",
       " 1          100.057961\n",
       " 2          102.098301\n",
       " 3           99.963666\n",
       " 4          100.191452\n",
       "               ...    \n",
       " 1748632    100.453910\n",
       " 1748633    100.506051\n",
       " 1748634    100.534579\n",
       " 1748635    100.520982\n",
       " 1748636    100.514267\n",
       " Name: long, Length: 1748637, dtype: float64]"
      ]
     },
     "execution_count": 34,
     "metadata": {},
     "output_type": "execute_result"
    }
   ],
   "source": [
    "temp"
   ]
  },
  {
   "cell_type": "code",
   "execution_count": 69,
   "metadata": {},
   "outputs": [],
   "source": [
    "provinceName=['เชียงราย', \n",
    "'เชียงใหม่',\n",
    "'น่าน', \n",
    "'พะเยา', \n",
    "'แพร่', \n",
    "'แม่ฮ่องสอน', \n",
    "'ลำปาง', \n",
    "'ลำพูน', \n",
    "'อุตรดิตถ์',\n",
    "'กาฬสินธุ์',\n",
    "'ขอนแก่น',\n",
    "'ชัยภูมิ',\n",
    "'นครพนม',\n",
    "'นครราชสีมา',\n",
    "'บึงกาฬ',\n",
    "'บุรีรัมย์',\n",
    "'มหาสารคาม',\n",
    "'มุกดาหาร',\n",
    "'ยโสธร',\n",
    "'ร้อยเอ็ด',\n",
    "'เลย',\n",
    "'สกลนคร',\n",
    "'สุรินทร์',\n",
    "'ศรีสะเกษ'\n",
    "'หนองคาย',\n",
    "'หนองบัวลำภู',\n",
    "'อุดรธานี',\n",
    "'อุบลราชธานี',\n",
    "'อำนาจเจริญ',\n",
    "'กำแพงเพชร',\n",
    "'ชัยนาท',\n",
    "'นครนายก',\n",
    "'นครปฐม',\n",
    "'นครสวรรค์',\n",
    "'นนทบุรี',\n",
    "'ปทุมธานี',\n",
    "'พระนครศรีอยุธยา',\n",
    "'พิจิตร',\n",
    "'พิษณุโลก',\n",
    "'เพชรบูรณ์',\n",
    "'ลพบุรี',\n",
    "'สมุทรปราการ',\n",
    "'สมุทรสงคราม',\n",
    "'สมุทรสาคร',\n",
    "'สิงห์บุรี',\n",
    "'สุโขทัย',\n",
    "'สุพรรณบุรี',\n",
    "'สระบุรี',\n",
    "'อ่างทอง',\n",
    "'อุทัยธานี',\n",
    "'จันทบุรี',\n",
    "'ฉะเชิงเทรา', \n",
    "'ลพบุรี',\n",
    "'ตราด',\n",
    "'ปราจีนบุรี',\n",
    "'ระยอง',\n",
    "'สระแก้ว'\n",
    "'กาญจนบุรี',\n",
    "'ตาก',\n",
    "'ประจวบคีรีขันธ์',\n",
    "'เพชรบุรี',\n",
    "'ราชบุรี',\n",
    "'กระบี่',\n",
    "'ชุุมพร',\n",
    "'ตรัง',\n",
    "'นครศรีธรรมราช',\n",
    "'นราธิวาส',\n",
    "'ปัตตานี',\n",
    "'พังงา',\n",
    "'พัทลุง',\n",
    "'ูภูเก็ต',\n",
    "'ระนอง',\n",
    "'สตูล',\n",
    "'สงขลา',\n",
    "'สุราษฎร์ธานี',\n",
    "'ยะลา',\n",
    "'กรุงเทพฯ',\n",
    "'กรุงเทพมหานคร']"
   ]
  },
  {
   "cell_type": "code",
   "execution_count": 63,
   "metadata": {},
   "outputs": [
    {
     "data": {
      "text/plain": [
       "'ต.บ้านเหนือ อ.เมือง, กาญจนบุรี'"
      ]
     },
     "execution_count": 63,
     "metadata": {},
     "output_type": "execute_result"
    }
   ],
   "source": [
    "dataframe.iloc[80][\"areaTH\"]"
   ]
  },
  {
   "cell_type": "code",
   "execution_count": 64,
   "metadata": {},
   "outputs": [
    {
     "name": "stdout",
     "output_type": "stream",
     "text": [
      "True\n"
     ]
    }
   ],
   "source": [
    "data = \"ต.บ้านเหนือ อ.เมือง, กาญจนบุรี\"\n",
    "data2 = \"กาญจนบุรี\"\n",
    "print(data2 in dataframe.iloc[80][\"areaTH\"])"
   ]
  },
  {
   "cell_type": "code",
   "execution_count": 70,
   "metadata": {},
   "outputs": [],
   "source": [
    "def checkContainProvince(x):\n",
    "    for i in range (0,len(provinceName)):\n",
    "        if (provinceName[i] in x):\n",
    "            return i \n",
    "    return -1    \n",
    "        "
   ]
  },
  {
   "cell_type": "code",
   "execution_count": 71,
   "metadata": {},
   "outputs": [],
   "source": [
    "dataframe['provinceNo'] = dataframe['areaTH'].apply(lambda x : checkContainProvince(x))"
   ]
  },
  {
   "cell_type": "code",
   "execution_count": 72,
   "metadata": {},
   "outputs": [
    {
     "data": {
      "text/plain": [
       " 74    757359\n",
       "-1     110796\n",
       " 54     78403\n",
       " 40     75066\n",
       " 6      52039\n",
       " 1      40766\n",
       " 42     26327\n",
       " 0      26219\n",
       " 64     26210\n",
       " 73     26131\n",
       "Name: provinceNo, dtype: int64"
      ]
     },
     "execution_count": 72,
     "metadata": {},
     "output_type": "execute_result"
    }
   ],
   "source": [
    "dataframe['provinceNo'].value_counts().head(10)"
   ]
  },
  {
   "cell_type": "code",
   "execution_count": 73,
   "metadata": {},
   "outputs": [],
   "source": [
    "filter = dataframe['provinceNo'] == -1"
   ]
  },
  {
   "cell_type": "code",
   "execution_count": 74,
   "metadata": {},
   "outputs": [
    {
     "data": {
      "text/html": [
       "<div>\n",
       "<style scoped>\n",
       "    .dataframe tbody tr th:only-of-type {\n",
       "        vertical-align: middle;\n",
       "    }\n",
       "\n",
       "    .dataframe tbody tr th {\n",
       "        vertical-align: top;\n",
       "    }\n",
       "\n",
       "    .dataframe thead th {\n",
       "        text-align: right;\n",
       "    }\n",
       "</style>\n",
       "<table border=\"1\" class=\"dataframe\">\n",
       "  <thead>\n",
       "    <tr style=\"text-align: right;\">\n",
       "      <th></th>\n",
       "      <th>id</th>\n",
       "      <th>stationID</th>\n",
       "      <th>nameTH</th>\n",
       "      <th>nameEN</th>\n",
       "      <th>stationType</th>\n",
       "      <th>lat</th>\n",
       "      <th>long</th>\n",
       "      <th>date_aq</th>\n",
       "      <th>time_aq</th>\n",
       "      <th>PM25</th>\n",
       "      <th>PM10</th>\n",
       "      <th>NO2</th>\n",
       "      <th>SO2</th>\n",
       "      <th>CO</th>\n",
       "      <th>O3</th>\n",
       "      <th>AQI</th>\n",
       "      <th>areaTH</th>\n",
       "      <th>areaEN</th>\n",
       "      <th>datetime_aq</th>\n",
       "      <th>provinceNo</th>\n",
       "    </tr>\n",
       "  </thead>\n",
       "  <tbody>\n",
       "    <tr>\n",
       "      <th>18</th>\n",
       "      <td>515472</td>\n",
       "      <td>43t</td>\n",
       "      <td>ศูนย์บริการสาธารณสุขเทศบาลภูเก็ต</td>\n",
       "      <td>Municipal Health Center</td>\n",
       "      <td>GROUND</td>\n",
       "      <td>7.884508</td>\n",
       "      <td>98.391318</td>\n",
       "      <td>2020-07-20</td>\n",
       "      <td>21:00:00</td>\n",
       "      <td>12.0</td>\n",
       "      <td>25.0</td>\n",
       "      <td>18.0</td>\n",
       "      <td>1.0</td>\n",
       "      <td>0.41</td>\n",
       "      <td>13.0</td>\n",
       "      <td>1</td>\n",
       "      <td>ต.ตลาดใหญ่ อ.เมือง, ภูเก็ต</td>\n",
       "      <td>Talat Yai, Mueang, Phuket</td>\n",
       "      <td>2020-07-20 21:00:00.000</td>\n",
       "      <td>-1</td>\n",
       "    </tr>\n",
       "    <tr>\n",
       "      <th>46</th>\n",
       "      <td>515500</td>\n",
       "      <td>71t</td>\n",
       "      <td>โรงเรียนอนุบาลศรีอรัญโญทัย</td>\n",
       "      <td>Sriaranyothai Kindergarten</td>\n",
       "      <td>GROUND</td>\n",
       "      <td>13.692122</td>\n",
       "      <td>102.502124</td>\n",
       "      <td>2020-07-20</td>\n",
       "      <td>21:00:00</td>\n",
       "      <td>7.0</td>\n",
       "      <td>29.0</td>\n",
       "      <td>NaN</td>\n",
       "      <td>NaN</td>\n",
       "      <td>NaN</td>\n",
       "      <td>NaN</td>\n",
       "      <td>1</td>\n",
       "      <td>ต.อรัญประเทศ อ.อรัญประเทศ, สระแก้ว</td>\n",
       "      <td>Aranyaprathet, Aranyaprathet, Sa Kaeo</td>\n",
       "      <td>2020-07-20 21:00:00.000</td>\n",
       "      <td>-1</td>\n",
       "    </tr>\n",
       "    <tr>\n",
       "      <th>49</th>\n",
       "      <td>515503</td>\n",
       "      <td>82t</td>\n",
       "      <td>สวนสาธารณะหนองถิ่น</td>\n",
       "      <td>Nong Thin Public Park, Nong Khai</td>\n",
       "      <td>GROUND</td>\n",
       "      <td>17.877480</td>\n",
       "      <td>102.728925</td>\n",
       "      <td>2020-07-20</td>\n",
       "      <td>21:00:00</td>\n",
       "      <td>6.0</td>\n",
       "      <td>13.0</td>\n",
       "      <td>3.0</td>\n",
       "      <td>0.0</td>\n",
       "      <td>0.22</td>\n",
       "      <td>18.0</td>\n",
       "      <td>1</td>\n",
       "      <td>ต.มีชัย อ.เมือง, หนองคาย</td>\n",
       "      <td>Meechai, Meuang, Nong Khai</td>\n",
       "      <td>2020-07-20 21:00:00.000</td>\n",
       "      <td>-1</td>\n",
       "    </tr>\n",
       "    <tr>\n",
       "      <th>80</th>\n",
       "      <td>515576</td>\n",
       "      <td>79t</td>\n",
       "      <td>สถานีอุตุนิยมวิทยา จ.กาญจนบุรี</td>\n",
       "      <td>Kanchanaburi Meteorological Station</td>\n",
       "      <td>GROUND</td>\n",
       "      <td>14.022425</td>\n",
       "      <td>99.536118</td>\n",
       "      <td>2020-07-20</td>\n",
       "      <td>22:00:00</td>\n",
       "      <td>7.0</td>\n",
       "      <td>14.0</td>\n",
       "      <td>8.0</td>\n",
       "      <td>1.0</td>\n",
       "      <td>0.44</td>\n",
       "      <td>14.0</td>\n",
       "      <td>1</td>\n",
       "      <td>ต.บ้านเหนือ อ.เมือง, กาญจนบุรี</td>\n",
       "      <td>Ban Nuea, Mueang, Kanchanaburi</td>\n",
       "      <td>2020-07-20 22:00:00.000</td>\n",
       "      <td>-1</td>\n",
       "    </tr>\n",
       "    <tr>\n",
       "      <th>83</th>\n",
       "      <td>515579</td>\n",
       "      <td>32t</td>\n",
       "      <td>สนามกีฬาเทศบาลแหลมฉบัง</td>\n",
       "      <td>Laem Chabang Municipal Stadium</td>\n",
       "      <td>GROUND</td>\n",
       "      <td>13.119214</td>\n",
       "      <td>100.918596</td>\n",
       "      <td>2020-07-20</td>\n",
       "      <td>22:00:00</td>\n",
       "      <td>11.0</td>\n",
       "      <td>31.0</td>\n",
       "      <td>NaN</td>\n",
       "      <td>NaN</td>\n",
       "      <td>NaN</td>\n",
       "      <td>15.0</td>\n",
       "      <td>1</td>\n",
       "      <td>ต.ทุ่งสุขลา อ.ศรีราชา, ชลบุรี</td>\n",
       "      <td>Thung Sukhla, Si Racha, Chon buri</td>\n",
       "      <td>2020-07-20 22:00:00.000</td>\n",
       "      <td>-1</td>\n",
       "    </tr>\n",
       "  </tbody>\n",
       "</table>\n",
       "</div>"
      ],
      "text/plain": [
       "        id stationID                            nameTH  \\\n",
       "18  515472       43t  ศูนย์บริการสาธารณสุขเทศบาลภูเก็ต   \n",
       "46  515500       71t        โรงเรียนอนุบาลศรีอรัญโญทัย   \n",
       "49  515503       82t                สวนสาธารณะหนองถิ่น   \n",
       "80  515576       79t    สถานีอุตุนิยมวิทยา จ.กาญจนบุรี   \n",
       "83  515579       32t           สนามกีฬาเทศบาลแหลมฉบัง    \n",
       "\n",
       "                                 nameEN stationType        lat        long  \\\n",
       "18              Municipal Health Center      GROUND   7.884508   98.391318   \n",
       "46           Sriaranyothai Kindergarten      GROUND  13.692122  102.502124   \n",
       "49     Nong Thin Public Park, Nong Khai      GROUND  17.877480  102.728925   \n",
       "80  Kanchanaburi Meteorological Station      GROUND  14.022425   99.536118   \n",
       "83       Laem Chabang Municipal Stadium      GROUND  13.119214  100.918596   \n",
       "\n",
       "       date_aq   time_aq  PM25  PM10   NO2  SO2    CO    O3  AQI  \\\n",
       "18  2020-07-20  21:00:00  12.0  25.0  18.0  1.0  0.41  13.0    1   \n",
       "46  2020-07-20  21:00:00   7.0  29.0   NaN  NaN   NaN   NaN    1   \n",
       "49  2020-07-20  21:00:00   6.0  13.0   3.0  0.0  0.22  18.0    1   \n",
       "80  2020-07-20  22:00:00   7.0  14.0   8.0  1.0  0.44  14.0    1   \n",
       "83  2020-07-20  22:00:00  11.0  31.0   NaN  NaN   NaN  15.0    1   \n",
       "\n",
       "                                areaTH                                 areaEN  \\\n",
       "18          ต.ตลาดใหญ่ อ.เมือง, ภูเก็ต              Talat Yai, Mueang, Phuket   \n",
       "46  ต.อรัญประเทศ อ.อรัญประเทศ, สระแก้ว  Aranyaprathet, Aranyaprathet, Sa Kaeo   \n",
       "49            ต.มีชัย อ.เมือง, หนองคาย             Meechai, Meuang, Nong Khai   \n",
       "80      ต.บ้านเหนือ อ.เมือง, กาญจนบุรี         Ban Nuea, Mueang, Kanchanaburi   \n",
       "83       ต.ทุ่งสุขลา อ.ศรีราชา, ชลบุรี      Thung Sukhla, Si Racha, Chon buri   \n",
       "\n",
       "                datetime_aq  provinceNo  \n",
       "18  2020-07-20 21:00:00.000          -1  \n",
       "46  2020-07-20 21:00:00.000          -1  \n",
       "49  2020-07-20 21:00:00.000          -1  \n",
       "80  2020-07-20 22:00:00.000          -1  \n",
       "83  2020-07-20 22:00:00.000          -1  "
      ]
     },
     "execution_count": 74,
     "metadata": {},
     "output_type": "execute_result"
    }
   ],
   "source": [
    "dataframe[filter].head()"
   ]
  }
 ],
 "metadata": {
  "interpreter": {
   "hash": "363f465c024f42953412273ca7ebb636505daa3e8ad8d144423574f486004e16"
  },
  "kernelspec": {
   "display_name": "Python 3.9.5 64-bit",
   "language": "python",
   "name": "python3"
  },
  "language_info": {
   "codemirror_mode": {
    "name": "ipython",
    "version": 3
   },
   "file_extension": ".py",
   "mimetype": "text/x-python",
   "name": "python",
   "nbconvert_exporter": "python",
   "pygments_lexer": "ipython3",
   "version": "3.9.5"
  },
  "orig_nbformat": 4
 },
 "nbformat": 4,
 "nbformat_minor": 2
}
