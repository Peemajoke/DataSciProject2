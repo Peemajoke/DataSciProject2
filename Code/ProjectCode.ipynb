{
 "cells": [
  {
   "cell_type": "code",
   "execution_count": 1,
   "metadata": {},
   "outputs": [],
   "source": [
    "import pandas as pd"
   ]
  },
  {
   "cell_type": "code",
   "execution_count": 2,
   "metadata": {},
   "outputs": [],
   "source": [
    "dataframe = pd.read_csv(\"../Data/PCD data after 2020-7.csv\")"
   ]
  },
  {
   "cell_type": "code",
   "execution_count": 3,
   "metadata": {},
   "outputs": [
    {
     "data": {
      "text/html": [
       "<div>\n",
       "<style scoped>\n",
       "    .dataframe tbody tr th:only-of-type {\n",
       "        vertical-align: middle;\n",
       "    }\n",
       "\n",
       "    .dataframe tbody tr th {\n",
       "        vertical-align: top;\n",
       "    }\n",
       "\n",
       "    .dataframe thead th {\n",
       "        text-align: right;\n",
       "    }\n",
       "</style>\n",
       "<table border=\"1\" class=\"dataframe\">\n",
       "  <thead>\n",
       "    <tr style=\"text-align: right;\">\n",
       "      <th></th>\n",
       "      <th>id</th>\n",
       "      <th>stationID</th>\n",
       "      <th>nameTH</th>\n",
       "      <th>nameEN</th>\n",
       "      <th>stationType</th>\n",
       "      <th>lat</th>\n",
       "      <th>long</th>\n",
       "      <th>date_aq</th>\n",
       "      <th>time_aq</th>\n",
       "      <th>PM25</th>\n",
       "      <th>PM10</th>\n",
       "      <th>NO2</th>\n",
       "      <th>SO2</th>\n",
       "      <th>CO</th>\n",
       "      <th>O3</th>\n",
       "      <th>AQI</th>\n",
       "      <th>areaTH</th>\n",
       "      <th>areaEN</th>\n",
       "      <th>datetime_aq</th>\n",
       "    </tr>\n",
       "  </thead>\n",
       "  <tbody>\n",
       "    <tr>\n",
       "      <th>0</th>\n",
       "      <td>515454</td>\n",
       "      <td>76t</td>\n",
       "      <td>ศูนย์การศึกษานอกโรงเรียน</td>\n",
       "      <td>Non-Formal Education Centre, Mea Sot</td>\n",
       "      <td>GROUND</td>\n",
       "      <td>16.750102</td>\n",
       "      <td>98.591312</td>\n",
       "      <td>2020-07-20</td>\n",
       "      <td>21:00:00</td>\n",
       "      <td>8.0</td>\n",
       "      <td>22.0</td>\n",
       "      <td>4.0</td>\n",
       "      <td>NaN</td>\n",
       "      <td>0.13</td>\n",
       "      <td>13.0</td>\n",
       "      <td>1</td>\n",
       "      <td>ต.แม่ปะ อ.แม่สอด, ตาก</td>\n",
       "      <td>MaePa, MaeSot, Tak</td>\n",
       "      <td>2020-07-20 21:00:00.000</td>\n",
       "    </tr>\n",
       "    <tr>\n",
       "      <th>1</th>\n",
       "      <td>515455</td>\n",
       "      <td>81t</td>\n",
       "      <td>อ่างเก็บน้ำประปา</td>\n",
       "      <td>Water reservoir</td>\n",
       "      <td>GROUND</td>\n",
       "      <td>13.832076</td>\n",
       "      <td>100.057961</td>\n",
       "      <td>2020-07-20</td>\n",
       "      <td>21:00:00</td>\n",
       "      <td>10.0</td>\n",
       "      <td>24.0</td>\n",
       "      <td>9.0</td>\n",
       "      <td>1.0</td>\n",
       "      <td>0.58</td>\n",
       "      <td>27.0</td>\n",
       "      <td>1</td>\n",
       "      <td>ต.นครปฐม อ.เมือง, นครปฐม</td>\n",
       "      <td>Mueang, Nakhon Pathom</td>\n",
       "      <td>2020-07-20 21:00:00.000</td>\n",
       "    </tr>\n",
       "    <tr>\n",
       "      <th>2</th>\n",
       "      <td>515456</td>\n",
       "      <td>47t</td>\n",
       "      <td>สถานีสูบน้ำประตูพลแสน</td>\n",
       "      <td>Municipal Waste Water Pumping Station</td>\n",
       "      <td>GROUND</td>\n",
       "      <td>14.979726</td>\n",
       "      <td>102.098301</td>\n",
       "      <td>2020-07-20</td>\n",
       "      <td>21:00:00</td>\n",
       "      <td>17.0</td>\n",
       "      <td>35.0</td>\n",
       "      <td>12.0</td>\n",
       "      <td>0.0</td>\n",
       "      <td>0.61</td>\n",
       "      <td>7.0</td>\n",
       "      <td>1</td>\n",
       "      <td>ต.ในเมือง อ.เมือง, นครราชสีมา</td>\n",
       "      <td>Nai Mueang, Mueang, Nakhon Ratchasima</td>\n",
       "      <td>2020-07-20 21:00:00.000</td>\n",
       "    </tr>\n",
       "    <tr>\n",
       "      <th>3</th>\n",
       "      <td>515457</td>\n",
       "      <td>m3</td>\n",
       "      <td>สำนักงานพระพุทธศาสนา จังหวัดนครศรีธรรมราช</td>\n",
       "      <td>Office Of Buddhism Nakhon Si Thammarat</td>\n",
       "      <td>MOBILE</td>\n",
       "      <td>8.427328</td>\n",
       "      <td>99.963666</td>\n",
       "      <td>2020-07-20</td>\n",
       "      <td>20:00:00</td>\n",
       "      <td>10.0</td>\n",
       "      <td>24.0</td>\n",
       "      <td>NaN</td>\n",
       "      <td>NaN</td>\n",
       "      <td>NaN</td>\n",
       "      <td>NaN</td>\n",
       "      <td>1</td>\n",
       "      <td>ต.ในเมือง อ.เมือง, นครศรีธรรมราช</td>\n",
       "      <td>Mueang, Nakhon Si Thammarat</td>\n",
       "      <td>2020-07-20 20:00:00.000</td>\n",
       "    </tr>\n",
       "    <tr>\n",
       "      <th>4</th>\n",
       "      <td>515458</td>\n",
       "      <td>o26</td>\n",
       "      <td>โรงพยาบาลส่งเสริมสุขภาพตำบลเขาพระบาท อ.เชียรให...</td>\n",
       "      <td>Khao Phra Bat Health Promotion Hospital, Chian...</td>\n",
       "      <td>MOBILE</td>\n",
       "      <td>8.064768</td>\n",
       "      <td>100.191452</td>\n",
       "      <td>2020-07-20</td>\n",
       "      <td>21:00:00</td>\n",
       "      <td>6.0</td>\n",
       "      <td>NaN</td>\n",
       "      <td>NaN</td>\n",
       "      <td>NaN</td>\n",
       "      <td>NaN</td>\n",
       "      <td>NaN</td>\n",
       "      <td>1</td>\n",
       "      <td>ต.เขาพระบาท อ.เชียรใหญ่, นครศรีธรรมราช</td>\n",
       "      <td>Khao Phra Bat, Chian Yai, Nakhon Si Thammarat</td>\n",
       "      <td>2020-07-20 21:00:00.000</td>\n",
       "    </tr>\n",
       "  </tbody>\n",
       "</table>\n",
       "</div>"
      ],
      "text/plain": [
       "       id stationID                                             nameTH  \\\n",
       "0  515454       76t                           ศูนย์การศึกษานอกโรงเรียน   \n",
       "1  515455       81t                                   อ่างเก็บน้ำประปา   \n",
       "2  515456       47t                              สถานีสูบน้ำประตูพลแสน   \n",
       "3  515457        m3          สำนักงานพระพุทธศาสนา จังหวัดนครศรีธรรมราช   \n",
       "4  515458       o26  โรงพยาบาลส่งเสริมสุขภาพตำบลเขาพระบาท อ.เชียรให...   \n",
       "\n",
       "                                              nameEN stationType        lat  \\\n",
       "0               Non-Formal Education Centre, Mea Sot      GROUND  16.750102   \n",
       "1                                    Water reservoir      GROUND  13.832076   \n",
       "2              Municipal Waste Water Pumping Station      GROUND  14.979726   \n",
       "3             Office Of Buddhism Nakhon Si Thammarat      MOBILE   8.427328   \n",
       "4  Khao Phra Bat Health Promotion Hospital, Chian...      MOBILE   8.064768   \n",
       "\n",
       "         long     date_aq   time_aq  PM25  PM10   NO2  SO2    CO    O3  AQI  \\\n",
       "0   98.591312  2020-07-20  21:00:00   8.0  22.0   4.0  NaN  0.13  13.0    1   \n",
       "1  100.057961  2020-07-20  21:00:00  10.0  24.0   9.0  1.0  0.58  27.0    1   \n",
       "2  102.098301  2020-07-20  21:00:00  17.0  35.0  12.0  0.0  0.61   7.0    1   \n",
       "3   99.963666  2020-07-20  20:00:00  10.0  24.0   NaN  NaN   NaN   NaN    1   \n",
       "4  100.191452  2020-07-20  21:00:00   6.0   NaN   NaN  NaN   NaN   NaN    1   \n",
       "\n",
       "                                   areaTH  \\\n",
       "0                   ต.แม่ปะ อ.แม่สอด, ตาก   \n",
       "1                ต.นครปฐม อ.เมือง, นครปฐม   \n",
       "2           ต.ในเมือง อ.เมือง, นครราชสีมา   \n",
       "3        ต.ในเมือง อ.เมือง, นครศรีธรรมราช   \n",
       "4  ต.เขาพระบาท อ.เชียรใหญ่, นครศรีธรรมราช   \n",
       "\n",
       "                                          areaEN              datetime_aq  \n",
       "0                             MaePa, MaeSot, Tak  2020-07-20 21:00:00.000  \n",
       "1                          Mueang, Nakhon Pathom  2020-07-20 21:00:00.000  \n",
       "2          Nai Mueang, Mueang, Nakhon Ratchasima  2020-07-20 21:00:00.000  \n",
       "3                    Mueang, Nakhon Si Thammarat  2020-07-20 20:00:00.000  \n",
       "4  Khao Phra Bat, Chian Yai, Nakhon Si Thammarat  2020-07-20 21:00:00.000  "
      ]
     },
     "execution_count": 3,
     "metadata": {},
     "output_type": "execute_result"
    }
   ],
   "source": [
    "dataframe.head()"
   ]
  },
  {
   "cell_type": "code",
   "execution_count": 4,
   "metadata": {},
   "outputs": [
    {
     "data": {
      "text/plain": [
       "188"
      ]
     },
     "execution_count": 4,
     "metadata": {},
     "output_type": "execute_result"
    }
   ],
   "source": [
    "dataframe[\"areaTH\"].nunique()"
   ]
  },
  {
   "cell_type": "code",
   "execution_count": 5,
   "metadata": {},
   "outputs": [
    {
     "data": {
      "text/plain": [
       "Khao Phra Bat, Chian Yai, Nakhon Si Thammarat                                           2150\n",
       "Tambon Rahaeng, Amphoe Mueang, Tak                                                      2082\n",
       " Nai Mueang Subdistrict, Mueang District, Roi Et                                        1871\n",
       "Khuan Maphrao, Mueang, Phatthalung                                                      1849\n",
       "Mae Chaem,Chiang Mai                                                                    1611\n",
       "Mueang, Phangnga                                                                        1521\n",
       "Racha Thewa Subdistrict, Bang Phli District, Samut Prakan                               1411\n",
       "Dokmai Subdistrict, Prawet District, Bangkok                                            1380\n",
       "Mueang, Phitsanulok                                                                     1324\n",
       "Mueang District, Ranong                                                                 1289\n",
       " Bang Man Subdistrict, Mueang District, Sing Buri                                        916\n",
       "Mueang, Nakhon Si Thammarat                                                              787\n",
       "Charoen Muang Road, That Na Weng Subdistrict, Mueang District, Sakon Nakhon Province     566\n",
       " Bang Khen, Mueang, Nonthaburi                                                           402\n",
       " Ban Muang Sub-district, Ban Muang District, Sakon Nakhon Province                       224\n",
       "Nakhon Nayok Subdistrict, Mueang District, Nakhon Nayok                                  219\n",
       " Bang Krachao Subdistrict, Bang Krachao District, Samut Prakan                            70\n",
       "Wat Ket,Mueang Chiang Mai                                                                 51\n",
       "Tha Phae Gate,Mueang Chiang Mai                                                           29\n",
       "Ban Pang, Bang Sai, Phra Nakhon Si Ayutthaya                                              27\n",
       "Name: areaEN, dtype: int64"
      ]
     },
     "execution_count": 5,
     "metadata": {},
     "output_type": "execute_result"
    }
   ],
   "source": [
    "dataframe[\"areaEN\"].value_counts().tail(20)"
   ]
  },
  {
   "cell_type": "code",
   "execution_count": 6,
   "metadata": {},
   "outputs": [
    {
     "data": {
      "text/plain": [
       "151"
      ]
     },
     "execution_count": 6,
     "metadata": {},
     "output_type": "execute_result"
    }
   ],
   "source": [
    "dataframe[\"stationID\"].nunique()"
   ]
  },
  {
   "cell_type": "code",
   "execution_count": 7,
   "metadata": {},
   "outputs": [],
   "source": [
    "province = dataframe[\"nameEN\"].apply(lambda x : x.split(', ')[-1])"
   ]
  },
  {
   "cell_type": "code",
   "execution_count": 8,
   "metadata": {},
   "outputs": [
    {
     "data": {
      "text/plain": [
       "0                                   Mea Sot\n",
       "1                           Water reservoir\n",
       "2     Municipal Waste Water Pumping Station\n",
       "3    Office Of Buddhism Nakhon Si Thammarat\n",
       "4                       Nakhon Si Thammarat\n",
       "Name: nameEN, dtype: object"
      ]
     },
     "execution_count": 8,
     "metadata": {},
     "output_type": "execute_result"
    }
   ],
   "source": [
    "province.head()"
   ]
  },
  {
   "cell_type": "code",
   "execution_count": 9,
   "metadata": {},
   "outputs": [
    {
     "data": {
      "text/plain": [
       "150"
      ]
     },
     "execution_count": 9,
     "metadata": {},
     "output_type": "execute_result"
    }
   ],
   "source": [
    "province.nunique()"
   ]
  },
  {
   "cell_type": "code",
   "execution_count": 10,
   "metadata": {},
   "outputs": [
    {
     "data": {
      "text/html": [
       "<div>\n",
       "<style scoped>\n",
       "    .dataframe tbody tr th:only-of-type {\n",
       "        vertical-align: middle;\n",
       "    }\n",
       "\n",
       "    .dataframe tbody tr th {\n",
       "        vertical-align: top;\n",
       "    }\n",
       "\n",
       "    .dataframe thead th {\n",
       "        text-align: right;\n",
       "    }\n",
       "</style>\n",
       "<table border=\"1\" class=\"dataframe\">\n",
       "  <thead>\n",
       "    <tr style=\"text-align: right;\">\n",
       "      <th></th>\n",
       "      <th>lat</th>\n",
       "      <th>long</th>\n",
       "    </tr>\n",
       "  </thead>\n",
       "  <tbody>\n",
       "    <tr>\n",
       "      <th>0</th>\n",
       "      <td>16.750102</td>\n",
       "      <td>98.591312</td>\n",
       "    </tr>\n",
       "    <tr>\n",
       "      <th>1</th>\n",
       "      <td>13.832076</td>\n",
       "      <td>100.057961</td>\n",
       "    </tr>\n",
       "    <tr>\n",
       "      <th>2</th>\n",
       "      <td>14.979726</td>\n",
       "      <td>102.098301</td>\n",
       "    </tr>\n",
       "    <tr>\n",
       "      <th>3</th>\n",
       "      <td>8.427328</td>\n",
       "      <td>99.963666</td>\n",
       "    </tr>\n",
       "    <tr>\n",
       "      <th>4</th>\n",
       "      <td>8.064768</td>\n",
       "      <td>100.191452</td>\n",
       "    </tr>\n",
       "  </tbody>\n",
       "</table>\n",
       "</div>"
      ],
      "text/plain": [
       "         lat        long\n",
       "0  16.750102   98.591312\n",
       "1  13.832076  100.057961\n",
       "2  14.979726  102.098301\n",
       "3   8.427328   99.963666\n",
       "4   8.064768  100.191452"
      ]
     },
     "execution_count": 10,
     "metadata": {},
     "output_type": "execute_result"
    }
   ],
   "source": [
    "dataframe[[\"lat\",\"long\"]].head()"
   ]
  },
  {
   "cell_type": "code",
   "execution_count": 11,
   "metadata": {},
   "outputs": [],
   "source": [
    "provinceName=['เชียงราย', \n",
    "'เชียงใหม่',\n",
    "'น่าน', \n",
    "'พะเยา', \n",
    "'แพร่', \n",
    "'แม่ฮ่องสอน', \n",
    "'ลำปาง', \n",
    "'ลำพูน', \n",
    "'อุตรดิตถ์',\n",
    "'กาฬสินธ์ุ',\n",
    "'ขอนแก่น',\n",
    "'ชัยภูมิ',\n",
    "'นครพนม',\n",
    "'นครราชสีมา',\n",
    "'บึงกาฬ',\n",
    "'บุรีรัมย์',\n",
    "'มหาสารคาม',\n",
    "'มุกดาหาร',\n",
    "'ยโสธร',\n",
    "'ร้อยเอ็ด',\n",
    "'เลย',\n",
    "'สกลนคร',\n",
    "'สุรินทร์',\n",
    "'ศรีสะเกษ',\n",
    "'หนองคาย',\n",
    "'หนองบัวลำภู',\n",
    "'อุดรธานี',\n",
    "'อุบลราชธานี',\n",
    "'อำนาจเจริญ',\n",
    "'กำแพงเพชร',\n",
    "'ชัยนาท',\n",
    "'นครนายก',\n",
    "'นครปฐม',\n",
    "'นครสวรรค์',\n",
    "'นนทบุรี',\n",
    "'ปทุมธานี',\n",
    "'พระนครศรีอยุธยา',\n",
    "'พิจิตร',\n",
    "'พิษณุโลก',\n",
    "'เพชรบูรณ์',\n",
    "'ลพบุรี',\n",
    "'สมุทรปราการ',\n",
    "'สมุทรสงคราม',\n",
    "'สมุทรสาคร',\n",
    "'สิงห์บุรี',\n",
    "'สุโขทัย',\n",
    "'สุพรรณบุรี',\n",
    "'สระบุรี',\n",
    "'อ่างทอง',\n",
    "'อุทัยธานี',\n",
    "'จันทบุรี',\n",
    "'ฉะเชิงเทรา', \n",
    "'ตราด',\n",
    "'ปราจีนบุรี',\n",
    "'ระยอง',\n",
    "'สระแก้ว',\n",
    "'กาญจนบุรี',\n",
    "'ตาก',\n",
    "'ประจวบคีรีขันธ์',\n",
    "'เพชรบุรี',\n",
    "'ราชบุรี',\n",
    "'กระบี่',\n",
    "'ชุุมพร',\n",
    "'ตรัง',\n",
    "'นครศรีธรรมราช',\n",
    "'นราธิวาส',\n",
    "'ปัตตานี',\n",
    "'พังงา',\n",
    "'พัทลุง',\n",
    "'ภูเก็ต',\n",
    "'ระนอง',\n",
    "'สตูล',\n",
    "'สงขลา',\n",
    "'สุราษฎร์ธานี',\n",
    "'ยะลา',\n",
    "'กรุงเทพฯ',\n",
    "'ชลบุรี']"
   ]
  },
  {
   "cell_type": "code",
   "execution_count": 12,
   "metadata": {},
   "outputs": [],
   "source": [
    "dataframe[\"areaTH\"].replace({\"แขวงคลองกุ่ม เขตบึงกุ่ม\":\"กรุงเทพฯ\",\"เขตปลอดอากรท่าอากาศยานสุวรรณภูมิ\":\"สมุทรปราการ\",\"หมู่บ้านทูแกรนด์โมนาโค\":\"กรุงเทพฯ\",\"หมู่บ้านแกรนด์โมนาโค\":\"กรุงเทพฯ\",\"หมู่บ้านลลิน กรีนวิลล์\":\"กรุงเทพฯ\",\"แขวงดอกไม้ เขตประเวศ, กรุงเทพมหานคร\":\"กรุงเทพฯ\"},inplace=True)"
   ]
  },
  {
   "cell_type": "code",
   "execution_count": 13,
   "metadata": {},
   "outputs": [],
   "source": [
    "def checkContainProvince(x):\n",
    "    for i in range (0,len(provinceName)):\n",
    "        if (provinceName[i] in x):\n",
    "            return i \n",
    "    #print(x)\n",
    "    return -1    \n",
    "        "
   ]
  },
  {
   "cell_type": "code",
   "execution_count": 14,
   "metadata": {},
   "outputs": [],
   "source": [
    "dataframe['provinceNo'] = dataframe['areaTH'].apply(lambda x : checkContainProvince(x))"
   ]
  },
  {
   "cell_type": "code",
   "execution_count": 15,
   "metadata": {},
   "outputs": [
    {
     "data": {
      "text/plain": [
       "75    771078\n",
       "54     78403\n",
       "41     75091\n",
       "6      52039\n",
       "1      40766\n",
       "76     37951\n",
       "43     26327\n",
       "0      26219\n",
       "65     26210\n",
       "74     26131\n",
       "Name: provinceNo, dtype: int64"
      ]
     },
     "execution_count": 15,
     "metadata": {},
     "output_type": "execute_result"
    }
   ],
   "source": [
    "dataframe['provinceNo'].value_counts().head(10)"
   ]
  },
  {
   "cell_type": "code",
   "execution_count": 16,
   "metadata": {},
   "outputs": [],
   "source": [
    "filter = dataframe['provinceNo'] == -1"
   ]
  },
  {
   "cell_type": "code",
   "execution_count": 17,
   "metadata": {},
   "outputs": [
    {
     "data": {
      "text/html": [
       "<div>\n",
       "<style scoped>\n",
       "    .dataframe tbody tr th:only-of-type {\n",
       "        vertical-align: middle;\n",
       "    }\n",
       "\n",
       "    .dataframe tbody tr th {\n",
       "        vertical-align: top;\n",
       "    }\n",
       "\n",
       "    .dataframe thead th {\n",
       "        text-align: right;\n",
       "    }\n",
       "</style>\n",
       "<table border=\"1\" class=\"dataframe\">\n",
       "  <thead>\n",
       "    <tr style=\"text-align: right;\">\n",
       "      <th></th>\n",
       "      <th>id</th>\n",
       "      <th>stationID</th>\n",
       "      <th>nameTH</th>\n",
       "      <th>nameEN</th>\n",
       "      <th>stationType</th>\n",
       "      <th>lat</th>\n",
       "      <th>long</th>\n",
       "      <th>date_aq</th>\n",
       "      <th>time_aq</th>\n",
       "      <th>PM25</th>\n",
       "      <th>PM10</th>\n",
       "      <th>NO2</th>\n",
       "      <th>SO2</th>\n",
       "      <th>CO</th>\n",
       "      <th>O3</th>\n",
       "      <th>AQI</th>\n",
       "      <th>areaTH</th>\n",
       "      <th>areaEN</th>\n",
       "      <th>datetime_aq</th>\n",
       "      <th>provinceNo</th>\n",
       "    </tr>\n",
       "  </thead>\n",
       "  <tbody>\n",
       "  </tbody>\n",
       "</table>\n",
       "</div>"
      ],
      "text/plain": [
       "Empty DataFrame\n",
       "Columns: [id, stationID, nameTH, nameEN, stationType, lat, long, date_aq, time_aq, PM25, PM10, NO2, SO2, CO, O3, AQI, areaTH, areaEN, datetime_aq, provinceNo]\n",
       "Index: []"
      ]
     },
     "execution_count": 17,
     "metadata": {},
     "output_type": "execute_result"
    }
   ],
   "source": [
    "dataframe[filter].head()"
   ]
  },
  {
   "cell_type": "code",
   "execution_count": 18,
   "metadata": {},
   "outputs": [
    {
     "data": {
      "text/plain": [
       "65"
      ]
     },
     "execution_count": 18,
     "metadata": {},
     "output_type": "execute_result"
    }
   ],
   "source": [
    "dataframe['provinceNo'].nunique()"
   ]
  },
  {
   "cell_type": "code",
   "execution_count": 19,
   "metadata": {},
   "outputs": [
    {
     "data": {
      "text/plain": [
       "array([57, 32, 13, 64, 33, 34, 65,  2, 35, 53, 66, 36,  3, 67, 68, 69, 74,\n",
       "       70, 54, 60,  6,  7, 72, 71, 41, 42, 43, 47, 55, 46, 73, 24, 49, 27,\n",
       "        0,  1, 20,  4,  5, 75, 56, 10, 61, 76, 63, 52, 51, 21, 19,  9, 15,\n",
       "       37, 38,  8, 45, 40, 11, 39, 29, 12, 14, 17, 26, 44, 31],\n",
       "      dtype=int64)"
      ]
     },
     "execution_count": 19,
     "metadata": {},
     "output_type": "execute_result"
    }
   ],
   "source": [
    "dataframe['provinceNo'].unique()"
   ]
  },
  {
   "cell_type": "code",
   "execution_count": 20,
   "metadata": {},
   "outputs": [
    {
     "name": "stdout",
     "output_type": "stream",
     "text": [
      "มหาสารคาม\n",
      "ยโสธร\n",
      "สุรินทร์\n",
      "ศรีสะเกษ\n",
      "หนองบัวลำภู\n",
      "อำนาจเจริญ\n",
      "ชัยนาท\n",
      "อ่างทอง\n",
      "จันทบุรี\n",
      "ประจวบคีรีขันธ์\n",
      "เพชรบุรี\n",
      "ชุุมพร\n"
     ]
    }
   ],
   "source": [
    "for i in range(0,len(provinceName)):\n",
    "    if i not in dataframe['provinceNo'].unique():\n",
    "        print(provinceName[i])"
   ]
  },
  {
   "cell_type": "code",
   "execution_count": 21,
   "metadata": {},
   "outputs": [
    {
     "data": {
      "text/html": [
       "<div>\n",
       "<style scoped>\n",
       "    .dataframe tbody tr th:only-of-type {\n",
       "        vertical-align: middle;\n",
       "    }\n",
       "\n",
       "    .dataframe tbody tr th {\n",
       "        vertical-align: top;\n",
       "    }\n",
       "\n",
       "    .dataframe thead th {\n",
       "        text-align: right;\n",
       "    }\n",
       "</style>\n",
       "<table border=\"1\" class=\"dataframe\">\n",
       "  <thead>\n",
       "    <tr style=\"text-align: right;\">\n",
       "      <th></th>\n",
       "      <th>id</th>\n",
       "      <th>stationID</th>\n",
       "      <th>nameTH</th>\n",
       "      <th>nameEN</th>\n",
       "      <th>stationType</th>\n",
       "      <th>lat</th>\n",
       "      <th>long</th>\n",
       "      <th>date_aq</th>\n",
       "      <th>time_aq</th>\n",
       "      <th>PM25</th>\n",
       "      <th>PM10</th>\n",
       "      <th>NO2</th>\n",
       "      <th>SO2</th>\n",
       "      <th>CO</th>\n",
       "      <th>O3</th>\n",
       "      <th>AQI</th>\n",
       "      <th>areaTH</th>\n",
       "      <th>areaEN</th>\n",
       "      <th>datetime_aq</th>\n",
       "      <th>provinceNo</th>\n",
       "    </tr>\n",
       "  </thead>\n",
       "  <tbody>\n",
       "    <tr>\n",
       "      <th>1748632</th>\n",
       "      <td>2307327</td>\n",
       "      <td>bkp88t</td>\n",
       "      <td>มหาวิทยาลัยสยาม</td>\n",
       "      <td>Siam University</td>\n",
       "      <td>BKK</td>\n",
       "      <td>13.718689</td>\n",
       "      <td>100.453910</td>\n",
       "      <td>2022-01-30</td>\n",
       "      <td>09:00:00</td>\n",
       "      <td>33.0</td>\n",
       "      <td>NaN</td>\n",
       "      <td>NaN</td>\n",
       "      <td>NaN</td>\n",
       "      <td>NaN</td>\n",
       "      <td>NaN</td>\n",
       "      <td>2</td>\n",
       "      <td>ริมถนนเพชรเกษม เขตภาษีเจริญ, กรุงเทพฯ</td>\n",
       "      <td>Petchkasem Roadside, Phasi Charoen, Bangkok</td>\n",
       "      <td>2022-01-30 09:00:00.000</td>\n",
       "      <td>75</td>\n",
       "    </tr>\n",
       "    <tr>\n",
       "      <th>1748633</th>\n",
       "      <td>2307297</td>\n",
       "      <td>bkp58t</td>\n",
       "      <td>สำนักงานเขตราษฎร์บูรณะ กรุงเทพฯ</td>\n",
       "      <td>Rat Burana District Office,  Bangkok</td>\n",
       "      <td>BKK</td>\n",
       "      <td>13.682136</td>\n",
       "      <td>100.506051</td>\n",
       "      <td>2022-01-30</td>\n",
       "      <td>09:00:00</td>\n",
       "      <td>30.0</td>\n",
       "      <td>78.0</td>\n",
       "      <td>NaN</td>\n",
       "      <td>NaN</td>\n",
       "      <td>NaN</td>\n",
       "      <td>NaN</td>\n",
       "      <td>2</td>\n",
       "      <td>ริมถนนราษฎร์บูรณะ, เขตราษฎร์บูรณะ, กรุงเทพฯ</td>\n",
       "      <td>Rat Burana, Bangkok</td>\n",
       "      <td>2022-01-30 09:00:00.000</td>\n",
       "      <td>75</td>\n",
       "    </tr>\n",
       "    <tr>\n",
       "      <th>1748634</th>\n",
       "      <td>2307298</td>\n",
       "      <td>bkp59t</td>\n",
       "      <td>สำนักงานเขตราชเทวี กรุงเทพฯ</td>\n",
       "      <td>Ratchathewi District Office, Bangkok</td>\n",
       "      <td>BKK</td>\n",
       "      <td>13.759085</td>\n",
       "      <td>100.534579</td>\n",
       "      <td>2022-01-30</td>\n",
       "      <td>09:00:00</td>\n",
       "      <td>32.0</td>\n",
       "      <td>40.0</td>\n",
       "      <td>NaN</td>\n",
       "      <td>NaN</td>\n",
       "      <td>NaN</td>\n",
       "      <td>NaN</td>\n",
       "      <td>2</td>\n",
       "      <td>ริมถนนพญาไท เขตราชเทวี, กรุงเทพฯ</td>\n",
       "      <td>Phayathai Roadside, Ratchathewi, Bangkok</td>\n",
       "      <td>2022-01-30 09:00:00.000</td>\n",
       "      <td>75</td>\n",
       "    </tr>\n",
       "    <tr>\n",
       "      <th>1748635</th>\n",
       "      <td>2307299</td>\n",
       "      <td>bkp60t</td>\n",
       "      <td>ริมสวนหย่อมตรงข้ามสำนักงานเขตดุสิต</td>\n",
       "      <td>Dusit District Office, Bangkok</td>\n",
       "      <td>BKK</td>\n",
       "      <td>13.776664</td>\n",
       "      <td>100.520982</td>\n",
       "      <td>2022-01-30</td>\n",
       "      <td>09:00:00</td>\n",
       "      <td>26.0</td>\n",
       "      <td>56.0</td>\n",
       "      <td>NaN</td>\n",
       "      <td>NaN</td>\n",
       "      <td>NaN</td>\n",
       "      <td>NaN</td>\n",
       "      <td>2</td>\n",
       "      <td>ริมถนนพระราม 5 เขตดุสิต, กรุงเทพฯ</td>\n",
       "      <td>RamaV Roadside, Dusit, Bangkok</td>\n",
       "      <td>2022-01-30 09:00:00.000</td>\n",
       "      <td>75</td>\n",
       "    </tr>\n",
       "    <tr>\n",
       "      <th>1748636</th>\n",
       "      <td>2307300</td>\n",
       "      <td>bkp61t</td>\n",
       "      <td>สำนักงานคณะกรรมการพัฒนาเศรษฐกิจและสังคมแห่งชาติ</td>\n",
       "      <td>National Economic and Social Development Counc...</td>\n",
       "      <td>BKK</td>\n",
       "      <td>13.756281</td>\n",
       "      <td>100.514267</td>\n",
       "      <td>2022-01-30</td>\n",
       "      <td>09:00:00</td>\n",
       "      <td>23.0</td>\n",
       "      <td>49.0</td>\n",
       "      <td>NaN</td>\n",
       "      <td>NaN</td>\n",
       "      <td>NaN</td>\n",
       "      <td>NaN</td>\n",
       "      <td>1</td>\n",
       "      <td>ริมถนนกรุงเกษม เขตป้อมปราบศัตรูพ่าย, กรุงเทพฯ</td>\n",
       "      <td>Krung Kasem Roadside, Pom Prap Sattru Phai, Ba...</td>\n",
       "      <td>2022-01-30 09:00:00.000</td>\n",
       "      <td>75</td>\n",
       "    </tr>\n",
       "  </tbody>\n",
       "</table>\n",
       "</div>"
      ],
      "text/plain": [
       "              id stationID                                           nameTH  \\\n",
       "1748632  2307327    bkp88t                                  มหาวิทยาลัยสยาม   \n",
       "1748633  2307297    bkp58t                  สำนักงานเขตราษฎร์บูรณะ กรุงเทพฯ   \n",
       "1748634  2307298    bkp59t                      สำนักงานเขตราชเทวี กรุงเทพฯ   \n",
       "1748635  2307299    bkp60t               ริมสวนหย่อมตรงข้ามสำนักงานเขตดุสิต   \n",
       "1748636  2307300    bkp61t  สำนักงานคณะกรรมการพัฒนาเศรษฐกิจและสังคมแห่งชาติ   \n",
       "\n",
       "                                                    nameEN stationType  \\\n",
       "1748632                                    Siam University         BKK   \n",
       "1748633               Rat Burana District Office,  Bangkok         BKK   \n",
       "1748634               Ratchathewi District Office, Bangkok         BKK   \n",
       "1748635                     Dusit District Office, Bangkok         BKK   \n",
       "1748636  National Economic and Social Development Counc...         BKK   \n",
       "\n",
       "               lat        long     date_aq   time_aq  PM25  PM10  NO2  SO2  \\\n",
       "1748632  13.718689  100.453910  2022-01-30  09:00:00  33.0   NaN  NaN  NaN   \n",
       "1748633  13.682136  100.506051  2022-01-30  09:00:00  30.0  78.0  NaN  NaN   \n",
       "1748634  13.759085  100.534579  2022-01-30  09:00:00  32.0  40.0  NaN  NaN   \n",
       "1748635  13.776664  100.520982  2022-01-30  09:00:00  26.0  56.0  NaN  NaN   \n",
       "1748636  13.756281  100.514267  2022-01-30  09:00:00  23.0  49.0  NaN  NaN   \n",
       "\n",
       "         CO  O3  AQI                                         areaTH  \\\n",
       "1748632 NaN NaN    2          ริมถนนเพชรเกษม เขตภาษีเจริญ, กรุงเทพฯ   \n",
       "1748633 NaN NaN    2    ริมถนนราษฎร์บูรณะ, เขตราษฎร์บูรณะ, กรุงเทพฯ   \n",
       "1748634 NaN NaN    2               ริมถนนพญาไท เขตราชเทวี, กรุงเทพฯ   \n",
       "1748635 NaN NaN    2              ริมถนนพระราม 5 เขตดุสิต, กรุงเทพฯ   \n",
       "1748636 NaN NaN    1  ริมถนนกรุงเกษม เขตป้อมปราบศัตรูพ่าย, กรุงเทพฯ   \n",
       "\n",
       "                                                    areaEN  \\\n",
       "1748632        Petchkasem Roadside, Phasi Charoen, Bangkok   \n",
       "1748633                                Rat Burana, Bangkok   \n",
       "1748634           Phayathai Roadside, Ratchathewi, Bangkok   \n",
       "1748635                     RamaV Roadside, Dusit, Bangkok   \n",
       "1748636  Krung Kasem Roadside, Pom Prap Sattru Phai, Ba...   \n",
       "\n",
       "                     datetime_aq  provinceNo  \n",
       "1748632  2022-01-30 09:00:00.000          75  \n",
       "1748633  2022-01-30 09:00:00.000          75  \n",
       "1748634  2022-01-30 09:00:00.000          75  \n",
       "1748635  2022-01-30 09:00:00.000          75  \n",
       "1748636  2022-01-30 09:00:00.000          75  "
      ]
     },
     "execution_count": 21,
     "metadata": {},
     "output_type": "execute_result"
    }
   ],
   "source": [
    "dataframe.tail()"
   ]
  },
  {
   "cell_type": "markdown",
   "metadata": {},
   "source": [
    "# หาตัวแทนข้อมูลของแต่ละจังหวัด"
   ]
  },
  {
   "cell_type": "code",
   "execution_count": 22,
   "metadata": {},
   "outputs": [],
   "source": [
    "dataframe.drop('id',axis=1,inplace=True)"
   ]
  },
  {
   "cell_type": "code",
   "execution_count": 23,
   "metadata": {},
   "outputs": [],
   "source": [
    "dataframe.dropna(subset=['PM25'],inplace=True)"
   ]
  },
  {
   "cell_type": "code",
   "execution_count": 24,
   "metadata": {},
   "outputs": [
    {
     "data": {
      "text/plain": [
       "PM25          0\n",
       "CO      1189872\n",
       "O3       897967\n",
       "dtype: int64"
      ]
     },
     "execution_count": 24,
     "metadata": {},
     "output_type": "execute_result"
    }
   ],
   "source": [
    "dataframe[['PM25','CO','O3']].isnull().sum()"
   ]
  },
  {
   "cell_type": "code",
   "execution_count": 25,
   "metadata": {},
   "outputs": [],
   "source": [
    "dfPM25 = dataframe.groupby(['date_aq','provinceNo'])['PM25'].mean()"
   ]
  },
  {
   "cell_type": "code",
   "execution_count": 26,
   "metadata": {},
   "outputs": [
    {
     "data": {
      "text/html": [
       "<div>\n",
       "<style scoped>\n",
       "    .dataframe tbody tr th:only-of-type {\n",
       "        vertical-align: middle;\n",
       "    }\n",
       "\n",
       "    .dataframe tbody tr th {\n",
       "        vertical-align: top;\n",
       "    }\n",
       "\n",
       "    .dataframe thead th {\n",
       "        text-align: right;\n",
       "    }\n",
       "</style>\n",
       "<table border=\"1\" class=\"dataframe\">\n",
       "  <thead>\n",
       "    <tr style=\"text-align: right;\">\n",
       "      <th></th>\n",
       "      <th></th>\n",
       "      <th>PM25</th>\n",
       "    </tr>\n",
       "    <tr>\n",
       "      <th>date_aq</th>\n",
       "      <th>provinceNo</th>\n",
       "      <th></th>\n",
       "    </tr>\n",
       "  </thead>\n",
       "  <tbody>\n",
       "    <tr>\n",
       "      <th rowspan=\"5\" valign=\"top\">2020-07-20</th>\n",
       "      <th>0</th>\n",
       "      <td>9.000000</td>\n",
       "    </tr>\n",
       "    <tr>\n",
       "      <th>1</th>\n",
       "      <td>17.444444</td>\n",
       "    </tr>\n",
       "    <tr>\n",
       "      <th>2</th>\n",
       "      <td>7.777778</td>\n",
       "    </tr>\n",
       "    <tr>\n",
       "      <th>3</th>\n",
       "      <td>6.000000</td>\n",
       "    </tr>\n",
       "    <tr>\n",
       "      <th>4</th>\n",
       "      <td>11.250000</td>\n",
       "    </tr>\n",
       "    <tr>\n",
       "      <th>...</th>\n",
       "      <th>...</th>\n",
       "      <td>...</td>\n",
       "    </tr>\n",
       "    <tr>\n",
       "      <th rowspan=\"5\" valign=\"top\">2022-01-30</th>\n",
       "      <th>71</th>\n",
       "      <td>18.888889</td>\n",
       "    </tr>\n",
       "    <tr>\n",
       "      <th>72</th>\n",
       "      <td>24.888889</td>\n",
       "    </tr>\n",
       "    <tr>\n",
       "      <th>74</th>\n",
       "      <td>22.555556</td>\n",
       "    </tr>\n",
       "    <tr>\n",
       "      <th>75</th>\n",
       "      <td>27.171239</td>\n",
       "    </tr>\n",
       "    <tr>\n",
       "      <th>76</th>\n",
       "      <td>22.759259</td>\n",
       "    </tr>\n",
       "  </tbody>\n",
       "</table>\n",
       "<p>28192 rows × 1 columns</p>\n",
       "</div>"
      ],
      "text/plain": [
       "                            PM25\n",
       "date_aq    provinceNo           \n",
       "2020-07-20 0            9.000000\n",
       "           1           17.444444\n",
       "           2            7.777778\n",
       "           3            6.000000\n",
       "           4           11.250000\n",
       "...                          ...\n",
       "2022-01-30 71          18.888889\n",
       "           72          24.888889\n",
       "           74          22.555556\n",
       "           75          27.171239\n",
       "           76          22.759259\n",
       "\n",
       "[28192 rows x 1 columns]"
      ]
     },
     "execution_count": 26,
     "metadata": {},
     "output_type": "execute_result"
    }
   ],
   "source": [
    "dfPM25 = dfPM25.to_frame()\n",
    "dfPM25"
   ]
  }
 ],
 "metadata": {
  "interpreter": {
   "hash": "c081257499a92776a7ff5343ee4d85420a7950a6ae97b0cb2aee7a7ddd41b7f2"
  },
  "kernelspec": {
   "display_name": "Python 3.9.6 64-bit",
   "language": "python",
   "name": "python3"
  },
  "language_info": {
   "codemirror_mode": {
    "name": "ipython",
    "version": 3
   },
   "file_extension": ".py",
   "mimetype": "text/x-python",
   "name": "python",
   "nbconvert_exporter": "python",
   "pygments_lexer": "ipython3",
   "version": "3.9.6"
  },
  "orig_nbformat": 4
 },
 "nbformat": 4,
 "nbformat_minor": 2
}
