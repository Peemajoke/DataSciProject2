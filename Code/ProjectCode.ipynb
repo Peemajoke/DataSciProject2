{
 "cells": [
  {
   "cell_type": "code",
   "execution_count": 63,
   "metadata": {},
   "outputs": [],
   "source": [
    "import pandas as pd"
   ]
  },
  {
   "cell_type": "code",
   "execution_count": 64,
   "metadata": {},
   "outputs": [],
   "source": [
    "dataframe = pd.read_csv(\"../Data/PCD data after 2020-7.csv\")"
   ]
  },
  {
   "cell_type": "code",
   "execution_count": 65,
   "metadata": {},
   "outputs": [
    {
     "data": {
      "text/html": [
       "<div>\n",
       "<style scoped>\n",
       "    .dataframe tbody tr th:only-of-type {\n",
       "        vertical-align: middle;\n",
       "    }\n",
       "\n",
       "    .dataframe tbody tr th {\n",
       "        vertical-align: top;\n",
       "    }\n",
       "\n",
       "    .dataframe thead th {\n",
       "        text-align: right;\n",
       "    }\n",
       "</style>\n",
       "<table border=\"1\" class=\"dataframe\">\n",
       "  <thead>\n",
       "    <tr style=\"text-align: right;\">\n",
       "      <th></th>\n",
       "      <th>id</th>\n",
       "      <th>stationID</th>\n",
       "      <th>nameTH</th>\n",
       "      <th>nameEN</th>\n",
       "      <th>stationType</th>\n",
       "      <th>lat</th>\n",
       "      <th>long</th>\n",
       "      <th>date_aq</th>\n",
       "      <th>time_aq</th>\n",
       "      <th>PM25</th>\n",
       "      <th>PM10</th>\n",
       "      <th>NO2</th>\n",
       "      <th>SO2</th>\n",
       "      <th>CO</th>\n",
       "      <th>O3</th>\n",
       "      <th>AQI</th>\n",
       "      <th>areaTH</th>\n",
       "      <th>areaEN</th>\n",
       "      <th>datetime_aq</th>\n",
       "    </tr>\n",
       "  </thead>\n",
       "  <tbody>\n",
       "    <tr>\n",
       "      <th>0</th>\n",
       "      <td>515454</td>\n",
       "      <td>76t</td>\n",
       "      <td>ศูนย์การศึกษานอกโรงเรียน</td>\n",
       "      <td>Non-Formal Education Centre, Mea Sot</td>\n",
       "      <td>GROUND</td>\n",
       "      <td>16.750102</td>\n",
       "      <td>98.591312</td>\n",
       "      <td>2020-07-20</td>\n",
       "      <td>21:00:00</td>\n",
       "      <td>8.0</td>\n",
       "      <td>22.0</td>\n",
       "      <td>4.0</td>\n",
       "      <td>NaN</td>\n",
       "      <td>0.13</td>\n",
       "      <td>13.0</td>\n",
       "      <td>1</td>\n",
       "      <td>ต.แม่ปะ อ.แม่สอด, ตาก</td>\n",
       "      <td>MaePa, MaeSot, Tak</td>\n",
       "      <td>2020-07-20 21:00:00.000</td>\n",
       "    </tr>\n",
       "    <tr>\n",
       "      <th>1</th>\n",
       "      <td>515455</td>\n",
       "      <td>81t</td>\n",
       "      <td>อ่างเก็บน้ำประปา</td>\n",
       "      <td>Water reservoir</td>\n",
       "      <td>GROUND</td>\n",
       "      <td>13.832076</td>\n",
       "      <td>100.057961</td>\n",
       "      <td>2020-07-20</td>\n",
       "      <td>21:00:00</td>\n",
       "      <td>10.0</td>\n",
       "      <td>24.0</td>\n",
       "      <td>9.0</td>\n",
       "      <td>1.0</td>\n",
       "      <td>0.58</td>\n",
       "      <td>27.0</td>\n",
       "      <td>1</td>\n",
       "      <td>ต.นครปฐม อ.เมือง, นครปฐม</td>\n",
       "      <td>Mueang, Nakhon Pathom</td>\n",
       "      <td>2020-07-20 21:00:00.000</td>\n",
       "    </tr>\n",
       "    <tr>\n",
       "      <th>2</th>\n",
       "      <td>515456</td>\n",
       "      <td>47t</td>\n",
       "      <td>สถานีสูบน้ำประตูพลแสน</td>\n",
       "      <td>Municipal Waste Water Pumping Station</td>\n",
       "      <td>GROUND</td>\n",
       "      <td>14.979726</td>\n",
       "      <td>102.098301</td>\n",
       "      <td>2020-07-20</td>\n",
       "      <td>21:00:00</td>\n",
       "      <td>17.0</td>\n",
       "      <td>35.0</td>\n",
       "      <td>12.0</td>\n",
       "      <td>0.0</td>\n",
       "      <td>0.61</td>\n",
       "      <td>7.0</td>\n",
       "      <td>1</td>\n",
       "      <td>ต.ในเมือง อ.เมือง, นครราชสีมา</td>\n",
       "      <td>Nai Mueang, Mueang, Nakhon Ratchasima</td>\n",
       "      <td>2020-07-20 21:00:00.000</td>\n",
       "    </tr>\n",
       "    <tr>\n",
       "      <th>3</th>\n",
       "      <td>515457</td>\n",
       "      <td>m3</td>\n",
       "      <td>สำนักงานพระพุทธศาสนา จังหวัดนครศรีธรรมราช</td>\n",
       "      <td>Office Of Buddhism Nakhon Si Thammarat</td>\n",
       "      <td>MOBILE</td>\n",
       "      <td>8.427328</td>\n",
       "      <td>99.963666</td>\n",
       "      <td>2020-07-20</td>\n",
       "      <td>20:00:00</td>\n",
       "      <td>10.0</td>\n",
       "      <td>24.0</td>\n",
       "      <td>NaN</td>\n",
       "      <td>NaN</td>\n",
       "      <td>NaN</td>\n",
       "      <td>NaN</td>\n",
       "      <td>1</td>\n",
       "      <td>ต.ในเมือง อ.เมือง, นครศรีธรรมราช</td>\n",
       "      <td>Mueang, Nakhon Si Thammarat</td>\n",
       "      <td>2020-07-20 20:00:00.000</td>\n",
       "    </tr>\n",
       "    <tr>\n",
       "      <th>4</th>\n",
       "      <td>515458</td>\n",
       "      <td>o26</td>\n",
       "      <td>โรงพยาบาลส่งเสริมสุขภาพตำบลเขาพระบาท อ.เชียรให...</td>\n",
       "      <td>Khao Phra Bat Health Promotion Hospital, Chian...</td>\n",
       "      <td>MOBILE</td>\n",
       "      <td>8.064768</td>\n",
       "      <td>100.191452</td>\n",
       "      <td>2020-07-20</td>\n",
       "      <td>21:00:00</td>\n",
       "      <td>6.0</td>\n",
       "      <td>NaN</td>\n",
       "      <td>NaN</td>\n",
       "      <td>NaN</td>\n",
       "      <td>NaN</td>\n",
       "      <td>NaN</td>\n",
       "      <td>1</td>\n",
       "      <td>ต.เขาพระบาท อ.เชียรใหญ่, นครศรีธรรมราช</td>\n",
       "      <td>Khao Phra Bat, Chian Yai, Nakhon Si Thammarat</td>\n",
       "      <td>2020-07-20 21:00:00.000</td>\n",
       "    </tr>\n",
       "  </tbody>\n",
       "</table>\n",
       "</div>"
      ],
      "text/plain": [
       "       id stationID                                             nameTH  \\\n",
       "0  515454       76t                           ศูนย์การศึกษานอกโรงเรียน   \n",
       "1  515455       81t                                   อ่างเก็บน้ำประปา   \n",
       "2  515456       47t                              สถานีสูบน้ำประตูพลแสน   \n",
       "3  515457        m3          สำนักงานพระพุทธศาสนา จังหวัดนครศรีธรรมราช   \n",
       "4  515458       o26  โรงพยาบาลส่งเสริมสุขภาพตำบลเขาพระบาท อ.เชียรให...   \n",
       "\n",
       "                                              nameEN stationType        lat  \\\n",
       "0               Non-Formal Education Centre, Mea Sot      GROUND  16.750102   \n",
       "1                                    Water reservoir      GROUND  13.832076   \n",
       "2              Municipal Waste Water Pumping Station      GROUND  14.979726   \n",
       "3             Office Of Buddhism Nakhon Si Thammarat      MOBILE   8.427328   \n",
       "4  Khao Phra Bat Health Promotion Hospital, Chian...      MOBILE   8.064768   \n",
       "\n",
       "         long     date_aq   time_aq  PM25  PM10   NO2  SO2    CO    O3  AQI  \\\n",
       "0   98.591312  2020-07-20  21:00:00   8.0  22.0   4.0  NaN  0.13  13.0    1   \n",
       "1  100.057961  2020-07-20  21:00:00  10.0  24.0   9.0  1.0  0.58  27.0    1   \n",
       "2  102.098301  2020-07-20  21:00:00  17.0  35.0  12.0  0.0  0.61   7.0    1   \n",
       "3   99.963666  2020-07-20  20:00:00  10.0  24.0   NaN  NaN   NaN   NaN    1   \n",
       "4  100.191452  2020-07-20  21:00:00   6.0   NaN   NaN  NaN   NaN   NaN    1   \n",
       "\n",
       "                                   areaTH  \\\n",
       "0                   ต.แม่ปะ อ.แม่สอด, ตาก   \n",
       "1                ต.นครปฐม อ.เมือง, นครปฐม   \n",
       "2           ต.ในเมือง อ.เมือง, นครราชสีมา   \n",
       "3        ต.ในเมือง อ.เมือง, นครศรีธรรมราช   \n",
       "4  ต.เขาพระบาท อ.เชียรใหญ่, นครศรีธรรมราช   \n",
       "\n",
       "                                          areaEN              datetime_aq  \n",
       "0                             MaePa, MaeSot, Tak  2020-07-20 21:00:00.000  \n",
       "1                          Mueang, Nakhon Pathom  2020-07-20 21:00:00.000  \n",
       "2          Nai Mueang, Mueang, Nakhon Ratchasima  2020-07-20 21:00:00.000  \n",
       "3                    Mueang, Nakhon Si Thammarat  2020-07-20 20:00:00.000  \n",
       "4  Khao Phra Bat, Chian Yai, Nakhon Si Thammarat  2020-07-20 21:00:00.000  "
      ]
     },
     "execution_count": 65,
     "metadata": {},
     "output_type": "execute_result"
    }
   ],
   "source": [
    "dataframe.head()"
   ]
  },
  {
   "cell_type": "code",
   "execution_count": 66,
   "metadata": {},
   "outputs": [
    {
     "data": {
      "text/plain": [
       "188"
      ]
     },
     "execution_count": 66,
     "metadata": {},
     "output_type": "execute_result"
    }
   ],
   "source": [
    "dataframe[\"areaTH\"].nunique()"
   ]
  },
  {
   "cell_type": "code",
   "execution_count": 67,
   "metadata": {},
   "outputs": [
    {
     "data": {
      "text/plain": [
       "Khao Phra Bat, Chian Yai, Nakhon Si Thammarat                                           2150\n",
       "Tambon Rahaeng, Amphoe Mueang, Tak                                                      2082\n",
       " Nai Mueang Subdistrict, Mueang District, Roi Et                                        1871\n",
       "Khuan Maphrao, Mueang, Phatthalung                                                      1849\n",
       "Mae Chaem,Chiang Mai                                                                    1611\n",
       "Mueang, Phangnga                                                                        1521\n",
       "Racha Thewa Subdistrict, Bang Phli District, Samut Prakan                               1411\n",
       "Dokmai Subdistrict, Prawet District, Bangkok                                            1380\n",
       "Mueang, Phitsanulok                                                                     1324\n",
       "Mueang District, Ranong                                                                 1289\n",
       " Bang Man Subdistrict, Mueang District, Sing Buri                                        916\n",
       "Mueang, Nakhon Si Thammarat                                                              787\n",
       "Charoen Muang Road, That Na Weng Subdistrict, Mueang District, Sakon Nakhon Province     566\n",
       " Bang Khen, Mueang, Nonthaburi                                                           402\n",
       " Ban Muang Sub-district, Ban Muang District, Sakon Nakhon Province                       224\n",
       "Nakhon Nayok Subdistrict, Mueang District, Nakhon Nayok                                  219\n",
       " Bang Krachao Subdistrict, Bang Krachao District, Samut Prakan                            70\n",
       "Wat Ket,Mueang Chiang Mai                                                                 51\n",
       "Tha Phae Gate,Mueang Chiang Mai                                                           29\n",
       "Ban Pang, Bang Sai, Phra Nakhon Si Ayutthaya                                              27\n",
       "Name: areaEN, dtype: int64"
      ]
     },
     "execution_count": 67,
     "metadata": {},
     "output_type": "execute_result"
    }
   ],
   "source": [
    "dataframe[\"areaEN\"].value_counts().tail(20)"
   ]
  },
  {
   "cell_type": "code",
   "execution_count": 68,
   "metadata": {},
   "outputs": [
    {
     "data": {
      "text/plain": [
       "151"
      ]
     },
     "execution_count": 68,
     "metadata": {},
     "output_type": "execute_result"
    }
   ],
   "source": [
    "dataframe[\"stationID\"].nunique()"
   ]
  },
  {
   "cell_type": "code",
   "execution_count": 69,
   "metadata": {},
   "outputs": [],
   "source": [
    "province = dataframe[\"nameEN\"].apply(lambda x : x.split(', ')[-1])"
   ]
  },
  {
   "cell_type": "code",
   "execution_count": 70,
   "metadata": {},
   "outputs": [
    {
     "data": {
      "text/plain": [
       "0                                   Mea Sot\n",
       "1                           Water reservoir\n",
       "2     Municipal Waste Water Pumping Station\n",
       "3    Office Of Buddhism Nakhon Si Thammarat\n",
       "4                       Nakhon Si Thammarat\n",
       "Name: nameEN, dtype: object"
      ]
     },
     "execution_count": 70,
     "metadata": {},
     "output_type": "execute_result"
    }
   ],
   "source": [
    "province.head()"
   ]
  },
  {
   "cell_type": "code",
   "execution_count": 71,
   "metadata": {},
   "outputs": [
    {
     "data": {
      "text/plain": [
       "150"
      ]
     },
     "execution_count": 71,
     "metadata": {},
     "output_type": "execute_result"
    }
   ],
   "source": [
    "province.nunique()"
   ]
  },
  {
   "cell_type": "code",
   "execution_count": 72,
   "metadata": {},
   "outputs": [
    {
     "data": {
      "text/html": [
       "<div>\n",
       "<style scoped>\n",
       "    .dataframe tbody tr th:only-of-type {\n",
       "        vertical-align: middle;\n",
       "    }\n",
       "\n",
       "    .dataframe tbody tr th {\n",
       "        vertical-align: top;\n",
       "    }\n",
       "\n",
       "    .dataframe thead th {\n",
       "        text-align: right;\n",
       "    }\n",
       "</style>\n",
       "<table border=\"1\" class=\"dataframe\">\n",
       "  <thead>\n",
       "    <tr style=\"text-align: right;\">\n",
       "      <th></th>\n",
       "      <th>lat</th>\n",
       "      <th>long</th>\n",
       "    </tr>\n",
       "  </thead>\n",
       "  <tbody>\n",
       "    <tr>\n",
       "      <th>0</th>\n",
       "      <td>16.750102</td>\n",
       "      <td>98.591312</td>\n",
       "    </tr>\n",
       "    <tr>\n",
       "      <th>1</th>\n",
       "      <td>13.832076</td>\n",
       "      <td>100.057961</td>\n",
       "    </tr>\n",
       "    <tr>\n",
       "      <th>2</th>\n",
       "      <td>14.979726</td>\n",
       "      <td>102.098301</td>\n",
       "    </tr>\n",
       "    <tr>\n",
       "      <th>3</th>\n",
       "      <td>8.427328</td>\n",
       "      <td>99.963666</td>\n",
       "    </tr>\n",
       "    <tr>\n",
       "      <th>4</th>\n",
       "      <td>8.064768</td>\n",
       "      <td>100.191452</td>\n",
       "    </tr>\n",
       "  </tbody>\n",
       "</table>\n",
       "</div>"
      ],
      "text/plain": [
       "         lat        long\n",
       "0  16.750102   98.591312\n",
       "1  13.832076  100.057961\n",
       "2  14.979726  102.098301\n",
       "3   8.427328   99.963666\n",
       "4   8.064768  100.191452"
      ]
     },
     "execution_count": 72,
     "metadata": {},
     "output_type": "execute_result"
    }
   ],
   "source": [
    "dataframe[[\"lat\",\"long\"]].head()"
   ]
  },
  {
   "cell_type": "code",
   "execution_count": 73,
   "metadata": {},
   "outputs": [],
   "source": [
    "provinceName=['เชียงราย', \n",
    "'เชียงใหม่',\n",
    "'น่าน', \n",
    "'พะเยา', \n",
    "'แพร่', \n",
    "'แม่ฮ่องสอน', \n",
    "'ลำปาง', \n",
    "'ลำพูน', \n",
    "'อุตรดิตถ์',\n",
    "'กาฬสินธ์ุ',\n",
    "'ขอนแก่น',\n",
    "'ชัยภูมิ',\n",
    "'นครพนม',\n",
    "'นครราชสีมา',\n",
    "'บึงกาฬ',\n",
    "'บุรีรัมย์',\n",
    "'มหาสารคาม',\n",
    "'มุกดาหาร',\n",
    "'ยโสธร',\n",
    "'ร้อยเอ็ด',\n",
    "'เลย',\n",
    "'สกลนคร',\n",
    "'สุรินทร์',\n",
    "'ศรีสะเกษ',\n",
    "'หนองคาย',\n",
    "'หนองบัวลำภู',\n",
    "'อุดรธานี',\n",
    "'อุบลราชธานี',\n",
    "'อำนาจเจริญ',\n",
    "'กำแพงเพชร',\n",
    "'ชัยนาท',\n",
    "'นครนายก',\n",
    "'นครปฐม',\n",
    "'นครสวรรค์',\n",
    "'นนทบุรี',\n",
    "'ปทุมธานี',\n",
    "'พระนครศรีอยุธยา',\n",
    "'พิจิตร',\n",
    "'พิษณุโลก',\n",
    "'เพชรบูรณ์',\n",
    "'ลพบุรี',\n",
    "'สมุทรปราการ',\n",
    "'สมุทรสงคราม',\n",
    "'สมุทรสาคร',\n",
    "'สิงห์บุรี',\n",
    "'สุโขทัย',\n",
    "'สุพรรณบุรี',\n",
    "'สระบุรี',\n",
    "'อ่างทอง',\n",
    "'อุทัยธานี',\n",
    "'จันทบุรี',\n",
    "'ฉะเชิงเทรา', \n",
    "'ตราด',\n",
    "'ปราจีนบุรี',\n",
    "'ระยอง',\n",
    "'สระแก้ว',\n",
    "'กาญจนบุรี',\n",
    "'ตาก',\n",
    "'ประจวบคีรีขันธ์',\n",
    "'เพชรบุรี',\n",
    "'ราชบุรี',\n",
    "'กระบี่',\n",
    "'ชุุมพร',\n",
    "'ตรัง',\n",
    "'นครศรีธรรมราช',\n",
    "'นราธิวาส',\n",
    "'ปัตตานี',\n",
    "'พังงา',\n",
    "'พัทลุง',\n",
    "'ภูเก็ต',\n",
    "'ระนอง',\n",
    "'สตูล',\n",
    "'สงขลา',\n",
    "'สุราษฎร์ธานี',\n",
    "'ยะลา',\n",
    "'กรุงเทพฯ',\n",
    "'ชลบุรี']"
   ]
  },
  {
   "cell_type": "code",
   "execution_count": 74,
   "metadata": {},
   "outputs": [],
   "source": [
    "dataframe[\"areaTH\"].replace({\"แขวงคลองกุ่ม เขตบึงกุ่ม\":\"กรุงเทพฯ\",\"เขตปลอดอากรท่าอากาศยานสุวรรณภูมิ\":\"สมุทรปราการ\",\"หมู่บ้านทูแกรนด์โมนาโค\":\"กรุงเทพฯ\",\"หมู่บ้านแกรนด์โมนาโค\":\"กรุงเทพฯ\",\"หมู่บ้านลลิน กรีนวิลล์\":\"กรุงเทพฯ\",\"แขวงดอกไม้ เขตประเวศ, กรุงเทพมหานคร\":\"กรุงเทพฯ\"},inplace=True)"
   ]
  },
  {
   "cell_type": "code",
   "execution_count": 75,
   "metadata": {},
   "outputs": [],
   "source": [
    "def checkContainProvince(x):\n",
    "    for i in range (0,len(provinceName)):\n",
    "        if (provinceName[i] in x):\n",
    "            return i \n",
    "    #print(x)\n",
    "    return -1    \n",
    "        "
   ]
  },
  {
   "cell_type": "code",
   "execution_count": 76,
   "metadata": {},
   "outputs": [],
   "source": [
    "dataframe['provinceNo'] = dataframe['areaTH'].apply(lambda x : checkContainProvince(x))"
   ]
  },
  {
   "cell_type": "code",
   "execution_count": 77,
   "metadata": {},
   "outputs": [
    {
     "data": {
      "text/plain": [
       "75    771078\n",
       "54     78403\n",
       "41     75091\n",
       "6      52039\n",
       "1      40766\n",
       "76     37951\n",
       "43     26327\n",
       "0      26219\n",
       "65     26210\n",
       "74     26131\n",
       "Name: provinceNo, dtype: int64"
      ]
     },
     "execution_count": 77,
     "metadata": {},
     "output_type": "execute_result"
    }
   ],
   "source": [
    "dataframe['provinceNo'].value_counts().head(10)"
   ]
  },
  {
   "cell_type": "code",
   "execution_count": 78,
   "metadata": {},
   "outputs": [],
   "source": [
    "filter = dataframe['provinceNo'] == -1"
   ]
  },
  {
   "cell_type": "code",
   "execution_count": 79,
   "metadata": {},
   "outputs": [
    {
     "data": {
      "text/html": [
       "<div>\n",
       "<style scoped>\n",
       "    .dataframe tbody tr th:only-of-type {\n",
       "        vertical-align: middle;\n",
       "    }\n",
       "\n",
       "    .dataframe tbody tr th {\n",
       "        vertical-align: top;\n",
       "    }\n",
       "\n",
       "    .dataframe thead th {\n",
       "        text-align: right;\n",
       "    }\n",
       "</style>\n",
       "<table border=\"1\" class=\"dataframe\">\n",
       "  <thead>\n",
       "    <tr style=\"text-align: right;\">\n",
       "      <th></th>\n",
       "      <th>id</th>\n",
       "      <th>stationID</th>\n",
       "      <th>nameTH</th>\n",
       "      <th>nameEN</th>\n",
       "      <th>stationType</th>\n",
       "      <th>lat</th>\n",
       "      <th>long</th>\n",
       "      <th>date_aq</th>\n",
       "      <th>time_aq</th>\n",
       "      <th>PM25</th>\n",
       "      <th>PM10</th>\n",
       "      <th>NO2</th>\n",
       "      <th>SO2</th>\n",
       "      <th>CO</th>\n",
       "      <th>O3</th>\n",
       "      <th>AQI</th>\n",
       "      <th>areaTH</th>\n",
       "      <th>areaEN</th>\n",
       "      <th>datetime_aq</th>\n",
       "      <th>provinceNo</th>\n",
       "    </tr>\n",
       "  </thead>\n",
       "  <tbody>\n",
       "  </tbody>\n",
       "</table>\n",
       "</div>"
      ],
      "text/plain": [
       "Empty DataFrame\n",
       "Columns: [id, stationID, nameTH, nameEN, stationType, lat, long, date_aq, time_aq, PM25, PM10, NO2, SO2, CO, O3, AQI, areaTH, areaEN, datetime_aq, provinceNo]\n",
       "Index: []"
      ]
     },
     "execution_count": 79,
     "metadata": {},
     "output_type": "execute_result"
    }
   ],
   "source": [
    "dataframe[filter].head()"
   ]
  },
  {
   "cell_type": "code",
   "execution_count": 80,
   "metadata": {},
   "outputs": [
    {
     "data": {
      "text/plain": [
       "65"
      ]
     },
     "execution_count": 80,
     "metadata": {},
     "output_type": "execute_result"
    }
   ],
   "source": [
    "dataframe['provinceNo'].nunique()"
   ]
  },
  {
   "cell_type": "code",
   "execution_count": 81,
   "metadata": {},
   "outputs": [
    {
     "data": {
      "text/plain": [
       "array([57, 32, 13, 64, 33, 34, 65,  2, 35, 53, 66, 36,  3, 67, 68, 69, 74,\n",
       "       70, 54, 60,  6,  7, 72, 71, 41, 42, 43, 47, 55, 46, 73, 24, 49, 27,\n",
       "        0,  1, 20,  4,  5, 75, 56, 10, 61, 76, 63, 52, 51, 21, 19,  9, 15,\n",
       "       37, 38,  8, 45, 40, 11, 39, 29, 12, 14, 17, 26, 44, 31],\n",
       "      dtype=int64)"
      ]
     },
     "execution_count": 81,
     "metadata": {},
     "output_type": "execute_result"
    }
   ],
   "source": [
    "dataframe['provinceNo'].unique()"
   ]
  },
  {
   "cell_type": "code",
   "execution_count": 82,
   "metadata": {},
   "outputs": [
    {
     "name": "stdout",
     "output_type": "stream",
     "text": [
      "มหาสารคาม\n",
      "ยโสธร\n",
      "สุรินทร์\n",
      "ศรีสะเกษ\n",
      "หนองบัวลำภู\n",
      "อำนาจเจริญ\n",
      "ชัยนาท\n",
      "อ่างทอง\n",
      "จันทบุรี\n",
      "ประจวบคีรีขันธ์\n",
      "เพชรบุรี\n",
      "ชุุมพร\n"
     ]
    }
   ],
   "source": [
    "for i in range(0,len(provinceName)):\n",
    "    if i not in dataframe['provinceNo'].unique():\n",
    "        print(provinceName[i])"
   ]
  },
  {
   "cell_type": "code",
   "execution_count": 83,
   "metadata": {},
   "outputs": [
    {
     "data": {
      "text/html": [
       "<div>\n",
       "<style scoped>\n",
       "    .dataframe tbody tr th:only-of-type {\n",
       "        vertical-align: middle;\n",
       "    }\n",
       "\n",
       "    .dataframe tbody tr th {\n",
       "        vertical-align: top;\n",
       "    }\n",
       "\n",
       "    .dataframe thead th {\n",
       "        text-align: right;\n",
       "    }\n",
       "</style>\n",
       "<table border=\"1\" class=\"dataframe\">\n",
       "  <thead>\n",
       "    <tr style=\"text-align: right;\">\n",
       "      <th></th>\n",
       "      <th>id</th>\n",
       "      <th>stationID</th>\n",
       "      <th>nameTH</th>\n",
       "      <th>nameEN</th>\n",
       "      <th>stationType</th>\n",
       "      <th>lat</th>\n",
       "      <th>long</th>\n",
       "      <th>date_aq</th>\n",
       "      <th>time_aq</th>\n",
       "      <th>PM25</th>\n",
       "      <th>PM10</th>\n",
       "      <th>NO2</th>\n",
       "      <th>SO2</th>\n",
       "      <th>CO</th>\n",
       "      <th>O3</th>\n",
       "      <th>AQI</th>\n",
       "      <th>areaTH</th>\n",
       "      <th>areaEN</th>\n",
       "      <th>datetime_aq</th>\n",
       "      <th>provinceNo</th>\n",
       "    </tr>\n",
       "  </thead>\n",
       "  <tbody>\n",
       "    <tr>\n",
       "      <th>1748632</th>\n",
       "      <td>2307327</td>\n",
       "      <td>bkp88t</td>\n",
       "      <td>มหาวิทยาลัยสยาม</td>\n",
       "      <td>Siam University</td>\n",
       "      <td>BKK</td>\n",
       "      <td>13.718689</td>\n",
       "      <td>100.453910</td>\n",
       "      <td>2022-01-30</td>\n",
       "      <td>09:00:00</td>\n",
       "      <td>33.0</td>\n",
       "      <td>NaN</td>\n",
       "      <td>NaN</td>\n",
       "      <td>NaN</td>\n",
       "      <td>NaN</td>\n",
       "      <td>NaN</td>\n",
       "      <td>2</td>\n",
       "      <td>ริมถนนเพชรเกษม เขตภาษีเจริญ, กรุงเทพฯ</td>\n",
       "      <td>Petchkasem Roadside, Phasi Charoen, Bangkok</td>\n",
       "      <td>2022-01-30 09:00:00.000</td>\n",
       "      <td>75</td>\n",
       "    </tr>\n",
       "    <tr>\n",
       "      <th>1748633</th>\n",
       "      <td>2307297</td>\n",
       "      <td>bkp58t</td>\n",
       "      <td>สำนักงานเขตราษฎร์บูรณะ กรุงเทพฯ</td>\n",
       "      <td>Rat Burana District Office,  Bangkok</td>\n",
       "      <td>BKK</td>\n",
       "      <td>13.682136</td>\n",
       "      <td>100.506051</td>\n",
       "      <td>2022-01-30</td>\n",
       "      <td>09:00:00</td>\n",
       "      <td>30.0</td>\n",
       "      <td>78.0</td>\n",
       "      <td>NaN</td>\n",
       "      <td>NaN</td>\n",
       "      <td>NaN</td>\n",
       "      <td>NaN</td>\n",
       "      <td>2</td>\n",
       "      <td>ริมถนนราษฎร์บูรณะ, เขตราษฎร์บูรณะ, กรุงเทพฯ</td>\n",
       "      <td>Rat Burana, Bangkok</td>\n",
       "      <td>2022-01-30 09:00:00.000</td>\n",
       "      <td>75</td>\n",
       "    </tr>\n",
       "    <tr>\n",
       "      <th>1748634</th>\n",
       "      <td>2307298</td>\n",
       "      <td>bkp59t</td>\n",
       "      <td>สำนักงานเขตราชเทวี กรุงเทพฯ</td>\n",
       "      <td>Ratchathewi District Office, Bangkok</td>\n",
       "      <td>BKK</td>\n",
       "      <td>13.759085</td>\n",
       "      <td>100.534579</td>\n",
       "      <td>2022-01-30</td>\n",
       "      <td>09:00:00</td>\n",
       "      <td>32.0</td>\n",
       "      <td>40.0</td>\n",
       "      <td>NaN</td>\n",
       "      <td>NaN</td>\n",
       "      <td>NaN</td>\n",
       "      <td>NaN</td>\n",
       "      <td>2</td>\n",
       "      <td>ริมถนนพญาไท เขตราชเทวี, กรุงเทพฯ</td>\n",
       "      <td>Phayathai Roadside, Ratchathewi, Bangkok</td>\n",
       "      <td>2022-01-30 09:00:00.000</td>\n",
       "      <td>75</td>\n",
       "    </tr>\n",
       "    <tr>\n",
       "      <th>1748635</th>\n",
       "      <td>2307299</td>\n",
       "      <td>bkp60t</td>\n",
       "      <td>ริมสวนหย่อมตรงข้ามสำนักงานเขตดุสิต</td>\n",
       "      <td>Dusit District Office, Bangkok</td>\n",
       "      <td>BKK</td>\n",
       "      <td>13.776664</td>\n",
       "      <td>100.520982</td>\n",
       "      <td>2022-01-30</td>\n",
       "      <td>09:00:00</td>\n",
       "      <td>26.0</td>\n",
       "      <td>56.0</td>\n",
       "      <td>NaN</td>\n",
       "      <td>NaN</td>\n",
       "      <td>NaN</td>\n",
       "      <td>NaN</td>\n",
       "      <td>2</td>\n",
       "      <td>ริมถนนพระราม 5 เขตดุสิต, กรุงเทพฯ</td>\n",
       "      <td>RamaV Roadside, Dusit, Bangkok</td>\n",
       "      <td>2022-01-30 09:00:00.000</td>\n",
       "      <td>75</td>\n",
       "    </tr>\n",
       "    <tr>\n",
       "      <th>1748636</th>\n",
       "      <td>2307300</td>\n",
       "      <td>bkp61t</td>\n",
       "      <td>สำนักงานคณะกรรมการพัฒนาเศรษฐกิจและสังคมแห่งชาติ</td>\n",
       "      <td>National Economic and Social Development Counc...</td>\n",
       "      <td>BKK</td>\n",
       "      <td>13.756281</td>\n",
       "      <td>100.514267</td>\n",
       "      <td>2022-01-30</td>\n",
       "      <td>09:00:00</td>\n",
       "      <td>23.0</td>\n",
       "      <td>49.0</td>\n",
       "      <td>NaN</td>\n",
       "      <td>NaN</td>\n",
       "      <td>NaN</td>\n",
       "      <td>NaN</td>\n",
       "      <td>1</td>\n",
       "      <td>ริมถนนกรุงเกษม เขตป้อมปราบศัตรูพ่าย, กรุงเทพฯ</td>\n",
       "      <td>Krung Kasem Roadside, Pom Prap Sattru Phai, Ba...</td>\n",
       "      <td>2022-01-30 09:00:00.000</td>\n",
       "      <td>75</td>\n",
       "    </tr>\n",
       "  </tbody>\n",
       "</table>\n",
       "</div>"
      ],
      "text/plain": [
       "              id stationID                                           nameTH  \\\n",
       "1748632  2307327    bkp88t                                  มหาวิทยาลัยสยาม   \n",
       "1748633  2307297    bkp58t                  สำนักงานเขตราษฎร์บูรณะ กรุงเทพฯ   \n",
       "1748634  2307298    bkp59t                      สำนักงานเขตราชเทวี กรุงเทพฯ   \n",
       "1748635  2307299    bkp60t               ริมสวนหย่อมตรงข้ามสำนักงานเขตดุสิต   \n",
       "1748636  2307300    bkp61t  สำนักงานคณะกรรมการพัฒนาเศรษฐกิจและสังคมแห่งชาติ   \n",
       "\n",
       "                                                    nameEN stationType  \\\n",
       "1748632                                    Siam University         BKK   \n",
       "1748633               Rat Burana District Office,  Bangkok         BKK   \n",
       "1748634               Ratchathewi District Office, Bangkok         BKK   \n",
       "1748635                     Dusit District Office, Bangkok         BKK   \n",
       "1748636  National Economic and Social Development Counc...         BKK   \n",
       "\n",
       "               lat        long     date_aq   time_aq  PM25  PM10  NO2  SO2  \\\n",
       "1748632  13.718689  100.453910  2022-01-30  09:00:00  33.0   NaN  NaN  NaN   \n",
       "1748633  13.682136  100.506051  2022-01-30  09:00:00  30.0  78.0  NaN  NaN   \n",
       "1748634  13.759085  100.534579  2022-01-30  09:00:00  32.0  40.0  NaN  NaN   \n",
       "1748635  13.776664  100.520982  2022-01-30  09:00:00  26.0  56.0  NaN  NaN   \n",
       "1748636  13.756281  100.514267  2022-01-30  09:00:00  23.0  49.0  NaN  NaN   \n",
       "\n",
       "         CO  O3  AQI                                         areaTH  \\\n",
       "1748632 NaN NaN    2          ริมถนนเพชรเกษม เขตภาษีเจริญ, กรุงเทพฯ   \n",
       "1748633 NaN NaN    2    ริมถนนราษฎร์บูรณะ, เขตราษฎร์บูรณะ, กรุงเทพฯ   \n",
       "1748634 NaN NaN    2               ริมถนนพญาไท เขตราชเทวี, กรุงเทพฯ   \n",
       "1748635 NaN NaN    2              ริมถนนพระราม 5 เขตดุสิต, กรุงเทพฯ   \n",
       "1748636 NaN NaN    1  ริมถนนกรุงเกษม เขตป้อมปราบศัตรูพ่าย, กรุงเทพฯ   \n",
       "\n",
       "                                                    areaEN  \\\n",
       "1748632        Petchkasem Roadside, Phasi Charoen, Bangkok   \n",
       "1748633                                Rat Burana, Bangkok   \n",
       "1748634           Phayathai Roadside, Ratchathewi, Bangkok   \n",
       "1748635                     RamaV Roadside, Dusit, Bangkok   \n",
       "1748636  Krung Kasem Roadside, Pom Prap Sattru Phai, Ba...   \n",
       "\n",
       "                     datetime_aq  provinceNo  \n",
       "1748632  2022-01-30 09:00:00.000          75  \n",
       "1748633  2022-01-30 09:00:00.000          75  \n",
       "1748634  2022-01-30 09:00:00.000          75  \n",
       "1748635  2022-01-30 09:00:00.000          75  \n",
       "1748636  2022-01-30 09:00:00.000          75  "
      ]
     },
     "execution_count": 83,
     "metadata": {},
     "output_type": "execute_result"
    }
   ],
   "source": [
    "dataframe.tail()"
   ]
  },
  {
   "cell_type": "markdown",
   "metadata": {},
   "source": [
    "# หาตัวแทนข้อมูลของแต่ละจังหวัด"
   ]
  },
  {
   "cell_type": "code",
   "execution_count": 84,
   "metadata": {},
   "outputs": [],
   "source": [
    "dataframe.drop('id',axis=1,inplace=True)"
   ]
  },
  {
   "cell_type": "code",
   "execution_count": 85,
   "metadata": {},
   "outputs": [],
   "source": [
    "dataframe.dropna(subset=['PM25'],inplace=True)"
   ]
  },
  {
   "cell_type": "code",
   "execution_count": 86,
   "metadata": {},
   "outputs": [
    {
     "data": {
      "text/plain": [
       "PM25          0\n",
       "CO      1189872\n",
       "O3       897967\n",
       "dtype: int64"
      ]
     },
     "execution_count": 86,
     "metadata": {},
     "output_type": "execute_result"
    }
   ],
   "source": [
    "dataframe[['PM25','CO','O3']].isnull().sum()"
   ]
  },
  {
   "cell_type": "code",
   "execution_count": 87,
   "metadata": {},
   "outputs": [],
   "source": [
    "dfPM25 = dataframe.groupby(['date_aq','provinceNo'])['PM25'].mean()"
   ]
  },
  {
   "cell_type": "code",
   "execution_count": 88,
   "metadata": {},
   "outputs": [
    {
     "data": {
      "text/html": [
       "<div>\n",
       "<style scoped>\n",
       "    .dataframe tbody tr th:only-of-type {\n",
       "        vertical-align: middle;\n",
       "    }\n",
       "\n",
       "    .dataframe tbody tr th {\n",
       "        vertical-align: top;\n",
       "    }\n",
       "\n",
       "    .dataframe thead th {\n",
       "        text-align: right;\n",
       "    }\n",
       "</style>\n",
       "<table border=\"1\" class=\"dataframe\">\n",
       "  <thead>\n",
       "    <tr style=\"text-align: right;\">\n",
       "      <th></th>\n",
       "      <th></th>\n",
       "      <th>PM25</th>\n",
       "    </tr>\n",
       "    <tr>\n",
       "      <th>date_aq</th>\n",
       "      <th>provinceNo</th>\n",
       "      <th></th>\n",
       "    </tr>\n",
       "  </thead>\n",
       "  <tbody>\n",
       "    <tr>\n",
       "      <th rowspan=\"5\" valign=\"top\">2020-07-20</th>\n",
       "      <th>0</th>\n",
       "      <td>9.000000</td>\n",
       "    </tr>\n",
       "    <tr>\n",
       "      <th>1</th>\n",
       "      <td>17.444444</td>\n",
       "    </tr>\n",
       "    <tr>\n",
       "      <th>2</th>\n",
       "      <td>7.777778</td>\n",
       "    </tr>\n",
       "    <tr>\n",
       "      <th>3</th>\n",
       "      <td>6.000000</td>\n",
       "    </tr>\n",
       "    <tr>\n",
       "      <th>4</th>\n",
       "      <td>11.250000</td>\n",
       "    </tr>\n",
       "    <tr>\n",
       "      <th>...</th>\n",
       "      <th>...</th>\n",
       "      <td>...</td>\n",
       "    </tr>\n",
       "    <tr>\n",
       "      <th rowspan=\"5\" valign=\"top\">2022-01-30</th>\n",
       "      <th>71</th>\n",
       "      <td>18.888889</td>\n",
       "    </tr>\n",
       "    <tr>\n",
       "      <th>72</th>\n",
       "      <td>24.888889</td>\n",
       "    </tr>\n",
       "    <tr>\n",
       "      <th>74</th>\n",
       "      <td>22.555556</td>\n",
       "    </tr>\n",
       "    <tr>\n",
       "      <th>75</th>\n",
       "      <td>27.171239</td>\n",
       "    </tr>\n",
       "    <tr>\n",
       "      <th>76</th>\n",
       "      <td>22.759259</td>\n",
       "    </tr>\n",
       "  </tbody>\n",
       "</table>\n",
       "<p>28192 rows × 1 columns</p>\n",
       "</div>"
      ],
      "text/plain": [
       "                            PM25\n",
       "date_aq    provinceNo           \n",
       "2020-07-20 0            9.000000\n",
       "           1           17.444444\n",
       "           2            7.777778\n",
       "           3            6.000000\n",
       "           4           11.250000\n",
       "...                          ...\n",
       "2022-01-30 71          18.888889\n",
       "           72          24.888889\n",
       "           74          22.555556\n",
       "           75          27.171239\n",
       "           76          22.759259\n",
       "\n",
       "[28192 rows x 1 columns]"
      ]
     },
     "execution_count": 88,
     "metadata": {},
     "output_type": "execute_result"
    }
   ],
   "source": [
    "dfPM25 = dfPM25.to_frame()\n",
    "dfPM25"
   ]
  },
  {
   "cell_type": "markdown",
   "metadata": {},
   "source": [
    "# Convert PM25 from per day to per week"
   ]
  },
  {
   "cell_type": "markdown",
   "metadata": {},
   "source": [
    "Filter only 1st 8th 15th 22th date of each month"
   ]
  },
  {
   "cell_type": "code",
   "execution_count": 89,
   "metadata": {},
   "outputs": [],
   "source": [
    "df_struct = {\n",
    "    \"date\":[],\n",
    "    \"provinceNo\":[],\n",
    "    \"pm25\":[]\n",
    "}\n",
    "dfPM25perweek = pd.DataFrame(df_struct)"
   ]
  },
  {
   "cell_type": "markdown",
   "metadata": {},
   "source": [
    "Find intersect province between pm25 and o3 , co"
   ]
  },
  {
   "cell_type": "code",
   "execution_count": 90,
   "metadata": {},
   "outputs": [],
   "source": [
    "provinceNoInPM25 = dataframe['provinceNo'].unique()"
   ]
  },
  {
   "cell_type": "code",
   "execution_count": 91,
   "metadata": {},
   "outputs": [
    {
     "name": "stdout",
     "output_type": "stream",
     "text": [
      "[57 32 13 64 33 34 65  2 35 53 66 36  3 67 68 69 74 70 54 60  6  7 72 71\n",
      " 41 42 43 47 55 46 73 24 49 27  0  1 20  4  5 75 56 10 61 76 63 52 51 21\n",
      " 19  9 15 37 38  8 45 40 11 39 29 12 14 17 26 44 31]\n"
     ]
    }
   ],
   "source": [
    "print(provinceNoInPM25)"
   ]
  },
  {
   "cell_type": "code",
   "execution_count": 92,
   "metadata": {},
   "outputs": [],
   "source": [
    "provinceDictO3 = {\"yala\":[74,\"6.506;101.341;9\"],\"satun\":[71,\"6.680;100.403;9\"], \"songkhla\":[72,\"7.125;100.658;9\"],\"trang\":[63,\"7.493;99.926;9\"], \\\n",
    "\"nakhon-si-thammarat\":[65-1,\"8.227;99.789;9\"],\"wichit\":[70-1,\"8.038;98.722;9\"],\"surat-thani\":[74-1,\"9.115;99.007;9\"],\"ranong\":[71-1,\"9.863;98.867;9\"], \\\n",
    "\"kanchanaburi\":[57-1,\"13.923;100.349;9\"] , \"samut-sakhon\":[44-1,\"13.931;100.267;9\"], \"bangkok\":[76-1,\"13.931;100.267;9\"] , \"samut-prakan\":[42-1,\"13.931;100.267;9\"] , \\\n",
    "\"mueang-nonthaburi\":[35-1,\"13.931;100.267;9\"] , \\\n",
    "\"pathum-thani\":[36-1,\"13.931;100.267;9\"] , \"phra-nakhon-si-ayutthaya\" : [37-1,\"13.931;100.267;9\"]  , \"saraburi\":[48-1,\"14.475;100.437;9\"] , \\\n",
    "\"lop-buri\":[41-1,\"14.475;100.437;9\"] , \"sing-buri\":[45-1,\"14.475;100.437;9\"] , \"prachin-buri\":[54-1,\"14.475;100.437;9\"] , \"nakhon-nayok\":[32-1,\"14.475;100.437;9\"] , \\\n",
    "\"chiang-rai\":[1-1, \"19.22;99.99;8\"], \"mae-hong-son\":[6-1, \"19.02;97.87;8\"], \"phayao\":[4-1, \"19.10;100.27;8\"], \"nan\":[3-1, \"18.79;100.80;8\"], \\\n",
    "\"chiang-mai\":[2-1, \"18.93;99.06;8\"], \"lamphun\":[8-1, \"18.50;99.07;8\"], \"lampang\":[7-1, \"18.35;99.42;8\"], \"phrae\":[5-1, \"18.17;100.26;8\"], \"uttaradit\":[9-1, \"17.55;100.10;8\"], \\\n",
    "\"sukhothai\":[46-1, \"16.96;99.97;8\"], \"tak\":[58-1, \"16.83;99.18;8\"], \"phitsanulok\":[39-1, \"16.83;100.20;8\"], \"kamphaeng-phet\":[30-1, \"16.35;99.30;8\"], \"phichit\":[38-1, \"16.37;100.45;8\"], \\\n",
    "\"phetchabun\":[40-1, \"16.50;101.39;8\"], \"nakhon-sawan\":[34-1, \"15.73;100.26;8\"], \"uthai-thani\":[50-1, \"15.35;100.12;8\"], \"nong-khai\":[25-1, \"17.91;102.82;8\"], \\\n",
    "\"loei\":[21-1, \"17.47;101.90;8\"], \"udon-thani\":[27-1, \"17.50;102.79;8\"], \"nakhon-phanom\":[13-1, \"17.41;104.73;8\"], \\\n",
    "\"sakon-nakhon\":[22-1, \"17.17;104.19;8\"], \"khon-kaen\":[11-1, \"16.34;102.69;8\"], \"kalasin\":[10-1, \"16.50;103.73;8\"], \\\n",
    "\"roi-et\":[20-1, \"16.10;103.69;8\"],  \"chaiyaphum\":[12-1, \"15.87;102.05;8\"], \\\n",
    "\"ubon-ratchathani\":[28-1, \"14.98;105.17;8\"], \"buriram\":[16-1, \"14.84;102.88;8\"], \\\n",
    "\"nakhon-ratchasima\":[14-1,\"14.85;102.04;8\"], \"chon-buri\":[77-1, \"13.25;101.13;8\"], \"rayong\":[55-1, \"12.67;101.21;8\"], \"trat\":[52, \"12.25;102.55;8\"]}"
   ]
  },
  {
   "cell_type": "code",
   "execution_count": 93,
   "metadata": {},
   "outputs": [],
   "source": [
    "provinceNoInO3 = []\n",
    "for (k,v) in provinceDictO3.items():\n",
    "    provinceNoInO3.append(v[0])"
   ]
  },
  {
   "cell_type": "code",
   "execution_count": 94,
   "metadata": {},
   "outputs": [
    {
     "name": "stdout",
     "output_type": "stream",
     "text": [
      "[74, 71, 72, 63, 64, 69, 73, 70, 56, 43, 75, 41, 34, 35, 36, 47, 40, 44, 53, 31, 0, 5, 3, 2, 1, 7, 6, 4, 8, 45, 57, 38, 29, 37, 39, 33, 49, 24, 20, 26, 12, 21, 10, 9, 19, 11, 27, 15, 13, 76, 54, 52]\n"
     ]
    }
   ],
   "source": [
    "print(provinceNoInO3)"
   ]
  },
  {
   "cell_type": "code",
   "execution_count": 95,
   "metadata": {},
   "outputs": [],
   "source": [
    "def intersection(lst1, lst2):\n",
    "    lst3 = [value for value in lst1 if value in lst2]\n",
    "    return lst3"
   ]
  },
  {
   "cell_type": "code",
   "execution_count": 96,
   "metadata": {},
   "outputs": [
    {
     "name": "stdout",
     "output_type": "stream",
     "text": [
      "[57, 13, 64, 33, 34, 2, 35, 53, 36, 3, 69, 74, 70, 54, 6, 7, 72, 71, 41, 43, 47, 73, 24, 49, 27, 0, 1, 20, 4, 5, 75, 56, 10, 76, 63, 52, 21, 19, 9, 15, 37, 38, 8, 45, 40, 11, 39, 29, 12, 26, 44, 31]\n"
     ]
    }
   ],
   "source": [
    "provinceNoIntersect = intersection(provinceNoInPM25,provinceNoInO3)\n",
    "print(provinceNoIntersect)"
   ]
  },
  {
   "cell_type": "code",
   "execution_count": 97,
   "metadata": {},
   "outputs": [
    {
     "data": {
      "text/plain": [
       "52"
      ]
     },
     "execution_count": 97,
     "metadata": {},
     "output_type": "execute_result"
    }
   ],
   "source": [
    "len(provinceNoIntersect)"
   ]
  },
  {
   "cell_type": "code",
   "execution_count": 98,
   "metadata": {},
   "outputs": [
    {
     "data": {
      "text/plain": [
       "52"
      ]
     },
     "execution_count": 98,
     "metadata": {},
     "output_type": "execute_result"
    }
   ],
   "source": [
    "len(provinceNoInO3)"
   ]
  },
  {
   "cell_type": "code",
   "execution_count": 99,
   "metadata": {},
   "outputs": [],
   "source": [
    "yearList = [\"2020\",\"2021\",\"2022\"]\n",
    "monthList = [\"01\",\"02\",\"03\",\"04\",\"05\",\"06\",\"07\",\"08\",\"09\",\"10\",\"11\",\"12\"]\n",
    "dayList = [\"01\",\"08\",\"15\",\"22\"]\n",
    "def nextDay(date):\n",
    "    year=date[0:4]\n",
    "    month=date[4:6]\n",
    "    day=date[6:8]\n",
    "    if day ==\"22\":\n",
    "        day=dayList[0]\n",
    "        if month != \"12\":\n",
    "            month=monthList[monthList.index(month)+1]\n",
    "        else:\n",
    "            month=\"01\"\n",
    "            year=yearList[yearList.index(year)+1]\n",
    "    else:\n",
    "        day=dayList[dayList.index(day)+1]\n",
    "    return year+month+day"
   ]
  },
  {
   "cell_type": "code",
   "execution_count": 100,
   "metadata": {},
   "outputs": [
    {
     "name": "stdout",
     "output_type": "stream",
     "text": [
      "['20200722', '20200801', '20200808', '20200815', '20200822', '20200901', '20200908', '20200915', '20200922', '20201001', '20201008', '20201015', '20201022', '20201101', '20201108', '20201115', '20201122', '20201201', '20201208', '20201215', '20201222', '20210101', '20210108', '20210115', '20210122', '20210201', '20210208', '20210215', '20210222', '20210301', '20210308', '20210315', '20210322', '20210401', '20210408', '20210415', '20210422', '20210501', '20210508', '20210515', '20210522', '20210601', '20210608', '20210615', '20210622', '20210701', '20210708', '20210715', '20210722', '20210801', '20210808', '20210815', '20210822', '20210901', '20210908', '20210915', '20210922', '20211001', '20211008', '20211015', '20211022', '20211101', '20211108', '20211115', '20211122', '20211201', '20211208', '20211215', '20211222', '20220101', '20220108', '20220115', '20220122']\n"
     ]
    }
   ],
   "source": [
    "validDate=[]\n",
    "initialDate=\"20200722\"\n",
    "date=initialDate\n",
    "validDate.append(initialDate)\n",
    "while date < \"20220122\":\n",
    "    temp = nextDay(date)\n",
    "    validDate.append(temp)\n",
    "    date = temp\n",
    "print(validDate)"
   ]
  },
  {
   "cell_type": "code",
   "execution_count": 101,
   "metadata": {},
   "outputs": [
    {
     "data": {
      "text/plain": [
       "73"
      ]
     },
     "execution_count": 101,
     "metadata": {},
     "output_type": "execute_result"
    }
   ],
   "source": [
    "len(validDate)"
   ]
  },
  {
   "cell_type": "code",
   "execution_count": 102,
   "metadata": {},
   "outputs": [
    {
     "name": "stdout",
     "output_type": "stream",
     "text": [
      "['2020-07-22', '2020-08-01', '2020-08-08', '2020-08-15', '2020-08-22', '2020-09-01', '2020-09-08', '2020-09-15', '2020-09-22', '2020-10-01', '2020-10-08', '2020-10-15', '2020-10-22', '2020-11-01', '2020-11-08', '2020-11-15', '2020-11-22', '2020-12-01', '2020-12-08', '2020-12-15', '2020-12-22', '2021-01-01', '2021-01-08', '2021-01-15', '2021-01-22', '2021-02-01', '2021-02-08', '2021-02-15', '2021-02-22', '2021-03-01', '2021-03-08', '2021-03-15', '2021-03-22', '2021-04-01', '2021-04-08', '2021-04-15', '2021-04-22', '2021-05-01', '2021-05-08', '2021-05-15', '2021-05-22', '2021-06-01', '2021-06-08', '2021-06-15', '2021-06-22', '2021-07-01', '2021-07-08', '2021-07-15', '2021-07-22', '2021-08-01', '2021-08-08', '2021-08-15', '2021-08-22', '2021-09-01', '2021-09-08', '2021-09-15', '2021-09-22', '2021-10-01', '2021-10-08', '2021-10-15', '2021-10-22', '2021-11-01', '2021-11-08', '2021-11-15', '2021-11-22', '2021-12-01', '2021-12-08', '2021-12-15', '2021-12-22', '2022-01-01', '2022-01-08', '2022-01-15', '2022-01-22']\n"
     ]
    }
   ],
   "source": [
    "validDate = list(map(lambda x :x[0:4]+\"-\"+x[4:6]+\"-\"+x[6:8] ,validDate))\n",
    "print(validDate)"
   ]
  },
  {
   "cell_type": "code",
   "execution_count": 103,
   "metadata": {},
   "outputs": [],
   "source": [
    "dfPM25.reset_index(inplace=True)"
   ]
  },
  {
   "cell_type": "code",
   "execution_count": 104,
   "metadata": {},
   "outputs": [
    {
     "data": {
      "text/html": [
       "<div>\n",
       "<style scoped>\n",
       "    .dataframe tbody tr th:only-of-type {\n",
       "        vertical-align: middle;\n",
       "    }\n",
       "\n",
       "    .dataframe tbody tr th {\n",
       "        vertical-align: top;\n",
       "    }\n",
       "\n",
       "    .dataframe thead th {\n",
       "        text-align: right;\n",
       "    }\n",
       "</style>\n",
       "<table border=\"1\" class=\"dataframe\">\n",
       "  <thead>\n",
       "    <tr style=\"text-align: right;\">\n",
       "      <th></th>\n",
       "      <th>date_aq</th>\n",
       "      <th>provinceNo</th>\n",
       "      <th>PM25</th>\n",
       "    </tr>\n",
       "  </thead>\n",
       "  <tbody>\n",
       "    <tr>\n",
       "      <th>28187</th>\n",
       "      <td>2022-01-30</td>\n",
       "      <td>71</td>\n",
       "      <td>18.888889</td>\n",
       "    </tr>\n",
       "    <tr>\n",
       "      <th>28188</th>\n",
       "      <td>2022-01-30</td>\n",
       "      <td>72</td>\n",
       "      <td>24.888889</td>\n",
       "    </tr>\n",
       "    <tr>\n",
       "      <th>28189</th>\n",
       "      <td>2022-01-30</td>\n",
       "      <td>74</td>\n",
       "      <td>22.555556</td>\n",
       "    </tr>\n",
       "    <tr>\n",
       "      <th>28190</th>\n",
       "      <td>2022-01-30</td>\n",
       "      <td>75</td>\n",
       "      <td>27.171239</td>\n",
       "    </tr>\n",
       "    <tr>\n",
       "      <th>28191</th>\n",
       "      <td>2022-01-30</td>\n",
       "      <td>76</td>\n",
       "      <td>22.759259</td>\n",
       "    </tr>\n",
       "  </tbody>\n",
       "</table>\n",
       "</div>"
      ],
      "text/plain": [
       "          date_aq  provinceNo       PM25\n",
       "28187  2022-01-30          71  18.888889\n",
       "28188  2022-01-30          72  24.888889\n",
       "28189  2022-01-30          74  22.555556\n",
       "28190  2022-01-30          75  27.171239\n",
       "28191  2022-01-30          76  22.759259"
      ]
     },
     "execution_count": 104,
     "metadata": {},
     "output_type": "execute_result"
    }
   ],
   "source": [
    "dfPM25.tail()"
   ]
  },
  {
   "cell_type": "code",
   "execution_count": 105,
   "metadata": {},
   "outputs": [],
   "source": [
    "dfPM25_filtered = dfPM25[dfPM25['date_aq'].isin(validDate)]\n",
    "\n",
    "dfPM25_filtered =  dfPM25_filtered[dfPM25_filtered['provinceNo'].isin(provinceNoIntersect)]"
   ]
  },
  {
   "cell_type": "code",
   "execution_count": 106,
   "metadata": {},
   "outputs": [
    {
     "data": {
      "text/html": [
       "<div>\n",
       "<style scoped>\n",
       "    .dataframe tbody tr th:only-of-type {\n",
       "        vertical-align: middle;\n",
       "    }\n",
       "\n",
       "    .dataframe tbody tr th {\n",
       "        vertical-align: top;\n",
       "    }\n",
       "\n",
       "    .dataframe thead th {\n",
       "        text-align: right;\n",
       "    }\n",
       "</style>\n",
       "<table border=\"1\" class=\"dataframe\">\n",
       "  <thead>\n",
       "    <tr style=\"text-align: right;\">\n",
       "      <th></th>\n",
       "      <th>date_aq</th>\n",
       "      <th>provinceNo</th>\n",
       "      <th>PM25</th>\n",
       "    </tr>\n",
       "  </thead>\n",
       "  <tbody>\n",
       "    <tr>\n",
       "      <th>27720</th>\n",
       "      <td>2022-01-22</td>\n",
       "      <td>72</td>\n",
       "      <td>13.958333</td>\n",
       "    </tr>\n",
       "    <tr>\n",
       "      <th>27721</th>\n",
       "      <td>2022-01-22</td>\n",
       "      <td>73</td>\n",
       "      <td>15.833333</td>\n",
       "    </tr>\n",
       "    <tr>\n",
       "      <th>27722</th>\n",
       "      <td>2022-01-22</td>\n",
       "      <td>74</td>\n",
       "      <td>14.685185</td>\n",
       "    </tr>\n",
       "    <tr>\n",
       "      <th>27723</th>\n",
       "      <td>2022-01-22</td>\n",
       "      <td>75</td>\n",
       "      <td>17.225225</td>\n",
       "    </tr>\n",
       "    <tr>\n",
       "      <th>27724</th>\n",
       "      <td>2022-01-22</td>\n",
       "      <td>76</td>\n",
       "      <td>15.666667</td>\n",
       "    </tr>\n",
       "  </tbody>\n",
       "</table>\n",
       "</div>"
      ],
      "text/plain": [
       "          date_aq  provinceNo       PM25\n",
       "27720  2022-01-22          72  13.958333\n",
       "27721  2022-01-22          73  15.833333\n",
       "27722  2022-01-22          74  14.685185\n",
       "27723  2022-01-22          75  17.225225\n",
       "27724  2022-01-22          76  15.666667"
      ]
     },
     "execution_count": 106,
     "metadata": {},
     "output_type": "execute_result"
    }
   ],
   "source": [
    "dfPM25_filtered.tail()"
   ]
  },
  {
   "cell_type": "code",
   "execution_count": 107,
   "metadata": {},
   "outputs": [],
   "source": [
    "dfPM25_filtered.rename({'date_aq':'date'},axis=1, inplace=True)"
   ]
  },
  {
   "cell_type": "code",
   "execution_count": 108,
   "metadata": {},
   "outputs": [
    {
     "data": {
      "text/html": [
       "<div>\n",
       "<style scoped>\n",
       "    .dataframe tbody tr th:only-of-type {\n",
       "        vertical-align: middle;\n",
       "    }\n",
       "\n",
       "    .dataframe tbody tr th {\n",
       "        vertical-align: top;\n",
       "    }\n",
       "\n",
       "    .dataframe thead th {\n",
       "        text-align: right;\n",
       "    }\n",
       "</style>\n",
       "<table border=\"1\" class=\"dataframe\">\n",
       "  <thead>\n",
       "    <tr style=\"text-align: right;\">\n",
       "      <th></th>\n",
       "      <th>date</th>\n",
       "      <th>provinceNo</th>\n",
       "      <th>PM25</th>\n",
       "    </tr>\n",
       "  </thead>\n",
       "  <tbody>\n",
       "    <tr>\n",
       "      <th>94</th>\n",
       "      <td>2020-07-22</td>\n",
       "      <td>0</td>\n",
       "      <td>9.062500</td>\n",
       "    </tr>\n",
       "    <tr>\n",
       "      <th>95</th>\n",
       "      <td>2020-07-22</td>\n",
       "      <td>1</td>\n",
       "      <td>9.276596</td>\n",
       "    </tr>\n",
       "    <tr>\n",
       "      <th>96</th>\n",
       "      <td>2020-07-22</td>\n",
       "      <td>2</td>\n",
       "      <td>8.458333</td>\n",
       "    </tr>\n",
       "    <tr>\n",
       "      <th>97</th>\n",
       "      <td>2020-07-22</td>\n",
       "      <td>3</td>\n",
       "      <td>9.458333</td>\n",
       "    </tr>\n",
       "    <tr>\n",
       "      <th>98</th>\n",
       "      <td>2020-07-22</td>\n",
       "      <td>4</td>\n",
       "      <td>11.333333</td>\n",
       "    </tr>\n",
       "  </tbody>\n",
       "</table>\n",
       "</div>"
      ],
      "text/plain": [
       "          date  provinceNo       PM25\n",
       "94  2020-07-22           0   9.062500\n",
       "95  2020-07-22           1   9.276596\n",
       "96  2020-07-22           2   8.458333\n",
       "97  2020-07-22           3   9.458333\n",
       "98  2020-07-22           4  11.333333"
      ]
     },
     "execution_count": 108,
     "metadata": {},
     "output_type": "execute_result"
    }
   ],
   "source": [
    "dfPM25_filtered.head()"
   ]
  },
  {
   "cell_type": "markdown",
   "metadata": {},
   "source": [
    "# Merge PM25 with O3 and CO data"
   ]
  },
  {
   "cell_type": "code",
   "execution_count": 109,
   "metadata": {},
   "outputs": [],
   "source": [
    "def prep(path):\n",
    "    df = pd.read_csv(path)\n",
    "    df = df.drop(columns=df.columns[0], axis=1)\n",
    "    df['provinceNo'] = df['provinceNo'].astype(int)\n",
    "    df['date'] = df['date'].astype(str)\n",
    "    df['date'] = df['date'].apply(lambda x : x[0:4]+\"-\"+x[4:6]+\"-\"+x[6:8])\n",
    "    return df"
   ]
  },
  {
   "cell_type": "code",
   "execution_count": 110,
   "metadata": {},
   "outputs": [],
   "source": [
    "dfO3 = prep(\"../ScrapedData/O3Data.csv\")\n",
    "dfCO = prep(\"../ScrapedData/COData.csv\")"
   ]
  },
  {
   "cell_type": "code",
   "execution_count": 111,
   "metadata": {},
   "outputs": [
    {
     "data": {
      "text/html": [
       "<div>\n",
       "<style scoped>\n",
       "    .dataframe tbody tr th:only-of-type {\n",
       "        vertical-align: middle;\n",
       "    }\n",
       "\n",
       "    .dataframe tbody tr th {\n",
       "        vertical-align: top;\n",
       "    }\n",
       "\n",
       "    .dataframe thead th {\n",
       "        text-align: right;\n",
       "    }\n",
       "</style>\n",
       "<table border=\"1\" class=\"dataframe\">\n",
       "  <thead>\n",
       "    <tr style=\"text-align: right;\">\n",
       "      <th></th>\n",
       "      <th>date</th>\n",
       "      <th>provinceNo</th>\n",
       "      <th>PM25</th>\n",
       "      <th>O3</th>\n",
       "      <th>CO</th>\n",
       "    </tr>\n",
       "  </thead>\n",
       "  <tbody>\n",
       "    <tr>\n",
       "      <th>0</th>\n",
       "      <td>2020-07-22</td>\n",
       "      <td>0</td>\n",
       "      <td>9.062500</td>\n",
       "      <td>62</td>\n",
       "      <td>120</td>\n",
       "    </tr>\n",
       "    <tr>\n",
       "      <th>1</th>\n",
       "      <td>2020-07-22</td>\n",
       "      <td>1</td>\n",
       "      <td>9.276596</td>\n",
       "      <td>42</td>\n",
       "      <td>110</td>\n",
       "    </tr>\n",
       "    <tr>\n",
       "      <th>2</th>\n",
       "      <td>2020-07-22</td>\n",
       "      <td>2</td>\n",
       "      <td>8.458333</td>\n",
       "      <td>32</td>\n",
       "      <td>120</td>\n",
       "    </tr>\n",
       "    <tr>\n",
       "      <th>3</th>\n",
       "      <td>2020-07-22</td>\n",
       "      <td>3</td>\n",
       "      <td>9.458333</td>\n",
       "      <td>56</td>\n",
       "      <td>120</td>\n",
       "    </tr>\n",
       "    <tr>\n",
       "      <th>4</th>\n",
       "      <td>2020-07-22</td>\n",
       "      <td>4</td>\n",
       "      <td>11.333333</td>\n",
       "      <td>61</td>\n",
       "      <td>190</td>\n",
       "    </tr>\n",
       "  </tbody>\n",
       "</table>\n",
       "</div>"
      ],
      "text/plain": [
       "         date  provinceNo       PM25  O3   CO\n",
       "0  2020-07-22           0   9.062500  62  120\n",
       "1  2020-07-22           1   9.276596  42  110\n",
       "2  2020-07-22           2   8.458333  32  120\n",
       "3  2020-07-22           3   9.458333  56  120\n",
       "4  2020-07-22           4  11.333333  61  190"
      ]
     },
     "execution_count": 111,
     "metadata": {},
     "output_type": "execute_result"
    }
   ],
   "source": [
    "df_merge_temp = dfPM25_filtered.merge(dfO3,on=['date','provinceNo'])\n",
    "df_merge = df_merge_temp.merge(dfCO,on=['date','provinceNo'])\n",
    "df_merge.rename({\"o3\":\"O3\",\"co\":\"CO\"},axis=1,inplace=True)\n",
    "df_merge.head()"
   ]
  },
  {
   "cell_type": "markdown",
   "metadata": {},
   "source": [
    "# KMeans"
   ]
  },
  {
   "cell_type": "code",
   "execution_count": 112,
   "metadata": {},
   "outputs": [],
   "source": [
    "from sklearn.cluster import KMeans"
   ]
  },
  {
   "cell_type": "code",
   "execution_count": 113,
   "metadata": {},
   "outputs": [
    {
     "data": {
      "text/html": [
       "<div>\n",
       "<style scoped>\n",
       "    .dataframe tbody tr th:only-of-type {\n",
       "        vertical-align: middle;\n",
       "    }\n",
       "\n",
       "    .dataframe tbody tr th {\n",
       "        vertical-align: top;\n",
       "    }\n",
       "\n",
       "    .dataframe thead th {\n",
       "        text-align: right;\n",
       "    }\n",
       "</style>\n",
       "<table border=\"1\" class=\"dataframe\">\n",
       "  <thead>\n",
       "    <tr style=\"text-align: right;\">\n",
       "      <th></th>\n",
       "      <th>PM25</th>\n",
       "      <th>O3</th>\n",
       "      <th>CO</th>\n",
       "    </tr>\n",
       "  </thead>\n",
       "  <tbody>\n",
       "    <tr>\n",
       "      <th>701</th>\n",
       "      <td>30.586207</td>\n",
       "      <td>109</td>\n",
       "      <td>400</td>\n",
       "    </tr>\n",
       "    <tr>\n",
       "      <th>702</th>\n",
       "      <td>23.293103</td>\n",
       "      <td>128</td>\n",
       "      <td>490</td>\n",
       "    </tr>\n",
       "    <tr>\n",
       "      <th>703</th>\n",
       "      <td>23.785714</td>\n",
       "      <td>59</td>\n",
       "      <td>350</td>\n",
       "    </tr>\n",
       "    <tr>\n",
       "      <th>704</th>\n",
       "      <td>43.250000</td>\n",
       "      <td>64</td>\n",
       "      <td>270</td>\n",
       "    </tr>\n",
       "    <tr>\n",
       "      <th>705</th>\n",
       "      <td>29.916667</td>\n",
       "      <td>60</td>\n",
       "      <td>270</td>\n",
       "    </tr>\n",
       "  </tbody>\n",
       "</table>\n",
       "</div>"
      ],
      "text/plain": [
       "          PM25   O3   CO\n",
       "701  30.586207  109  400\n",
       "702  23.293103  128  490\n",
       "703  23.785714   59  350\n",
       "704  43.250000   64  270\n",
       "705  29.916667   60  270"
      ]
     },
     "execution_count": 113,
     "metadata": {},
     "output_type": "execute_result"
    }
   ],
   "source": [
    "df20200722 = df_merge[df_merge['date'] == '2020-12-15'].iloc[:,2:]\n",
    "df20200722.head()"
   ]
  },
  {
   "cell_type": "code",
   "execution_count": 114,
   "metadata": {},
   "outputs": [],
   "source": [
    "from sklearn.preprocessing import StandardScaler"
   ]
  },
  {
   "cell_type": "code",
   "execution_count": 154,
   "metadata": {},
   "outputs": [],
   "source": [
    "def clusterOneday(date):\n",
    "    df_DateProvinceNo = df_merge[df_merge['date'] == date].iloc[:,:2]\n",
    "    df = df_merge[df_merge['date'] == date].iloc[:,2:]\n",
    "    scaler = StandardScaler()\n",
    "    scaler.fit(df)\n",
    "    trans_df = scaler.transform(df)\n",
    "\n",
    "    kmeans = KMeans(n_clusters=3,random_state=2022) #might change as there will be 3 features\n",
    "    kmeans.fit(trans_df)\n",
    "    # print(kmeans.cluster_centers_)\n",
    "    # print(kmeans.labels_)\n",
    "    # print(trans_df)\n",
    "    predict_df = pd.DataFrame(kmeans.predict(trans_df),columns=['cluster'])\n",
    "    predict_df.insert(0,\"provinceNo\",df_DateProvinceNo['provinceNo'].to_list())\n",
    "    predict_df.insert(0,\"date\",df_DateProvinceNo['date'].to_list())\n",
    "    return predict_df\n"
   ]
  },
  {
   "cell_type": "code",
   "execution_count": 139,
   "metadata": {},
   "outputs": [
    {
     "data": {
      "text/plain": [
       "36     0\n",
       "37     1\n",
       "38     2\n",
       "39     3\n",
       "40     4\n",
       "41     5\n",
       "42     6\n",
       "43     7\n",
       "44    10\n",
       "45    13\n",
       "46    20\n",
       "47    24\n",
       "48    27\n",
       "49    33\n",
       "50    34\n",
       "51    35\n",
       "52    36\n",
       "53    41\n",
       "54    43\n",
       "55    47\n",
       "56    49\n",
       "57    52\n",
       "58    53\n",
       "59    54\n",
       "60    56\n",
       "61    57\n",
       "62    63\n",
       "63    64\n",
       "64    69\n",
       "65    70\n",
       "66    71\n",
       "67    72\n",
       "68    73\n",
       "69    74\n",
       "70    75\n",
       "71    76\n",
       "Name: provinceNo, dtype: int64"
      ]
     },
     "execution_count": 139,
     "metadata": {},
     "output_type": "execute_result"
    }
   ],
   "source": [
    "df_DateProvinceNo = df_merge[df_merge['date'] == date].iloc[:,:2]\n",
    "df_DateProvinceNo['provinceNo']"
   ]
  },
  {
   "cell_type": "code",
   "execution_count": 156,
   "metadata": {},
   "outputs": [
    {
     "data": {
      "text/html": [
       "<div>\n",
       "<style scoped>\n",
       "    .dataframe tbody tr th:only-of-type {\n",
       "        vertical-align: middle;\n",
       "    }\n",
       "\n",
       "    .dataframe tbody tr th {\n",
       "        vertical-align: top;\n",
       "    }\n",
       "\n",
       "    .dataframe thead th {\n",
       "        text-align: right;\n",
       "    }\n",
       "</style>\n",
       "<table border=\"1\" class=\"dataframe\">\n",
       "  <thead>\n",
       "    <tr style=\"text-align: right;\">\n",
       "      <th></th>\n",
       "      <th>date</th>\n",
       "      <th>provinceNo</th>\n",
       "      <th>cluster</th>\n",
       "    </tr>\n",
       "  </thead>\n",
       "  <tbody>\n",
       "    <tr>\n",
       "      <th>0</th>\n",
       "      <td>2020-08-08</td>\n",
       "      <td>0</td>\n",
       "      <td>1</td>\n",
       "    </tr>\n",
       "    <tr>\n",
       "      <th>1</th>\n",
       "      <td>2020-08-08</td>\n",
       "      <td>1</td>\n",
       "      <td>1</td>\n",
       "    </tr>\n",
       "    <tr>\n",
       "      <th>2</th>\n",
       "      <td>2020-08-08</td>\n",
       "      <td>2</td>\n",
       "      <td>1</td>\n",
       "    </tr>\n",
       "    <tr>\n",
       "      <th>3</th>\n",
       "      <td>2020-08-08</td>\n",
       "      <td>3</td>\n",
       "      <td>1</td>\n",
       "    </tr>\n",
       "    <tr>\n",
       "      <th>4</th>\n",
       "      <td>2020-08-08</td>\n",
       "      <td>4</td>\n",
       "      <td>1</td>\n",
       "    </tr>\n",
       "    <tr>\n",
       "      <th>5</th>\n",
       "      <td>2020-08-08</td>\n",
       "      <td>5</td>\n",
       "      <td>1</td>\n",
       "    </tr>\n",
       "    <tr>\n",
       "      <th>6</th>\n",
       "      <td>2020-08-08</td>\n",
       "      <td>6</td>\n",
       "      <td>1</td>\n",
       "    </tr>\n",
       "    <tr>\n",
       "      <th>7</th>\n",
       "      <td>2020-08-08</td>\n",
       "      <td>7</td>\n",
       "      <td>1</td>\n",
       "    </tr>\n",
       "    <tr>\n",
       "      <th>8</th>\n",
       "      <td>2020-08-08</td>\n",
       "      <td>10</td>\n",
       "      <td>2</td>\n",
       "    </tr>\n",
       "    <tr>\n",
       "      <th>9</th>\n",
       "      <td>2020-08-08</td>\n",
       "      <td>13</td>\n",
       "      <td>1</td>\n",
       "    </tr>\n",
       "    <tr>\n",
       "      <th>10</th>\n",
       "      <td>2020-08-08</td>\n",
       "      <td>20</td>\n",
       "      <td>1</td>\n",
       "    </tr>\n",
       "    <tr>\n",
       "      <th>11</th>\n",
       "      <td>2020-08-08</td>\n",
       "      <td>24</td>\n",
       "      <td>0</td>\n",
       "    </tr>\n",
       "    <tr>\n",
       "      <th>12</th>\n",
       "      <td>2020-08-08</td>\n",
       "      <td>27</td>\n",
       "      <td>0</td>\n",
       "    </tr>\n",
       "    <tr>\n",
       "      <th>13</th>\n",
       "      <td>2020-08-08</td>\n",
       "      <td>33</td>\n",
       "      <td>1</td>\n",
       "    </tr>\n",
       "    <tr>\n",
       "      <th>14</th>\n",
       "      <td>2020-08-08</td>\n",
       "      <td>34</td>\n",
       "      <td>0</td>\n",
       "    </tr>\n",
       "    <tr>\n",
       "      <th>15</th>\n",
       "      <td>2020-08-08</td>\n",
       "      <td>35</td>\n",
       "      <td>0</td>\n",
       "    </tr>\n",
       "    <tr>\n",
       "      <th>16</th>\n",
       "      <td>2020-08-08</td>\n",
       "      <td>36</td>\n",
       "      <td>0</td>\n",
       "    </tr>\n",
       "    <tr>\n",
       "      <th>17</th>\n",
       "      <td>2020-08-08</td>\n",
       "      <td>41</td>\n",
       "      <td>1</td>\n",
       "    </tr>\n",
       "    <tr>\n",
       "      <th>18</th>\n",
       "      <td>2020-08-08</td>\n",
       "      <td>43</td>\n",
       "      <td>1</td>\n",
       "    </tr>\n",
       "    <tr>\n",
       "      <th>19</th>\n",
       "      <td>2020-08-08</td>\n",
       "      <td>47</td>\n",
       "      <td>0</td>\n",
       "    </tr>\n",
       "    <tr>\n",
       "      <th>20</th>\n",
       "      <td>2020-08-08</td>\n",
       "      <td>49</td>\n",
       "      <td>1</td>\n",
       "    </tr>\n",
       "    <tr>\n",
       "      <th>21</th>\n",
       "      <td>2020-08-08</td>\n",
       "      <td>52</td>\n",
       "      <td>2</td>\n",
       "    </tr>\n",
       "    <tr>\n",
       "      <th>22</th>\n",
       "      <td>2020-08-08</td>\n",
       "      <td>53</td>\n",
       "      <td>0</td>\n",
       "    </tr>\n",
       "    <tr>\n",
       "      <th>23</th>\n",
       "      <td>2020-08-08</td>\n",
       "      <td>54</td>\n",
       "      <td>1</td>\n",
       "    </tr>\n",
       "    <tr>\n",
       "      <th>24</th>\n",
       "      <td>2020-08-08</td>\n",
       "      <td>56</td>\n",
       "      <td>1</td>\n",
       "    </tr>\n",
       "    <tr>\n",
       "      <th>25</th>\n",
       "      <td>2020-08-08</td>\n",
       "      <td>57</td>\n",
       "      <td>1</td>\n",
       "    </tr>\n",
       "    <tr>\n",
       "      <th>26</th>\n",
       "      <td>2020-08-08</td>\n",
       "      <td>63</td>\n",
       "      <td>1</td>\n",
       "    </tr>\n",
       "    <tr>\n",
       "      <th>27</th>\n",
       "      <td>2020-08-08</td>\n",
       "      <td>64</td>\n",
       "      <td>1</td>\n",
       "    </tr>\n",
       "    <tr>\n",
       "      <th>28</th>\n",
       "      <td>2020-08-08</td>\n",
       "      <td>69</td>\n",
       "      <td>1</td>\n",
       "    </tr>\n",
       "    <tr>\n",
       "      <th>29</th>\n",
       "      <td>2020-08-08</td>\n",
       "      <td>70</td>\n",
       "      <td>1</td>\n",
       "    </tr>\n",
       "    <tr>\n",
       "      <th>30</th>\n",
       "      <td>2020-08-08</td>\n",
       "      <td>71</td>\n",
       "      <td>2</td>\n",
       "    </tr>\n",
       "    <tr>\n",
       "      <th>31</th>\n",
       "      <td>2020-08-08</td>\n",
       "      <td>72</td>\n",
       "      <td>2</td>\n",
       "    </tr>\n",
       "    <tr>\n",
       "      <th>32</th>\n",
       "      <td>2020-08-08</td>\n",
       "      <td>73</td>\n",
       "      <td>1</td>\n",
       "    </tr>\n",
       "    <tr>\n",
       "      <th>33</th>\n",
       "      <td>2020-08-08</td>\n",
       "      <td>74</td>\n",
       "      <td>0</td>\n",
       "    </tr>\n",
       "    <tr>\n",
       "      <th>34</th>\n",
       "      <td>2020-08-08</td>\n",
       "      <td>75</td>\n",
       "      <td>2</td>\n",
       "    </tr>\n",
       "    <tr>\n",
       "      <th>35</th>\n",
       "      <td>2020-08-08</td>\n",
       "      <td>76</td>\n",
       "      <td>1</td>\n",
       "    </tr>\n",
       "  </tbody>\n",
       "</table>\n",
       "</div>"
      ],
      "text/plain": [
       "          date  provinceNo  cluster\n",
       "0   2020-08-08           0        1\n",
       "1   2020-08-08           1        1\n",
       "2   2020-08-08           2        1\n",
       "3   2020-08-08           3        1\n",
       "4   2020-08-08           4        1\n",
       "5   2020-08-08           5        1\n",
       "6   2020-08-08           6        1\n",
       "7   2020-08-08           7        1\n",
       "8   2020-08-08          10        2\n",
       "9   2020-08-08          13        1\n",
       "10  2020-08-08          20        1\n",
       "11  2020-08-08          24        0\n",
       "12  2020-08-08          27        0\n",
       "13  2020-08-08          33        1\n",
       "14  2020-08-08          34        0\n",
       "15  2020-08-08          35        0\n",
       "16  2020-08-08          36        0\n",
       "17  2020-08-08          41        1\n",
       "18  2020-08-08          43        1\n",
       "19  2020-08-08          47        0\n",
       "20  2020-08-08          49        1\n",
       "21  2020-08-08          52        2\n",
       "22  2020-08-08          53        0\n",
       "23  2020-08-08          54        1\n",
       "24  2020-08-08          56        1\n",
       "25  2020-08-08          57        1\n",
       "26  2020-08-08          63        1\n",
       "27  2020-08-08          64        1\n",
       "28  2020-08-08          69        1\n",
       "29  2020-08-08          70        1\n",
       "30  2020-08-08          71        2\n",
       "31  2020-08-08          72        2\n",
       "32  2020-08-08          73        1\n",
       "33  2020-08-08          74        0\n",
       "34  2020-08-08          75        2\n",
       "35  2020-08-08          76        1"
      ]
     },
     "execution_count": 156,
     "metadata": {},
     "output_type": "execute_result"
    }
   ],
   "source": [
    "dfCluster = clusterOneday('2020-08-08')\n",
    "dfCluster"
   ]
  },
  {
   "cell_type": "code",
   "execution_count": 157,
   "metadata": {},
   "outputs": [
    {
     "data": {
      "text/html": [
       "<div>\n",
       "<style scoped>\n",
       "    .dataframe tbody tr th:only-of-type {\n",
       "        vertical-align: middle;\n",
       "    }\n",
       "\n",
       "    .dataframe tbody tr th {\n",
       "        vertical-align: top;\n",
       "    }\n",
       "\n",
       "    .dataframe thead th {\n",
       "        text-align: right;\n",
       "    }\n",
       "</style>\n",
       "<table border=\"1\" class=\"dataframe\">\n",
       "  <thead>\n",
       "    <tr style=\"text-align: right;\">\n",
       "      <th></th>\n",
       "      <th>date</th>\n",
       "      <th>provinceNo</th>\n",
       "      <th>cluster</th>\n",
       "    </tr>\n",
       "  </thead>\n",
       "  <tbody>\n",
       "    <tr>\n",
       "      <th>0</th>\n",
       "      <td>2020-07-22</td>\n",
       "      <td>0</td>\n",
       "      <td>0</td>\n",
       "    </tr>\n",
       "    <tr>\n",
       "      <th>1</th>\n",
       "      <td>2020-07-22</td>\n",
       "      <td>1</td>\n",
       "      <td>0</td>\n",
       "    </tr>\n",
       "    <tr>\n",
       "      <th>2</th>\n",
       "      <td>2020-07-22</td>\n",
       "      <td>2</td>\n",
       "      <td>0</td>\n",
       "    </tr>\n",
       "    <tr>\n",
       "      <th>3</th>\n",
       "      <td>2020-07-22</td>\n",
       "      <td>3</td>\n",
       "      <td>0</td>\n",
       "    </tr>\n",
       "    <tr>\n",
       "      <th>4</th>\n",
       "      <td>2020-07-22</td>\n",
       "      <td>4</td>\n",
       "      <td>0</td>\n",
       "    </tr>\n",
       "    <tr>\n",
       "      <th>...</th>\n",
       "      <td>...</td>\n",
       "      <td>...</td>\n",
       "      <td>...</td>\n",
       "    </tr>\n",
       "    <tr>\n",
       "      <th>45</th>\n",
       "      <td>2022-01-22</td>\n",
       "      <td>72</td>\n",
       "      <td>2</td>\n",
       "    </tr>\n",
       "    <tr>\n",
       "      <th>46</th>\n",
       "      <td>2022-01-22</td>\n",
       "      <td>73</td>\n",
       "      <td>2</td>\n",
       "    </tr>\n",
       "    <tr>\n",
       "      <th>47</th>\n",
       "      <td>2022-01-22</td>\n",
       "      <td>74</td>\n",
       "      <td>2</td>\n",
       "    </tr>\n",
       "    <tr>\n",
       "      <th>48</th>\n",
       "      <td>2022-01-22</td>\n",
       "      <td>75</td>\n",
       "      <td>2</td>\n",
       "    </tr>\n",
       "    <tr>\n",
       "      <th>49</th>\n",
       "      <td>2022-01-22</td>\n",
       "      <td>76</td>\n",
       "      <td>2</td>\n",
       "    </tr>\n",
       "  </tbody>\n",
       "</table>\n",
       "<p>3102 rows × 3 columns</p>\n",
       "</div>"
      ],
      "text/plain": [
       "          date  provinceNo  cluster\n",
       "0   2020-07-22           0        0\n",
       "1   2020-07-22           1        0\n",
       "2   2020-07-22           2        0\n",
       "3   2020-07-22           3        0\n",
       "4   2020-07-22           4        0\n",
       "..         ...         ...      ...\n",
       "45  2022-01-22          72        2\n",
       "46  2022-01-22          73        2\n",
       "47  2022-01-22          74        2\n",
       "48  2022-01-22          75        2\n",
       "49  2022-01-22          76        2\n",
       "\n",
       "[3102 rows x 3 columns]"
      ]
     },
     "metadata": {},
     "output_type": "display_data"
    }
   ],
   "source": [
    "dfCluster = clusterOneday('2020-07-22')\n",
    "for e in validDate[1:]:\n",
    "    dfClusterTemp = clusterOneday(e)\n",
    "    dfCluster = pd.concat([dfCluster,dfClusterTemp])\n",
    "display(dfCluster)"
   ]
  },
  {
   "cell_type": "code",
   "execution_count": 166,
   "metadata": {},
   "outputs": [
    {
     "data": {
      "text/html": [
       "<div>\n",
       "<style scoped>\n",
       "    .dataframe tbody tr th:only-of-type {\n",
       "        vertical-align: middle;\n",
       "    }\n",
       "\n",
       "    .dataframe tbody tr th {\n",
       "        vertical-align: top;\n",
       "    }\n",
       "\n",
       "    .dataframe thead th {\n",
       "        text-align: right;\n",
       "    }\n",
       "</style>\n",
       "<table border=\"1\" class=\"dataframe\">\n",
       "  <thead>\n",
       "    <tr style=\"text-align: right;\">\n",
       "      <th></th>\n",
       "      <th>date</th>\n",
       "      <th>provinceNo</th>\n",
       "      <th>cluster</th>\n",
       "    </tr>\n",
       "  </thead>\n",
       "  <tbody>\n",
       "    <tr>\n",
       "      <th>0</th>\n",
       "      <td>2022-01-22</td>\n",
       "      <td>0</td>\n",
       "      <td>2</td>\n",
       "    </tr>\n",
       "    <tr>\n",
       "      <th>1</th>\n",
       "      <td>2022-01-22</td>\n",
       "      <td>1</td>\n",
       "      <td>2</td>\n",
       "    </tr>\n",
       "    <tr>\n",
       "      <th>2</th>\n",
       "      <td>2022-01-22</td>\n",
       "      <td>2</td>\n",
       "      <td>2</td>\n",
       "    </tr>\n",
       "    <tr>\n",
       "      <th>3</th>\n",
       "      <td>2022-01-22</td>\n",
       "      <td>3</td>\n",
       "      <td>2</td>\n",
       "    </tr>\n",
       "    <tr>\n",
       "      <th>4</th>\n",
       "      <td>2022-01-22</td>\n",
       "      <td>4</td>\n",
       "      <td>0</td>\n",
       "    </tr>\n",
       "    <tr>\n",
       "      <th>5</th>\n",
       "      <td>2022-01-22</td>\n",
       "      <td>5</td>\n",
       "      <td>2</td>\n",
       "    </tr>\n",
       "    <tr>\n",
       "      <th>6</th>\n",
       "      <td>2022-01-22</td>\n",
       "      <td>6</td>\n",
       "      <td>0</td>\n",
       "    </tr>\n",
       "    <tr>\n",
       "      <th>7</th>\n",
       "      <td>2022-01-22</td>\n",
       "      <td>7</td>\n",
       "      <td>2</td>\n",
       "    </tr>\n",
       "    <tr>\n",
       "      <th>8</th>\n",
       "      <td>2022-01-22</td>\n",
       "      <td>9</td>\n",
       "      <td>0</td>\n",
       "    </tr>\n",
       "    <tr>\n",
       "      <th>9</th>\n",
       "      <td>2022-01-22</td>\n",
       "      <td>10</td>\n",
       "      <td>0</td>\n",
       "    </tr>\n",
       "    <tr>\n",
       "      <th>10</th>\n",
       "      <td>2022-01-22</td>\n",
       "      <td>11</td>\n",
       "      <td>0</td>\n",
       "    </tr>\n",
       "    <tr>\n",
       "      <th>11</th>\n",
       "      <td>2022-01-22</td>\n",
       "      <td>12</td>\n",
       "      <td>0</td>\n",
       "    </tr>\n",
       "    <tr>\n",
       "      <th>12</th>\n",
       "      <td>2022-01-22</td>\n",
       "      <td>13</td>\n",
       "      <td>0</td>\n",
       "    </tr>\n",
       "    <tr>\n",
       "      <th>13</th>\n",
       "      <td>2022-01-22</td>\n",
       "      <td>15</td>\n",
       "      <td>0</td>\n",
       "    </tr>\n",
       "    <tr>\n",
       "      <th>14</th>\n",
       "      <td>2022-01-22</td>\n",
       "      <td>19</td>\n",
       "      <td>0</td>\n",
       "    </tr>\n",
       "    <tr>\n",
       "      <th>15</th>\n",
       "      <td>2022-01-22</td>\n",
       "      <td>20</td>\n",
       "      <td>0</td>\n",
       "    </tr>\n",
       "    <tr>\n",
       "      <th>16</th>\n",
       "      <td>2022-01-22</td>\n",
       "      <td>21</td>\n",
       "      <td>0</td>\n",
       "    </tr>\n",
       "    <tr>\n",
       "      <th>17</th>\n",
       "      <td>2022-01-22</td>\n",
       "      <td>24</td>\n",
       "      <td>0</td>\n",
       "    </tr>\n",
       "    <tr>\n",
       "      <th>18</th>\n",
       "      <td>2022-01-22</td>\n",
       "      <td>26</td>\n",
       "      <td>0</td>\n",
       "    </tr>\n",
       "    <tr>\n",
       "      <th>19</th>\n",
       "      <td>2022-01-22</td>\n",
       "      <td>27</td>\n",
       "      <td>0</td>\n",
       "    </tr>\n",
       "    <tr>\n",
       "      <th>20</th>\n",
       "      <td>2022-01-22</td>\n",
       "      <td>29</td>\n",
       "      <td>0</td>\n",
       "    </tr>\n",
       "    <tr>\n",
       "      <th>21</th>\n",
       "      <td>2022-01-22</td>\n",
       "      <td>31</td>\n",
       "      <td>2</td>\n",
       "    </tr>\n",
       "    <tr>\n",
       "      <th>22</th>\n",
       "      <td>2022-01-22</td>\n",
       "      <td>33</td>\n",
       "      <td>0</td>\n",
       "    </tr>\n",
       "    <tr>\n",
       "      <th>23</th>\n",
       "      <td>2022-01-22</td>\n",
       "      <td>34</td>\n",
       "      <td>1</td>\n",
       "    </tr>\n",
       "    <tr>\n",
       "      <th>24</th>\n",
       "      <td>2022-01-22</td>\n",
       "      <td>35</td>\n",
       "      <td>1</td>\n",
       "    </tr>\n",
       "    <tr>\n",
       "      <th>25</th>\n",
       "      <td>2022-01-22</td>\n",
       "      <td>36</td>\n",
       "      <td>1</td>\n",
       "    </tr>\n",
       "    <tr>\n",
       "      <th>26</th>\n",
       "      <td>2022-01-22</td>\n",
       "      <td>37</td>\n",
       "      <td>0</td>\n",
       "    </tr>\n",
       "    <tr>\n",
       "      <th>27</th>\n",
       "      <td>2022-01-22</td>\n",
       "      <td>38</td>\n",
       "      <td>0</td>\n",
       "    </tr>\n",
       "    <tr>\n",
       "      <th>28</th>\n",
       "      <td>2022-01-22</td>\n",
       "      <td>39</td>\n",
       "      <td>0</td>\n",
       "    </tr>\n",
       "    <tr>\n",
       "      <th>29</th>\n",
       "      <td>2022-01-22</td>\n",
       "      <td>40</td>\n",
       "      <td>0</td>\n",
       "    </tr>\n",
       "    <tr>\n",
       "      <th>30</th>\n",
       "      <td>2022-01-22</td>\n",
       "      <td>41</td>\n",
       "      <td>2</td>\n",
       "    </tr>\n",
       "    <tr>\n",
       "      <th>31</th>\n",
       "      <td>2022-01-22</td>\n",
       "      <td>43</td>\n",
       "      <td>2</td>\n",
       "    </tr>\n",
       "    <tr>\n",
       "      <th>32</th>\n",
       "      <td>2022-01-22</td>\n",
       "      <td>44</td>\n",
       "      <td>0</td>\n",
       "    </tr>\n",
       "    <tr>\n",
       "      <th>33</th>\n",
       "      <td>2022-01-22</td>\n",
       "      <td>45</td>\n",
       "      <td>0</td>\n",
       "    </tr>\n",
       "    <tr>\n",
       "      <th>34</th>\n",
       "      <td>2022-01-22</td>\n",
       "      <td>47</td>\n",
       "      <td>0</td>\n",
       "    </tr>\n",
       "    <tr>\n",
       "      <th>35</th>\n",
       "      <td>2022-01-22</td>\n",
       "      <td>49</td>\n",
       "      <td>0</td>\n",
       "    </tr>\n",
       "    <tr>\n",
       "      <th>36</th>\n",
       "      <td>2022-01-22</td>\n",
       "      <td>52</td>\n",
       "      <td>2</td>\n",
       "    </tr>\n",
       "    <tr>\n",
       "      <th>37</th>\n",
       "      <td>2022-01-22</td>\n",
       "      <td>53</td>\n",
       "      <td>0</td>\n",
       "    </tr>\n",
       "    <tr>\n",
       "      <th>38</th>\n",
       "      <td>2022-01-22</td>\n",
       "      <td>54</td>\n",
       "      <td>2</td>\n",
       "    </tr>\n",
       "    <tr>\n",
       "      <th>39</th>\n",
       "      <td>2022-01-22</td>\n",
       "      <td>56</td>\n",
       "      <td>2</td>\n",
       "    </tr>\n",
       "    <tr>\n",
       "      <th>40</th>\n",
       "      <td>2022-01-22</td>\n",
       "      <td>57</td>\n",
       "      <td>2</td>\n",
       "    </tr>\n",
       "    <tr>\n",
       "      <th>41</th>\n",
       "      <td>2022-01-22</td>\n",
       "      <td>63</td>\n",
       "      <td>2</td>\n",
       "    </tr>\n",
       "    <tr>\n",
       "      <th>42</th>\n",
       "      <td>2022-01-22</td>\n",
       "      <td>64</td>\n",
       "      <td>2</td>\n",
       "    </tr>\n",
       "    <tr>\n",
       "      <th>43</th>\n",
       "      <td>2022-01-22</td>\n",
       "      <td>69</td>\n",
       "      <td>2</td>\n",
       "    </tr>\n",
       "    <tr>\n",
       "      <th>44</th>\n",
       "      <td>2022-01-22</td>\n",
       "      <td>71</td>\n",
       "      <td>2</td>\n",
       "    </tr>\n",
       "    <tr>\n",
       "      <th>45</th>\n",
       "      <td>2022-01-22</td>\n",
       "      <td>72</td>\n",
       "      <td>2</td>\n",
       "    </tr>\n",
       "    <tr>\n",
       "      <th>46</th>\n",
       "      <td>2022-01-22</td>\n",
       "      <td>73</td>\n",
       "      <td>2</td>\n",
       "    </tr>\n",
       "    <tr>\n",
       "      <th>47</th>\n",
       "      <td>2022-01-22</td>\n",
       "      <td>74</td>\n",
       "      <td>2</td>\n",
       "    </tr>\n",
       "    <tr>\n",
       "      <th>48</th>\n",
       "      <td>2022-01-22</td>\n",
       "      <td>75</td>\n",
       "      <td>2</td>\n",
       "    </tr>\n",
       "    <tr>\n",
       "      <th>49</th>\n",
       "      <td>2022-01-22</td>\n",
       "      <td>76</td>\n",
       "      <td>2</td>\n",
       "    </tr>\n",
       "  </tbody>\n",
       "</table>\n",
       "</div>"
      ],
      "text/plain": [
       "          date  provinceNo  cluster\n",
       "0   2022-01-22           0        2\n",
       "1   2022-01-22           1        2\n",
       "2   2022-01-22           2        2\n",
       "3   2022-01-22           3        2\n",
       "4   2022-01-22           4        0\n",
       "5   2022-01-22           5        2\n",
       "6   2022-01-22           6        0\n",
       "7   2022-01-22           7        2\n",
       "8   2022-01-22           9        0\n",
       "9   2022-01-22          10        0\n",
       "10  2022-01-22          11        0\n",
       "11  2022-01-22          12        0\n",
       "12  2022-01-22          13        0\n",
       "13  2022-01-22          15        0\n",
       "14  2022-01-22          19        0\n",
       "15  2022-01-22          20        0\n",
       "16  2022-01-22          21        0\n",
       "17  2022-01-22          24        0\n",
       "18  2022-01-22          26        0\n",
       "19  2022-01-22          27        0\n",
       "20  2022-01-22          29        0\n",
       "21  2022-01-22          31        2\n",
       "22  2022-01-22          33        0\n",
       "23  2022-01-22          34        1\n",
       "24  2022-01-22          35        1\n",
       "25  2022-01-22          36        1\n",
       "26  2022-01-22          37        0\n",
       "27  2022-01-22          38        0\n",
       "28  2022-01-22          39        0\n",
       "29  2022-01-22          40        0\n",
       "30  2022-01-22          41        2\n",
       "31  2022-01-22          43        2\n",
       "32  2022-01-22          44        0\n",
       "33  2022-01-22          45        0\n",
       "34  2022-01-22          47        0\n",
       "35  2022-01-22          49        0\n",
       "36  2022-01-22          52        2\n",
       "37  2022-01-22          53        0\n",
       "38  2022-01-22          54        2\n",
       "39  2022-01-22          56        2\n",
       "40  2022-01-22          57        2\n",
       "41  2022-01-22          63        2\n",
       "42  2022-01-22          64        2\n",
       "43  2022-01-22          69        2\n",
       "44  2022-01-22          71        2\n",
       "45  2022-01-22          72        2\n",
       "46  2022-01-22          73        2\n",
       "47  2022-01-22          74        2\n",
       "48  2022-01-22          75        2\n",
       "49  2022-01-22          76        2"
      ]
     },
     "execution_count": 166,
     "metadata": {},
     "output_type": "execute_result"
    }
   ],
   "source": [
    "dfTesting = clusterOneday('2022-01-22')\n",
    "dfTesting"
   ]
  },
  {
   "cell_type": "code",
   "execution_count": 167,
   "metadata": {},
   "outputs": [
    {
     "data": {
      "text/html": [
       "<div>\n",
       "<style scoped>\n",
       "    .dataframe tbody tr th:only-of-type {\n",
       "        vertical-align: middle;\n",
       "    }\n",
       "\n",
       "    .dataframe tbody tr th {\n",
       "        vertical-align: top;\n",
       "    }\n",
       "\n",
       "    .dataframe thead th {\n",
       "        text-align: right;\n",
       "    }\n",
       "</style>\n",
       "<table border=\"1\" class=\"dataframe\">\n",
       "  <thead>\n",
       "    <tr style=\"text-align: right;\">\n",
       "      <th></th>\n",
       "      <th>date</th>\n",
       "      <th>provinceNo</th>\n",
       "      <th>PM25</th>\n",
       "      <th>O3</th>\n",
       "      <th>CO</th>\n",
       "      <th>cluster</th>\n",
       "    </tr>\n",
       "  </thead>\n",
       "  <tbody>\n",
       "    <tr>\n",
       "      <th>0</th>\n",
       "      <td>2020-07-22</td>\n",
       "      <td>0</td>\n",
       "      <td>9.062500</td>\n",
       "      <td>62</td>\n",
       "      <td>120</td>\n",
       "      <td>0</td>\n",
       "    </tr>\n",
       "    <tr>\n",
       "      <th>1</th>\n",
       "      <td>2020-07-22</td>\n",
       "      <td>1</td>\n",
       "      <td>9.276596</td>\n",
       "      <td>42</td>\n",
       "      <td>110</td>\n",
       "      <td>0</td>\n",
       "    </tr>\n",
       "    <tr>\n",
       "      <th>2</th>\n",
       "      <td>2020-07-22</td>\n",
       "      <td>2</td>\n",
       "      <td>8.458333</td>\n",
       "      <td>32</td>\n",
       "      <td>120</td>\n",
       "      <td>0</td>\n",
       "    </tr>\n",
       "    <tr>\n",
       "      <th>3</th>\n",
       "      <td>2020-07-22</td>\n",
       "      <td>3</td>\n",
       "      <td>9.458333</td>\n",
       "      <td>56</td>\n",
       "      <td>120</td>\n",
       "      <td>0</td>\n",
       "    </tr>\n",
       "    <tr>\n",
       "      <th>4</th>\n",
       "      <td>2020-07-22</td>\n",
       "      <td>4</td>\n",
       "      <td>11.333333</td>\n",
       "      <td>61</td>\n",
       "      <td>190</td>\n",
       "      <td>0</td>\n",
       "    </tr>\n",
       "    <tr>\n",
       "      <th>...</th>\n",
       "      <td>...</td>\n",
       "      <td>...</td>\n",
       "      <td>...</td>\n",
       "      <td>...</td>\n",
       "      <td>...</td>\n",
       "      <td>...</td>\n",
       "    </tr>\n",
       "    <tr>\n",
       "      <th>3097</th>\n",
       "      <td>2022-01-22</td>\n",
       "      <td>72</td>\n",
       "      <td>13.958333</td>\n",
       "      <td>65</td>\n",
       "      <td>230</td>\n",
       "      <td>2</td>\n",
       "    </tr>\n",
       "    <tr>\n",
       "      <th>3098</th>\n",
       "      <td>2022-01-22</td>\n",
       "      <td>73</td>\n",
       "      <td>15.833333</td>\n",
       "      <td>58</td>\n",
       "      <td>250</td>\n",
       "      <td>2</td>\n",
       "    </tr>\n",
       "    <tr>\n",
       "      <th>3099</th>\n",
       "      <td>2022-01-22</td>\n",
       "      <td>74</td>\n",
       "      <td>14.685185</td>\n",
       "      <td>60</td>\n",
       "      <td>230</td>\n",
       "      <td>2</td>\n",
       "    </tr>\n",
       "    <tr>\n",
       "      <th>3100</th>\n",
       "      <td>2022-01-22</td>\n",
       "      <td>75</td>\n",
       "      <td>17.225225</td>\n",
       "      <td>85</td>\n",
       "      <td>1010</td>\n",
       "      <td>2</td>\n",
       "    </tr>\n",
       "    <tr>\n",
       "      <th>3101</th>\n",
       "      <td>2022-01-22</td>\n",
       "      <td>76</td>\n",
       "      <td>15.666667</td>\n",
       "      <td>83</td>\n",
       "      <td>320</td>\n",
       "      <td>2</td>\n",
       "    </tr>\n",
       "  </tbody>\n",
       "</table>\n",
       "<p>3102 rows × 6 columns</p>\n",
       "</div>"
      ],
      "text/plain": [
       "            date  provinceNo       PM25  O3    CO  cluster\n",
       "0     2020-07-22           0   9.062500  62   120        0\n",
       "1     2020-07-22           1   9.276596  42   110        0\n",
       "2     2020-07-22           2   8.458333  32   120        0\n",
       "3     2020-07-22           3   9.458333  56   120        0\n",
       "4     2020-07-22           4  11.333333  61   190        0\n",
       "...          ...         ...        ...  ..   ...      ...\n",
       "3097  2022-01-22          72  13.958333  65   230        2\n",
       "3098  2022-01-22          73  15.833333  58   250        2\n",
       "3099  2022-01-22          74  14.685185  60   230        2\n",
       "3100  2022-01-22          75  17.225225  85  1010        2\n",
       "3101  2022-01-22          76  15.666667  83   320        2\n",
       "\n",
       "[3102 rows x 6 columns]"
      ]
     },
     "execution_count": 167,
     "metadata": {},
     "output_type": "execute_result"
    }
   ],
   "source": [
    "dfFinalResult = df_merge.merge(dfCluster,on=['date','provinceNo'])\n",
    "dfFinalResult"
   ]
  },
  {
   "cell_type": "code",
   "execution_count": 168,
   "metadata": {},
   "outputs": [],
   "source": [
    "dfFinalResult.to_csv('../Result/FinalResult.csv')"
   ]
  },
  {
   "cell_type": "code",
   "execution_count": 161,
   "metadata": {},
   "outputs": [],
   "source": [
    "# elbow method\n",
    "# import numpy as np\n",
    "# from scipy.spatial.distance import cdist\n",
    "# import matplotlib.pyplot as plt\n",
    "# K = range(1, 10)\n",
    "# meandistortions = []\n",
    "# for k in K:\n",
    "#     kmeans = KMeans(n_clusters=k)\n",
    "#     kmeans.fit(trans_data)\n",
    "#     meandistortions.append(sum(np.min(cdist(trans_data, kmeans.cluster_centers_, 'euclidean'), axis=1)) / trans_data.shape[0])\n",
    "\n",
    "# plt.plot(K, meandistortions, 'bx-')\n",
    "# plt.xlabel('k')\n",
    "# plt.ylabel('Average distortion')\n",
    "# plt.title('Selecting k with the Elbow Method')\n",
    "# plt.show()"
   ]
  },
  {
   "cell_type": "code",
   "execution_count": null,
   "metadata": {},
   "outputs": [],
   "source": [
    "kmeans = KMeans(n_clusters=5)"
   ]
  },
  {
   "cell_type": "code",
   "execution_count": null,
   "metadata": {},
   "outputs": [
    {
     "name": "stdout",
     "output_type": "stream",
     "text": [
      "[[-0.70038196  0.09319232]\n",
      " [-0.65236522 -0.89354984]\n",
      " [-0.83588261 -1.38692092]\n",
      " [-0.61160567 -0.20283033]\n",
      " [-0.19108641  0.04385521]]\n"
     ]
    }
   ],
   "source": []
  },
  {
   "cell_type": "code",
   "execution_count": null,
   "metadata": {},
   "outputs": [
    {
     "data": {
      "text/plain": [
       "KMeans(n_clusters=5)"
      ]
     },
     "execution_count": 220,
     "metadata": {},
     "output_type": "execute_result"
    }
   ],
   "source": [
    "kmeans.fit(trans_data)"
   ]
  },
  {
   "cell_type": "code",
   "execution_count": null,
   "metadata": {},
   "outputs": [
    {
     "data": {
      "text/plain": [
       "array([[-0.48403546, -0.17405035],\n",
       "       [ 0.64283222,  1.07288632],\n",
       "       [ 1.29073724, -0.71470283],\n",
       "       [-0.85165209,  1.59797411],\n",
       "       [-1.12213793, -1.21917476]])"
      ]
     },
     "execution_count": 221,
     "metadata": {},
     "output_type": "execute_result"
    }
   ],
   "source": [
    "kmeans.cluster_centers_"
   ]
  },
  {
   "cell_type": "code",
   "execution_count": null,
   "metadata": {},
   "outputs": [
    {
     "data": {
      "text/plain": [
       "array([0, 4, 4, 0, 0, 4, 3, 2, 1, 1, 0, 3, 0, 1, 0, 1, 3, 2, 2, 1, 0, 2,\n",
       "       1, 2, 0, 0, 4, 0, 0, 4, 3, 2, 2, 0, 2, 1])"
      ]
     },
     "execution_count": 222,
     "metadata": {},
     "output_type": "execute_result"
    }
   ],
   "source": [
    "kmeans.labels_"
   ]
  },
  {
   "cell_type": "code",
   "execution_count": null,
   "metadata": {},
   "outputs": [
    {
     "data": {
      "text/plain": [
       "array([0, 4, 4, 0, 0, 4, 3, 2, 1, 1, 0, 3, 0, 1, 0, 1, 3, 2, 2, 1, 0, 2,\n",
       "       1, 2, 0, 0, 4, 0, 0, 4, 3, 2, 2, 0, 2, 1])"
      ]
     },
     "execution_count": 223,
     "metadata": {},
     "output_type": "execute_result"
    }
   ],
   "source": [
    "kmeans.predict(trans_data)"
   ]
  },
  {
   "cell_type": "code",
   "execution_count": null,
   "metadata": {},
   "outputs": [],
   "source": [
    "fig, ax = plt.subplots(figsize=(10,7))\n",
    "# plt.scatter(new_dfa[\"Annual Income (k$)\"][new_dfa[\"label_kmeans\"] == 0], new_dfa[\"Age\"][new_dfa[\"label_kmeans\"] == 0], \n",
    "#             color = \"blue\", s=100, edgecolor='green',linestyle='--')\n",
    "# plt.scatter(new_dfa[\"Annual Income (k$)\"][new_dfa[\"label_kmeans\"] == 1], new_dfa[\"Age\"][new_dfa[\"label_kmeans\"] == 1], \n",
    "#             color = \"red\", s=100, edgecolor='green',linestyle='--')\n",
    "# plt.scatter(new_dfa[\"Annual Income (k$)\"][new_dfa[\"label_kmeans\"] == 2], new_dfa[\"Age\"][new_dfa[\"label_kmeans\"] == 2], \n",
    "#             color = \"green\", s=100, edgecolor='green',linestyle='--')\n",
    "centers = kmeans.cluster_centers_\n",
    "plt.scatter(centers[:, 0], centers[:, 1], c='black', s=500);\n",
    "ax.set_xlabel('Annual Income (k$)')\n",
    "ax.set_ylabel('Age')\n",
    "plt.show()"
   ]
  },
  {
   "cell_type": "code",
   "execution_count": null,
   "metadata": {},
   "outputs": [
    {
     "name": "stdout",
     "output_type": "stream",
     "text": [
      "[[ 9.0625     62.        ]\n",
      " [ 9.27659574 42.        ]\n",
      " [ 8.45833333 32.        ]\n",
      " [ 9.45833333 56.        ]\n",
      " [11.33333333 61.        ]]\n"
     ]
    }
   ],
   "source": [
    "org_data = scaler.inverse_transform(trans_data)\n",
    "print(org_data[0:5,])"
   ]
  },
  {
   "cell_type": "code",
   "execution_count": null,
   "metadata": {},
   "outputs": [
    {
     "data": {
      "text/plain": [
       "<matplotlib.collections.PathCollection at 0x18601b44c10>"
      ]
     },
     "execution_count": 225,
     "metadata": {},
     "output_type": "execute_result"
    },
    {
     "data": {
      "image/png": "[encoded data removed]",
      "text/plain": [
       "<Figure size 720x432 with 1 Axes>"
      ]
     },
     "metadata": {
      "needs_background": "light"
     },
     "output_type": "display_data"
    }
   ],
   "source": [
    "f, (ax1) = plt.subplots(1, 1, sharey=True,figsize=(10,6))\n",
    "ax1.set_title('K Means')\n",
    "ax1.set_xlabel('PM2.5')\n",
    "ax1.set_ylabel('O3')\n",
    "ax1.scatter(x=org_data[:,0],y=org_data[:,1],c=kmeans.labels_,cmap='rainbow')"
   ]
  }
 ],
 "metadata": {
  "interpreter": {
   "hash": "363f465c024f42953412273ca7ebb636505daa3e8ad8d144423574f486004e16"
  },
  "kernelspec": {
   "display_name": "Python 3.9.5 64-bit",
   "language": "python",
   "name": "python3"
  },
  "language_info": {
   "codemirror_mode": {
    "name": "ipython",
    "version": 3
   },
   "file_extension": ".py",
   "mimetype": "text/x-python",
   "name": "python",
   "nbconvert_exporter": "python",
   "pygments_lexer": "ipython3",
   "version": "3.9.5"
  },
  "orig_nbformat": 4
 },
 "nbformat": 4,
 "nbformat_minor": 2
}
