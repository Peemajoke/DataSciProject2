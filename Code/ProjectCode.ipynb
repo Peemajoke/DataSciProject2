{
 "cells": [
  {
   "cell_type": "code",
   "execution_count": 78,
   "metadata": {},
   "outputs": [],
   "source": [
    "import pandas as pd"
   ]
  },
  {
   "cell_type": "code",
   "execution_count": 79,
   "metadata": {},
   "outputs": [],
   "source": [
    "dataframe = pd.read_csv(\"../Data/PCD data after 2020-7.csv\")"
   ]
  },
  {
   "cell_type": "code",
   "execution_count": 80,
   "metadata": {},
   "outputs": [
    {
     "data": {
      "text/html": [
       "<div>\n",
       "<style scoped>\n",
       "    .dataframe tbody tr th:only-of-type {\n",
       "        vertical-align: middle;\n",
       "    }\n",
       "\n",
       "    .dataframe tbody tr th {\n",
       "        vertical-align: top;\n",
       "    }\n",
       "\n",
       "    .dataframe thead th {\n",
       "        text-align: right;\n",
       "    }\n",
       "</style>\n",
       "<table border=\"1\" class=\"dataframe\">\n",
       "  <thead>\n",
       "    <tr style=\"text-align: right;\">\n",
       "      <th></th>\n",
       "      <th>id</th>\n",
       "      <th>stationID</th>\n",
       "      <th>nameTH</th>\n",
       "      <th>nameEN</th>\n",
       "      <th>stationType</th>\n",
       "      <th>lat</th>\n",
       "      <th>long</th>\n",
       "      <th>date_aq</th>\n",
       "      <th>time_aq</th>\n",
       "      <th>PM25</th>\n",
       "      <th>PM10</th>\n",
       "      <th>NO2</th>\n",
       "      <th>SO2</th>\n",
       "      <th>CO</th>\n",
       "      <th>O3</th>\n",
       "      <th>AQI</th>\n",
       "      <th>areaTH</th>\n",
       "      <th>areaEN</th>\n",
       "      <th>datetime_aq</th>\n",
       "    </tr>\n",
       "  </thead>\n",
       "  <tbody>\n",
       "    <tr>\n",
       "      <th>0</th>\n",
       "      <td>515454</td>\n",
       "      <td>76t</td>\n",
       "      <td>ศูนย์การศึกษานอกโรงเรียน</td>\n",
       "      <td>Non-Formal Education Centre, Mea Sot</td>\n",
       "      <td>GROUND</td>\n",
       "      <td>16.750102</td>\n",
       "      <td>98.591312</td>\n",
       "      <td>2020-07-20</td>\n",
       "      <td>21:00:00</td>\n",
       "      <td>8.0</td>\n",
       "      <td>22.0</td>\n",
       "      <td>4.0</td>\n",
       "      <td>NaN</td>\n",
       "      <td>0.13</td>\n",
       "      <td>13.0</td>\n",
       "      <td>1</td>\n",
       "      <td>ต.แม่ปะ อ.แม่สอด, ตาก</td>\n",
       "      <td>MaePa, MaeSot, Tak</td>\n",
       "      <td>2020-07-20 21:00:00.000</td>\n",
       "    </tr>\n",
       "    <tr>\n",
       "      <th>1</th>\n",
       "      <td>515455</td>\n",
       "      <td>81t</td>\n",
       "      <td>อ่างเก็บน้ำประปา</td>\n",
       "      <td>Water reservoir</td>\n",
       "      <td>GROUND</td>\n",
       "      <td>13.832076</td>\n",
       "      <td>100.057961</td>\n",
       "      <td>2020-07-20</td>\n",
       "      <td>21:00:00</td>\n",
       "      <td>10.0</td>\n",
       "      <td>24.0</td>\n",
       "      <td>9.0</td>\n",
       "      <td>1.0</td>\n",
       "      <td>0.58</td>\n",
       "      <td>27.0</td>\n",
       "      <td>1</td>\n",
       "      <td>ต.นครปฐม อ.เมือง, นครปฐม</td>\n",
       "      <td>Mueang, Nakhon Pathom</td>\n",
       "      <td>2020-07-20 21:00:00.000</td>\n",
       "    </tr>\n",
       "    <tr>\n",
       "      <th>2</th>\n",
       "      <td>515456</td>\n",
       "      <td>47t</td>\n",
       "      <td>สถานีสูบน้ำประตูพลแสน</td>\n",
       "      <td>Municipal Waste Water Pumping Station</td>\n",
       "      <td>GROUND</td>\n",
       "      <td>14.979726</td>\n",
       "      <td>102.098301</td>\n",
       "      <td>2020-07-20</td>\n",
       "      <td>21:00:00</td>\n",
       "      <td>17.0</td>\n",
       "      <td>35.0</td>\n",
       "      <td>12.0</td>\n",
       "      <td>0.0</td>\n",
       "      <td>0.61</td>\n",
       "      <td>7.0</td>\n",
       "      <td>1</td>\n",
       "      <td>ต.ในเมือง อ.เมือง, นครราชสีมา</td>\n",
       "      <td>Nai Mueang, Mueang, Nakhon Ratchasima</td>\n",
       "      <td>2020-07-20 21:00:00.000</td>\n",
       "    </tr>\n",
       "    <tr>\n",
       "      <th>3</th>\n",
       "      <td>515457</td>\n",
       "      <td>m3</td>\n",
       "      <td>สำนักงานพระพุทธศาสนา จังหวัดนครศรีธรรมราช</td>\n",
       "      <td>Office Of Buddhism Nakhon Si Thammarat</td>\n",
       "      <td>MOBILE</td>\n",
       "      <td>8.427328</td>\n",
       "      <td>99.963666</td>\n",
       "      <td>2020-07-20</td>\n",
       "      <td>20:00:00</td>\n",
       "      <td>10.0</td>\n",
       "      <td>24.0</td>\n",
       "      <td>NaN</td>\n",
       "      <td>NaN</td>\n",
       "      <td>NaN</td>\n",
       "      <td>NaN</td>\n",
       "      <td>1</td>\n",
       "      <td>ต.ในเมือง อ.เมือง, นครศรีธรรมราช</td>\n",
       "      <td>Mueang, Nakhon Si Thammarat</td>\n",
       "      <td>2020-07-20 20:00:00.000</td>\n",
       "    </tr>\n",
       "    <tr>\n",
       "      <th>4</th>\n",
       "      <td>515458</td>\n",
       "      <td>o26</td>\n",
       "      <td>โรงพยาบาลส่งเสริมสุขภาพตำบลเขาพระบาท อ.เชียรให...</td>\n",
       "      <td>Khao Phra Bat Health Promotion Hospital, Chian...</td>\n",
       "      <td>MOBILE</td>\n",
       "      <td>8.064768</td>\n",
       "      <td>100.191452</td>\n",
       "      <td>2020-07-20</td>\n",
       "      <td>21:00:00</td>\n",
       "      <td>6.0</td>\n",
       "      <td>NaN</td>\n",
       "      <td>NaN</td>\n",
       "      <td>NaN</td>\n",
       "      <td>NaN</td>\n",
       "      <td>NaN</td>\n",
       "      <td>1</td>\n",
       "      <td>ต.เขาพระบาท อ.เชียรใหญ่, นครศรีธรรมราช</td>\n",
       "      <td>Khao Phra Bat, Chian Yai, Nakhon Si Thammarat</td>\n",
       "      <td>2020-07-20 21:00:00.000</td>\n",
       "    </tr>\n",
       "  </tbody>\n",
       "</table>\n",
       "</div>"
      ],
      "text/plain": [
       "       id stationID                                             nameTH  \\\n",
       "0  515454       76t                           ศูนย์การศึกษานอกโรงเรียน   \n",
       "1  515455       81t                                   อ่างเก็บน้ำประปา   \n",
       "2  515456       47t                              สถานีสูบน้ำประตูพลแสน   \n",
       "3  515457        m3          สำนักงานพระพุทธศาสนา จังหวัดนครศรีธรรมราช   \n",
       "4  515458       o26  โรงพยาบาลส่งเสริมสุขภาพตำบลเขาพระบาท อ.เชียรให...   \n",
       "\n",
       "                                              nameEN stationType        lat  \\\n",
       "0               Non-Formal Education Centre, Mea Sot      GROUND  16.750102   \n",
       "1                                    Water reservoir      GROUND  13.832076   \n",
       "2              Municipal Waste Water Pumping Station      GROUND  14.979726   \n",
       "3             Office Of Buddhism Nakhon Si Thammarat      MOBILE   8.427328   \n",
       "4  Khao Phra Bat Health Promotion Hospital, Chian...      MOBILE   8.064768   \n",
       "\n",
       "         long     date_aq   time_aq  PM25  PM10   NO2  SO2    CO    O3  AQI  \\\n",
       "0   98.591312  2020-07-20  21:00:00   8.0  22.0   4.0  NaN  0.13  13.0    1   \n",
       "1  100.057961  2020-07-20  21:00:00  10.0  24.0   9.0  1.0  0.58  27.0    1   \n",
       "2  102.098301  2020-07-20  21:00:00  17.0  35.0  12.0  0.0  0.61   7.0    1   \n",
       "3   99.963666  2020-07-20  20:00:00  10.0  24.0   NaN  NaN   NaN   NaN    1   \n",
       "4  100.191452  2020-07-20  21:00:00   6.0   NaN   NaN  NaN   NaN   NaN    1   \n",
       "\n",
       "                                   areaTH  \\\n",
       "0                   ต.แม่ปะ อ.แม่สอด, ตาก   \n",
       "1                ต.นครปฐม อ.เมือง, นครปฐม   \n",
       "2           ต.ในเมือง อ.เมือง, นครราชสีมา   \n",
       "3        ต.ในเมือง อ.เมือง, นครศรีธรรมราช   \n",
       "4  ต.เขาพระบาท อ.เชียรใหญ่, นครศรีธรรมราช   \n",
       "\n",
       "                                          areaEN              datetime_aq  \n",
       "0                             MaePa, MaeSot, Tak  2020-07-20 21:00:00.000  \n",
       "1                          Mueang, Nakhon Pathom  2020-07-20 21:00:00.000  \n",
       "2          Nai Mueang, Mueang, Nakhon Ratchasima  2020-07-20 21:00:00.000  \n",
       "3                    Mueang, Nakhon Si Thammarat  2020-07-20 20:00:00.000  \n",
       "4  Khao Phra Bat, Chian Yai, Nakhon Si Thammarat  2020-07-20 21:00:00.000  "
      ]
     },
     "execution_count": 80,
     "metadata": {},
     "output_type": "execute_result"
    }
   ],
   "source": [
    "dataframe.head()"
   ]
  },
  {
   "cell_type": "code",
   "execution_count": 81,
   "metadata": {},
   "outputs": [
    {
     "data": {
      "text/plain": [
       "188"
      ]
     },
     "execution_count": 81,
     "metadata": {},
     "output_type": "execute_result"
    }
   ],
   "source": [
    "dataframe[\"areaTH\"].nunique()"
   ]
  },
  {
   "cell_type": "code",
   "execution_count": 82,
   "metadata": {},
   "outputs": [
    {
     "data": {
      "text/plain": [
       "Khao Phra Bat, Chian Yai, Nakhon Si Thammarat                                           2150\n",
       "Tambon Rahaeng, Amphoe Mueang, Tak                                                      2082\n",
       " Nai Mueang Subdistrict, Mueang District, Roi Et                                        1871\n",
       "Khuan Maphrao, Mueang, Phatthalung                                                      1849\n",
       "Mae Chaem,Chiang Mai                                                                    1611\n",
       "Mueang, Phangnga                                                                        1521\n",
       "Racha Thewa Subdistrict, Bang Phli District, Samut Prakan                               1411\n",
       "Dokmai Subdistrict, Prawet District, Bangkok                                            1380\n",
       "Mueang, Phitsanulok                                                                     1324\n",
       "Mueang District, Ranong                                                                 1289\n",
       " Bang Man Subdistrict, Mueang District, Sing Buri                                        916\n",
       "Mueang, Nakhon Si Thammarat                                                              787\n",
       "Charoen Muang Road, That Na Weng Subdistrict, Mueang District, Sakon Nakhon Province     566\n",
       " Bang Khen, Mueang, Nonthaburi                                                           402\n",
       " Ban Muang Sub-district, Ban Muang District, Sakon Nakhon Province                       224\n",
       "Nakhon Nayok Subdistrict, Mueang District, Nakhon Nayok                                  219\n",
       " Bang Krachao Subdistrict, Bang Krachao District, Samut Prakan                            70\n",
       "Wat Ket,Mueang Chiang Mai                                                                 51\n",
       "Tha Phae Gate,Mueang Chiang Mai                                                           29\n",
       "Ban Pang, Bang Sai, Phra Nakhon Si Ayutthaya                                              27\n",
       "Name: areaEN, dtype: int64"
      ]
     },
     "execution_count": 82,
     "metadata": {},
     "output_type": "execute_result"
    }
   ],
   "source": [
    "dataframe[\"areaEN\"].value_counts().tail(20)"
   ]
  },
  {
   "cell_type": "code",
   "execution_count": 83,
   "metadata": {},
   "outputs": [
    {
     "data": {
      "text/plain": [
       "151"
      ]
     },
     "execution_count": 83,
     "metadata": {},
     "output_type": "execute_result"
    }
   ],
   "source": [
    "dataframe[\"stationID\"].nunique()"
   ]
  },
  {
   "cell_type": "code",
   "execution_count": 84,
   "metadata": {},
   "outputs": [],
   "source": [
    "province = dataframe[\"nameEN\"].apply(lambda x : x.split(', ')[-1])"
   ]
  },
  {
   "cell_type": "code",
   "execution_count": 85,
   "metadata": {},
   "outputs": [
    {
     "data": {
      "text/plain": [
       "0                                   Mea Sot\n",
       "1                           Water reservoir\n",
       "2     Municipal Waste Water Pumping Station\n",
       "3    Office Of Buddhism Nakhon Si Thammarat\n",
       "4                       Nakhon Si Thammarat\n",
       "Name: nameEN, dtype: object"
      ]
     },
     "execution_count": 85,
     "metadata": {},
     "output_type": "execute_result"
    }
   ],
   "source": [
    "province.head()"
   ]
  },
  {
   "cell_type": "code",
   "execution_count": 86,
   "metadata": {},
   "outputs": [
    {
     "data": {
      "text/plain": [
       "150"
      ]
     },
     "execution_count": 86,
     "metadata": {},
     "output_type": "execute_result"
    }
   ],
   "source": [
    "province.nunique()"
   ]
  },
  {
   "cell_type": "code",
   "execution_count": 87,
   "metadata": {},
   "outputs": [
    {
     "data": {
      "text/html": [
       "<div>\n",
       "<style scoped>\n",
       "    .dataframe tbody tr th:only-of-type {\n",
       "        vertical-align: middle;\n",
       "    }\n",
       "\n",
       "    .dataframe tbody tr th {\n",
       "        vertical-align: top;\n",
       "    }\n",
       "\n",
       "    .dataframe thead th {\n",
       "        text-align: right;\n",
       "    }\n",
       "</style>\n",
       "<table border=\"1\" class=\"dataframe\">\n",
       "  <thead>\n",
       "    <tr style=\"text-align: right;\">\n",
       "      <th></th>\n",
       "      <th>lat</th>\n",
       "      <th>long</th>\n",
       "    </tr>\n",
       "  </thead>\n",
       "  <tbody>\n",
       "    <tr>\n",
       "      <th>0</th>\n",
       "      <td>16.750102</td>\n",
       "      <td>98.591312</td>\n",
       "    </tr>\n",
       "    <tr>\n",
       "      <th>1</th>\n",
       "      <td>13.832076</td>\n",
       "      <td>100.057961</td>\n",
       "    </tr>\n",
       "    <tr>\n",
       "      <th>2</th>\n",
       "      <td>14.979726</td>\n",
       "      <td>102.098301</td>\n",
       "    </tr>\n",
       "    <tr>\n",
       "      <th>3</th>\n",
       "      <td>8.427328</td>\n",
       "      <td>99.963666</td>\n",
       "    </tr>\n",
       "    <tr>\n",
       "      <th>4</th>\n",
       "      <td>8.064768</td>\n",
       "      <td>100.191452</td>\n",
       "    </tr>\n",
       "  </tbody>\n",
       "</table>\n",
       "</div>"
      ],
      "text/plain": [
       "         lat        long\n",
       "0  16.750102   98.591312\n",
       "1  13.832076  100.057961\n",
       "2  14.979726  102.098301\n",
       "3   8.427328   99.963666\n",
       "4   8.064768  100.191452"
      ]
     },
     "execution_count": 87,
     "metadata": {},
     "output_type": "execute_result"
    }
   ],
   "source": [
    "dataframe[[\"lat\",\"long\"]].head()"
   ]
  },
  {
   "cell_type": "code",
   "execution_count": 88,
   "metadata": {},
   "outputs": [],
   "source": [
    "provinceName=['เชียงราย', \n",
    "'เชียงใหม่',\n",
    "'น่าน', \n",
    "'พะเยา', \n",
    "'แพร่', \n",
    "'แม่ฮ่องสอน', \n",
    "'ลำปาง', \n",
    "'ลำพูน', \n",
    "'อุตรดิตถ์',\n",
    "'กาฬสินธ์ุ',\n",
    "'ขอนแก่น',\n",
    "'ชัยภูมิ',\n",
    "'นครพนม',\n",
    "'นครราชสีมา',\n",
    "'บึงกาฬ',\n",
    "'บุรีรัมย์',\n",
    "'มหาสารคาม',\n",
    "'มุกดาหาร',\n",
    "'ยโสธร',\n",
    "'ร้อยเอ็ด',\n",
    "'เลย',\n",
    "'สกลนคร',\n",
    "'สุรินทร์',\n",
    "'ศรีสะเกษ',\n",
    "'หนองคาย',\n",
    "'หนองบัวลำภู',\n",
    "'อุดรธานี',\n",
    "'อุบลราชธานี',\n",
    "'อำนาจเจริญ',\n",
    "'กำแพงเพชร',\n",
    "'ชัยนาท',\n",
    "'นครนายก',\n",
    "'นครปฐม',\n",
    "'นครสวรรค์',\n",
    "'นนทบุรี',\n",
    "'ปทุมธานี',\n",
    "'พระนครศรีอยุธยา',\n",
    "'พิจิตร',\n",
    "'พิษณุโลก',\n",
    "'เพชรบูรณ์',\n",
    "'ลพบุรี',\n",
    "'สมุทรปราการ',\n",
    "'สมุทรสงคราม',\n",
    "'สมุทรสาคร',\n",
    "'สิงห์บุรี',\n",
    "'สุโขทัย',\n",
    "'สุพรรณบุรี',\n",
    "'สระบุรี',\n",
    "'อ่างทอง',\n",
    "'อุทัยธานี',\n",
    "'จันทบุรี',\n",
    "'ฉะเชิงเทรา', \n",
    "'ตราด',\n",
    "'ปราจีนบุรี',\n",
    "'ระยอง',\n",
    "'สระแก้ว',\n",
    "'กาญจนบุรี',\n",
    "'ตาก',\n",
    "'ประจวบคีรีขันธ์',\n",
    "'เพชรบุรี',\n",
    "'ราชบุรี',\n",
    "'กระบี่',\n",
    "'ชุุมพร',\n",
    "'ตรัง',\n",
    "'นครศรีธรรมราช',\n",
    "'นราธิวาส',\n",
    "'ปัตตานี',\n",
    "'พังงา',\n",
    "'พัทลุง',\n",
    "'ภูเก็ต',\n",
    "'ระนอง',\n",
    "'สตูล',\n",
    "'สงขลา',\n",
    "'สุราษฎร์ธานี',\n",
    "'ยะลา',\n",
    "'กรุงเทพฯ',\n",
    "'ชลบุรี']"
   ]
  },
  {
   "cell_type": "code",
   "execution_count": 89,
   "metadata": {},
   "outputs": [],
   "source": [
    "dataframe[\"areaTH\"].replace({\"แขวงคลองกุ่ม เขตบึงกุ่ม\":\"กรุงเทพฯ\",\"เขตปลอดอากรท่าอากาศยานสุวรรณภูมิ\":\"สมุทรปราการ\",\"หมู่บ้านทูแกรนด์โมนาโค\":\"กรุงเทพฯ\",\"หมู่บ้านแกรนด์โมนาโค\":\"กรุงเทพฯ\",\"หมู่บ้านลลิน กรีนวิลล์\":\"กรุงเทพฯ\",\"แขวงดอกไม้ เขตประเวศ, กรุงเทพมหานคร\":\"กรุงเทพฯ\"},inplace=True)"
   ]
  },
  {
   "cell_type": "code",
   "execution_count": 90,
   "metadata": {},
   "outputs": [],
   "source": [
    "def checkContainProvince(x):\n",
    "    for i in range (0,len(provinceName)):\n",
    "        if (provinceName[i] in x):\n",
    "            return i \n",
    "    #print(x)\n",
    "    return -1    \n",
    "        "
   ]
  },
  {
   "cell_type": "code",
   "execution_count": 91,
   "metadata": {},
   "outputs": [],
   "source": [
    "dataframe['provinceNo'] = dataframe['areaTH'].apply(lambda x : checkContainProvince(x))"
   ]
  },
  {
   "cell_type": "code",
   "execution_count": 92,
   "metadata": {},
   "outputs": [
    {
     "data": {
      "text/plain": [
       "75    771078\n",
       "54     78403\n",
       "41     75091\n",
       "6      52039\n",
       "1      40766\n",
       "76     37951\n",
       "43     26327\n",
       "0      26219\n",
       "65     26210\n",
       "74     26131\n",
       "Name: provinceNo, dtype: int64"
      ]
     },
     "execution_count": 92,
     "metadata": {},
     "output_type": "execute_result"
    }
   ],
   "source": [
    "dataframe['provinceNo'].value_counts().head(10)"
   ]
  },
  {
   "cell_type": "code",
   "execution_count": 93,
   "metadata": {},
   "outputs": [],
   "source": [
    "filter = dataframe['provinceNo'] == -1"
   ]
  },
  {
   "cell_type": "code",
   "execution_count": 94,
   "metadata": {},
   "outputs": [
    {
     "data": {
      "text/html": [
       "<div>\n",
       "<style scoped>\n",
       "    .dataframe tbody tr th:only-of-type {\n",
       "        vertical-align: middle;\n",
       "    }\n",
       "\n",
       "    .dataframe tbody tr th {\n",
       "        vertical-align: top;\n",
       "    }\n",
       "\n",
       "    .dataframe thead th {\n",
       "        text-align: right;\n",
       "    }\n",
       "</style>\n",
       "<table border=\"1\" class=\"dataframe\">\n",
       "  <thead>\n",
       "    <tr style=\"text-align: right;\">\n",
       "      <th></th>\n",
       "      <th>id</th>\n",
       "      <th>stationID</th>\n",
       "      <th>nameTH</th>\n",
       "      <th>nameEN</th>\n",
       "      <th>stationType</th>\n",
       "      <th>lat</th>\n",
       "      <th>long</th>\n",
       "      <th>date_aq</th>\n",
       "      <th>time_aq</th>\n",
       "      <th>PM25</th>\n",
       "      <th>PM10</th>\n",
       "      <th>NO2</th>\n",
       "      <th>SO2</th>\n",
       "      <th>CO</th>\n",
       "      <th>O3</th>\n",
       "      <th>AQI</th>\n",
       "      <th>areaTH</th>\n",
       "      <th>areaEN</th>\n",
       "      <th>datetime_aq</th>\n",
       "      <th>provinceNo</th>\n",
       "    </tr>\n",
       "  </thead>\n",
       "  <tbody>\n",
       "  </tbody>\n",
       "</table>\n",
       "</div>"
      ],
      "text/plain": [
       "Empty DataFrame\n",
       "Columns: [id, stationID, nameTH, nameEN, stationType, lat, long, date_aq, time_aq, PM25, PM10, NO2, SO2, CO, O3, AQI, areaTH, areaEN, datetime_aq, provinceNo]\n",
       "Index: []"
      ]
     },
     "execution_count": 94,
     "metadata": {},
     "output_type": "execute_result"
    }
   ],
   "source": [
    "dataframe[filter].head()"
   ]
  },
  {
   "cell_type": "code",
   "execution_count": 95,
   "metadata": {},
   "outputs": [
    {
     "data": {
      "text/plain": [
       "65"
      ]
     },
     "execution_count": 95,
     "metadata": {},
     "output_type": "execute_result"
    }
   ],
   "source": [
    "dataframe['provinceNo'].nunique()"
   ]
  },
  {
   "cell_type": "code",
   "execution_count": 96,
   "metadata": {},
   "outputs": [
    {
     "data": {
      "text/plain": [
       "array([57, 32, 13, 64, 33, 34, 65,  2, 35, 53, 66, 36,  3, 67, 68, 69, 74,\n",
       "       70, 54, 60,  6,  7, 72, 71, 41, 42, 43, 47, 55, 46, 73, 24, 49, 27,\n",
       "        0,  1, 20,  4,  5, 75, 56, 10, 61, 76, 63, 52, 51, 21, 19,  9, 15,\n",
       "       37, 38,  8, 45, 40, 11, 39, 29, 12, 14, 17, 26, 44, 31],\n",
       "      dtype=int64)"
      ]
     },
     "execution_count": 96,
     "metadata": {},
     "output_type": "execute_result"
    }
   ],
   "source": [
    "dataframe['provinceNo'].unique()"
   ]
  },
  {
   "cell_type": "code",
   "execution_count": 97,
   "metadata": {},
   "outputs": [
    {
     "name": "stdout",
     "output_type": "stream",
     "text": [
      "มหาสารคาม\n",
      "ยโสธร\n",
      "สุรินทร์\n",
      "ศรีสะเกษ\n",
      "หนองบัวลำภู\n",
      "อำนาจเจริญ\n",
      "ชัยนาท\n",
      "อ่างทอง\n",
      "จันทบุรี\n",
      "ประจวบคีรีขันธ์\n",
      "เพชรบุรี\n",
      "ชุุมพร\n"
     ]
    }
   ],
   "source": [
    "for i in range(0,len(provinceName)):\n",
    "    if i not in dataframe['provinceNo'].unique():\n",
    "        print(provinceName[i])"
   ]
  },
  {
   "cell_type": "code",
   "execution_count": 98,
   "metadata": {},
   "outputs": [
    {
     "data": {
      "text/html": [
       "<div>\n",
       "<style scoped>\n",
       "    .dataframe tbody tr th:only-of-type {\n",
       "        vertical-align: middle;\n",
       "    }\n",
       "\n",
       "    .dataframe tbody tr th {\n",
       "        vertical-align: top;\n",
       "    }\n",
       "\n",
       "    .dataframe thead th {\n",
       "        text-align: right;\n",
       "    }\n",
       "</style>\n",
       "<table border=\"1\" class=\"dataframe\">\n",
       "  <thead>\n",
       "    <tr style=\"text-align: right;\">\n",
       "      <th></th>\n",
       "      <th>id</th>\n",
       "      <th>stationID</th>\n",
       "      <th>nameTH</th>\n",
       "      <th>nameEN</th>\n",
       "      <th>stationType</th>\n",
       "      <th>lat</th>\n",
       "      <th>long</th>\n",
       "      <th>date_aq</th>\n",
       "      <th>time_aq</th>\n",
       "      <th>PM25</th>\n",
       "      <th>PM10</th>\n",
       "      <th>NO2</th>\n",
       "      <th>SO2</th>\n",
       "      <th>CO</th>\n",
       "      <th>O3</th>\n",
       "      <th>AQI</th>\n",
       "      <th>areaTH</th>\n",
       "      <th>areaEN</th>\n",
       "      <th>datetime_aq</th>\n",
       "      <th>provinceNo</th>\n",
       "    </tr>\n",
       "  </thead>\n",
       "  <tbody>\n",
       "    <tr>\n",
       "      <th>1748632</th>\n",
       "      <td>2307327</td>\n",
       "      <td>bkp88t</td>\n",
       "      <td>มหาวิทยาลัยสยาม</td>\n",
       "      <td>Siam University</td>\n",
       "      <td>BKK</td>\n",
       "      <td>13.718689</td>\n",
       "      <td>100.453910</td>\n",
       "      <td>2022-01-30</td>\n",
       "      <td>09:00:00</td>\n",
       "      <td>33.0</td>\n",
       "      <td>NaN</td>\n",
       "      <td>NaN</td>\n",
       "      <td>NaN</td>\n",
       "      <td>NaN</td>\n",
       "      <td>NaN</td>\n",
       "      <td>2</td>\n",
       "      <td>ริมถนนเพชรเกษม เขตภาษีเจริญ, กรุงเทพฯ</td>\n",
       "      <td>Petchkasem Roadside, Phasi Charoen, Bangkok</td>\n",
       "      <td>2022-01-30 09:00:00.000</td>\n",
       "      <td>75</td>\n",
       "    </tr>\n",
       "    <tr>\n",
       "      <th>1748633</th>\n",
       "      <td>2307297</td>\n",
       "      <td>bkp58t</td>\n",
       "      <td>สำนักงานเขตราษฎร์บูรณะ กรุงเทพฯ</td>\n",
       "      <td>Rat Burana District Office,  Bangkok</td>\n",
       "      <td>BKK</td>\n",
       "      <td>13.682136</td>\n",
       "      <td>100.506051</td>\n",
       "      <td>2022-01-30</td>\n",
       "      <td>09:00:00</td>\n",
       "      <td>30.0</td>\n",
       "      <td>78.0</td>\n",
       "      <td>NaN</td>\n",
       "      <td>NaN</td>\n",
       "      <td>NaN</td>\n",
       "      <td>NaN</td>\n",
       "      <td>2</td>\n",
       "      <td>ริมถนนราษฎร์บูรณะ, เขตราษฎร์บูรณะ, กรุงเทพฯ</td>\n",
       "      <td>Rat Burana, Bangkok</td>\n",
       "      <td>2022-01-30 09:00:00.000</td>\n",
       "      <td>75</td>\n",
       "    </tr>\n",
       "    <tr>\n",
       "      <th>1748634</th>\n",
       "      <td>2307298</td>\n",
       "      <td>bkp59t</td>\n",
       "      <td>สำนักงานเขตราชเทวี กรุงเทพฯ</td>\n",
       "      <td>Ratchathewi District Office, Bangkok</td>\n",
       "      <td>BKK</td>\n",
       "      <td>13.759085</td>\n",
       "      <td>100.534579</td>\n",
       "      <td>2022-01-30</td>\n",
       "      <td>09:00:00</td>\n",
       "      <td>32.0</td>\n",
       "      <td>40.0</td>\n",
       "      <td>NaN</td>\n",
       "      <td>NaN</td>\n",
       "      <td>NaN</td>\n",
       "      <td>NaN</td>\n",
       "      <td>2</td>\n",
       "      <td>ริมถนนพญาไท เขตราชเทวี, กรุงเทพฯ</td>\n",
       "      <td>Phayathai Roadside, Ratchathewi, Bangkok</td>\n",
       "      <td>2022-01-30 09:00:00.000</td>\n",
       "      <td>75</td>\n",
       "    </tr>\n",
       "    <tr>\n",
       "      <th>1748635</th>\n",
       "      <td>2307299</td>\n",
       "      <td>bkp60t</td>\n",
       "      <td>ริมสวนหย่อมตรงข้ามสำนักงานเขตดุสิต</td>\n",
       "      <td>Dusit District Office, Bangkok</td>\n",
       "      <td>BKK</td>\n",
       "      <td>13.776664</td>\n",
       "      <td>100.520982</td>\n",
       "      <td>2022-01-30</td>\n",
       "      <td>09:00:00</td>\n",
       "      <td>26.0</td>\n",
       "      <td>56.0</td>\n",
       "      <td>NaN</td>\n",
       "      <td>NaN</td>\n",
       "      <td>NaN</td>\n",
       "      <td>NaN</td>\n",
       "      <td>2</td>\n",
       "      <td>ริมถนนพระราม 5 เขตดุสิต, กรุงเทพฯ</td>\n",
       "      <td>RamaV Roadside, Dusit, Bangkok</td>\n",
       "      <td>2022-01-30 09:00:00.000</td>\n",
       "      <td>75</td>\n",
       "    </tr>\n",
       "    <tr>\n",
       "      <th>1748636</th>\n",
       "      <td>2307300</td>\n",
       "      <td>bkp61t</td>\n",
       "      <td>สำนักงานคณะกรรมการพัฒนาเศรษฐกิจและสังคมแห่งชาติ</td>\n",
       "      <td>National Economic and Social Development Counc...</td>\n",
       "      <td>BKK</td>\n",
       "      <td>13.756281</td>\n",
       "      <td>100.514267</td>\n",
       "      <td>2022-01-30</td>\n",
       "      <td>09:00:00</td>\n",
       "      <td>23.0</td>\n",
       "      <td>49.0</td>\n",
       "      <td>NaN</td>\n",
       "      <td>NaN</td>\n",
       "      <td>NaN</td>\n",
       "      <td>NaN</td>\n",
       "      <td>1</td>\n",
       "      <td>ริมถนนกรุงเกษม เขตป้อมปราบศัตรูพ่าย, กรุงเทพฯ</td>\n",
       "      <td>Krung Kasem Roadside, Pom Prap Sattru Phai, Ba...</td>\n",
       "      <td>2022-01-30 09:00:00.000</td>\n",
       "      <td>75</td>\n",
       "    </tr>\n",
       "  </tbody>\n",
       "</table>\n",
       "</div>"
      ],
      "text/plain": [
       "              id stationID                                           nameTH  \\\n",
       "1748632  2307327    bkp88t                                  มหาวิทยาลัยสยาม   \n",
       "1748633  2307297    bkp58t                  สำนักงานเขตราษฎร์บูรณะ กรุงเทพฯ   \n",
       "1748634  2307298    bkp59t                      สำนักงานเขตราชเทวี กรุงเทพฯ   \n",
       "1748635  2307299    bkp60t               ริมสวนหย่อมตรงข้ามสำนักงานเขตดุสิต   \n",
       "1748636  2307300    bkp61t  สำนักงานคณะกรรมการพัฒนาเศรษฐกิจและสังคมแห่งชาติ   \n",
       "\n",
       "                                                    nameEN stationType  \\\n",
       "1748632                                    Siam University         BKK   \n",
       "1748633               Rat Burana District Office,  Bangkok         BKK   \n",
       "1748634               Ratchathewi District Office, Bangkok         BKK   \n",
       "1748635                     Dusit District Office, Bangkok         BKK   \n",
       "1748636  National Economic and Social Development Counc...         BKK   \n",
       "\n",
       "               lat        long     date_aq   time_aq  PM25  PM10  NO2  SO2  \\\n",
       "1748632  13.718689  100.453910  2022-01-30  09:00:00  33.0   NaN  NaN  NaN   \n",
       "1748633  13.682136  100.506051  2022-01-30  09:00:00  30.0  78.0  NaN  NaN   \n",
       "1748634  13.759085  100.534579  2022-01-30  09:00:00  32.0  40.0  NaN  NaN   \n",
       "1748635  13.776664  100.520982  2022-01-30  09:00:00  26.0  56.0  NaN  NaN   \n",
       "1748636  13.756281  100.514267  2022-01-30  09:00:00  23.0  49.0  NaN  NaN   \n",
       "\n",
       "         CO  O3  AQI                                         areaTH  \\\n",
       "1748632 NaN NaN    2          ริมถนนเพชรเกษม เขตภาษีเจริญ, กรุงเทพฯ   \n",
       "1748633 NaN NaN    2    ริมถนนราษฎร์บูรณะ, เขตราษฎร์บูรณะ, กรุงเทพฯ   \n",
       "1748634 NaN NaN    2               ริมถนนพญาไท เขตราชเทวี, กรุงเทพฯ   \n",
       "1748635 NaN NaN    2              ริมถนนพระราม 5 เขตดุสิต, กรุงเทพฯ   \n",
       "1748636 NaN NaN    1  ริมถนนกรุงเกษม เขตป้อมปราบศัตรูพ่าย, กรุงเทพฯ   \n",
       "\n",
       "                                                    areaEN  \\\n",
       "1748632        Petchkasem Roadside, Phasi Charoen, Bangkok   \n",
       "1748633                                Rat Burana, Bangkok   \n",
       "1748634           Phayathai Roadside, Ratchathewi, Bangkok   \n",
       "1748635                     RamaV Roadside, Dusit, Bangkok   \n",
       "1748636  Krung Kasem Roadside, Pom Prap Sattru Phai, Ba...   \n",
       "\n",
       "                     datetime_aq  provinceNo  \n",
       "1748632  2022-01-30 09:00:00.000          75  \n",
       "1748633  2022-01-30 09:00:00.000          75  \n",
       "1748634  2022-01-30 09:00:00.000          75  \n",
       "1748635  2022-01-30 09:00:00.000          75  \n",
       "1748636  2022-01-30 09:00:00.000          75  "
      ]
     },
     "execution_count": 98,
     "metadata": {},
     "output_type": "execute_result"
    }
   ],
   "source": [
    "dataframe.tail()"
   ]
  },
  {
   "cell_type": "markdown",
   "metadata": {},
   "source": [
    "# หาตัวแทนข้อมูลของแต่ละจังหวัด"
   ]
  },
  {
   "cell_type": "code",
   "execution_count": 99,
   "metadata": {},
   "outputs": [],
   "source": [
    "dataframe.drop('id',axis=1,inplace=True)"
   ]
  },
  {
   "cell_type": "code",
   "execution_count": 100,
   "metadata": {},
   "outputs": [],
   "source": [
    "dataframe.dropna(subset=['PM25'],inplace=True)"
   ]
  },
  {
   "cell_type": "code",
   "execution_count": 101,
   "metadata": {},
   "outputs": [
    {
     "data": {
      "text/plain": [
       "PM25          0\n",
       "CO      1189872\n",
       "O3       897967\n",
       "dtype: int64"
      ]
     },
     "execution_count": 101,
     "metadata": {},
     "output_type": "execute_result"
    }
   ],
   "source": [
    "dataframe[['PM25','CO','O3']].isnull().sum()"
   ]
  },
  {
   "cell_type": "code",
   "execution_count": 102,
   "metadata": {},
   "outputs": [],
   "source": [
    "dfPM25 = dataframe.groupby(['date_aq','provinceNo'])['PM25'].mean()"
   ]
  },
  {
   "cell_type": "code",
   "execution_count": 103,
   "metadata": {},
   "outputs": [
    {
     "data": {
      "text/html": [
       "<div>\n",
       "<style scoped>\n",
       "    .dataframe tbody tr th:only-of-type {\n",
       "        vertical-align: middle;\n",
       "    }\n",
       "\n",
       "    .dataframe tbody tr th {\n",
       "        vertical-align: top;\n",
       "    }\n",
       "\n",
       "    .dataframe thead th {\n",
       "        text-align: right;\n",
       "    }\n",
       "</style>\n",
       "<table border=\"1\" class=\"dataframe\">\n",
       "  <thead>\n",
       "    <tr style=\"text-align: right;\">\n",
       "      <th></th>\n",
       "      <th></th>\n",
       "      <th>PM25</th>\n",
       "    </tr>\n",
       "    <tr>\n",
       "      <th>date_aq</th>\n",
       "      <th>provinceNo</th>\n",
       "      <th></th>\n",
       "    </tr>\n",
       "  </thead>\n",
       "  <tbody>\n",
       "    <tr>\n",
       "      <th rowspan=\"5\" valign=\"top\">2020-07-20</th>\n",
       "      <th>0</th>\n",
       "      <td>9.000000</td>\n",
       "    </tr>\n",
       "    <tr>\n",
       "      <th>1</th>\n",
       "      <td>17.444444</td>\n",
       "    </tr>\n",
       "    <tr>\n",
       "      <th>2</th>\n",
       "      <td>7.777778</td>\n",
       "    </tr>\n",
       "    <tr>\n",
       "      <th>3</th>\n",
       "      <td>6.000000</td>\n",
       "    </tr>\n",
       "    <tr>\n",
       "      <th>4</th>\n",
       "      <td>11.250000</td>\n",
       "    </tr>\n",
       "    <tr>\n",
       "      <th>...</th>\n",
       "      <th>...</th>\n",
       "      <td>...</td>\n",
       "    </tr>\n",
       "    <tr>\n",
       "      <th rowspan=\"5\" valign=\"top\">2022-01-30</th>\n",
       "      <th>71</th>\n",
       "      <td>18.888889</td>\n",
       "    </tr>\n",
       "    <tr>\n",
       "      <th>72</th>\n",
       "      <td>24.888889</td>\n",
       "    </tr>\n",
       "    <tr>\n",
       "      <th>74</th>\n",
       "      <td>22.555556</td>\n",
       "    </tr>\n",
       "    <tr>\n",
       "      <th>75</th>\n",
       "      <td>27.171239</td>\n",
       "    </tr>\n",
       "    <tr>\n",
       "      <th>76</th>\n",
       "      <td>22.759259</td>\n",
       "    </tr>\n",
       "  </tbody>\n",
       "</table>\n",
       "<p>28192 rows × 1 columns</p>\n",
       "</div>"
      ],
      "text/plain": [
       "                            PM25\n",
       "date_aq    provinceNo           \n",
       "2020-07-20 0            9.000000\n",
       "           1           17.444444\n",
       "           2            7.777778\n",
       "           3            6.000000\n",
       "           4           11.250000\n",
       "...                          ...\n",
       "2022-01-30 71          18.888889\n",
       "           72          24.888889\n",
       "           74          22.555556\n",
       "           75          27.171239\n",
       "           76          22.759259\n",
       "\n",
       "[28192 rows x 1 columns]"
      ]
     },
     "execution_count": 103,
     "metadata": {},
     "output_type": "execute_result"
    }
   ],
   "source": [
    "dfPM25 = dfPM25.to_frame()\n",
    "dfPM25"
   ]
  },
  {
   "cell_type": "markdown",
   "metadata": {},
   "source": [
    "# Convert PM25 from per day to per week"
   ]
  },
  {
   "cell_type": "markdown",
   "metadata": {},
   "source": [
    "Filter only 1st 8th 15th 22th date of each month"
   ]
  },
  {
   "cell_type": "code",
   "execution_count": 104,
   "metadata": {},
   "outputs": [],
   "source": [
    "df_struct = {\n",
    "    \"date\":[],\n",
    "    \"provinceNo\":[],\n",
    "    \"pm25\":[]\n",
    "}\n",
    "dfPM25perweek = pd.DataFrame(df_struct)"
   ]
  },
  {
   "cell_type": "markdown",
   "metadata": {},
   "source": [
    "Find intersect province between pm25 and o3 , co"
   ]
  },
  {
   "cell_type": "code",
   "execution_count": 105,
   "metadata": {},
   "outputs": [],
   "source": [
    "provinceNoInPM25 = dataframe['provinceNo'].unique()"
   ]
  },
  {
   "cell_type": "code",
   "execution_count": 106,
   "metadata": {},
   "outputs": [
    {
     "name": "stdout",
     "output_type": "stream",
     "text": [
      "[57 32 13 64 33 34 65  2 35 53 66 36  3 67 68 69 74 70 54 60  6  7 72 71\n",
      " 41 42 43 47 55 46 73 24 49 27  0  1 20  4  5 75 56 10 61 76 63 52 51 21\n",
      " 19  9 15 37 38  8 45 40 11 39 29 12 14 17 26 44 31]\n"
     ]
    }
   ],
   "source": [
    "print(provinceNoInPM25)"
   ]
  },
  {
   "cell_type": "code",
   "execution_count": 107,
   "metadata": {},
   "outputs": [],
   "source": [
    "provinceDictO3 = {\"yala\":[74,\"6.506;101.341;9\"],\"satun\":[71,\"6.680;100.403;9\"], \"songkhla\":[72,\"7.125;100.658;9\"],\"trang\":[63,\"7.493;99.926;9\"], \\\n",
    "\"nakhon-si-thammarat\":[65-1,\"8.227;99.789;9\"],\"wichit\":[70-1,\"8.038;98.722;9\"],\"surat-thani\":[74-1,\"9.115;99.007;9\"],\"ranong\":[71-1,\"9.863;98.867;9\"], \\\n",
    "\"kanchanaburi\":[57-1,\"13.923;100.349;9\"] , \"samut-sakhon\":[44-1,\"13.931;100.267;9\"], \"bangkok\":[76-1,\"13.931;100.267;9\"] , \"samut-prakan\":[42-1,\"13.931;100.267;9\"] , \\\n",
    "\"mueang-nonthaburi\":[35-1,\"13.931;100.267;9\"] , \\\n",
    "\"pathum-thani\":[36-1,\"13.931;100.267;9\"] , \"phra-nakhon-si-ayutthaya\" : [37-1,\"13.931;100.267;9\"]  , \"saraburi\":[48-1,\"14.475;100.437;9\"] , \\\n",
    "\"lop-buri\":[41-1,\"14.475;100.437;9\"] , \"sing-buri\":[45-1,\"14.475;100.437;9\"] , \"prachin-buri\":[54-1,\"14.475;100.437;9\"] , \"nakhon-nayok\":[32-1,\"14.475;100.437;9\"] , \\\n",
    "\"chiang-rai\":[1-1, \"19.22;99.99;8\"], \"mae-hong-son\":[6-1, \"19.02;97.87;8\"], \"phayao\":[4-1, \"19.10;100.27;8\"], \"nan\":[3-1, \"18.79;100.80;8\"], \\\n",
    "\"chiang-mai\":[2-1, \"18.93;99.06;8\"], \"lamphun\":[8-1, \"18.50;99.07;8\"], \"lampang\":[7-1, \"18.35;99.42;8\"], \"phrae\":[5-1, \"18.17;100.26;8\"], \"uttaradit\":[9-1, \"17.55;100.10;8\"], \\\n",
    "\"sukhothai\":[46-1, \"16.96;99.97;8\"], \"tak\":[58-1, \"16.83;99.18;8\"], \"phitsanulok\":[39-1, \"16.83;100.20;8\"], \"kamphaeng-phet\":[30-1, \"16.35;99.30;8\"], \"phichit\":[38-1, \"16.37;100.45;8\"], \\\n",
    "\"phetchabun\":[40-1, \"16.50;101.39;8\"], \"nakhon-sawan\":[34-1, \"15.73;100.26;8\"], \"uthai-thani\":[50-1, \"15.35;100.12;8\"], \"nong-khai\":[25-1, \"17.91;102.82;8\"], \\\n",
    "\"loei\":[21-1, \"17.47;101.90;8\"], \"udon-thani\":[27-1, \"17.50;102.79;8\"], \"nakhon-phanom\":[13-1, \"17.41;104.73;8\"], \\\n",
    "\"sakon-nakhon\":[22-1, \"17.17;104.19;8\"], \"khon-kaen\":[11-1, \"16.34;102.69;8\"], \"kalasin\":[10-1, \"16.50;103.73;8\"], \\\n",
    "\"roi-et\":[20-1, \"16.10;103.69;8\"],  \"chaiyaphum\":[12-1, \"15.87;102.05;8\"], \\\n",
    "\"ubon-ratchathani\":[28-1, \"14.98;105.17;8\"], \"buriram\":[16-1, \"14.84;102.88;8\"], \\\n",
    "\"nakhon-ratchasima\":[14-1,\"14.85;102.04;8\"], \"chon-buri\":[77-1, \"13.25;101.13;8\"], \"rayong\":[55-1, \"12.67;101.21;8\"], \"trat\":[52, \"12.25;102.55;8\"]}"
   ]
  },
  {
   "cell_type": "code",
   "execution_count": 108,
   "metadata": {},
   "outputs": [],
   "source": [
    "provinceNoInO3 = []\n",
    "for (k,v) in provinceDictO3.items():\n",
    "    provinceNoInO3.append(v[0])"
   ]
  },
  {
   "cell_type": "code",
   "execution_count": 109,
   "metadata": {},
   "outputs": [
    {
     "name": "stdout",
     "output_type": "stream",
     "text": [
      "[74, 71, 72, 63, 64, 69, 73, 70, 56, 43, 75, 41, 34, 35, 36, 47, 40, 44, 53, 31, 0, 5, 3, 2, 1, 7, 6, 4, 8, 45, 57, 38, 29, 37, 39, 33, 49, 24, 20, 26, 12, 21, 10, 9, 19, 11, 27, 15, 13, 76, 54, 52]\n"
     ]
    }
   ],
   "source": [
    "print(provinceNoInO3)"
   ]
  },
  {
   "cell_type": "code",
   "execution_count": 110,
   "metadata": {},
   "outputs": [],
   "source": [
    "def intersection(lst1, lst2):\n",
    "    lst3 = [value for value in lst1 if value in lst2]\n",
    "    return lst3"
   ]
  },
  {
   "cell_type": "code",
   "execution_count": 111,
   "metadata": {},
   "outputs": [
    {
     "name": "stdout",
     "output_type": "stream",
     "text": [
      "[57, 13, 64, 33, 34, 2, 35, 53, 36, 3, 69, 74, 70, 54, 6, 7, 72, 71, 41, 43, 47, 73, 24, 49, 27, 0, 1, 20, 4, 5, 75, 56, 10, 76, 63, 52, 21, 19, 9, 15, 37, 38, 8, 45, 40, 11, 39, 29, 12, 26, 44, 31]\n"
     ]
    }
   ],
   "source": [
    "provinceNoIntersect = intersection(provinceNoInPM25,provinceNoInO3)\n",
    "print(provinceNoIntersect)"
   ]
  },
  {
   "cell_type": "code",
   "execution_count": 112,
   "metadata": {},
   "outputs": [
    {
     "data": {
      "text/plain": [
       "52"
      ]
     },
     "execution_count": 112,
     "metadata": {},
     "output_type": "execute_result"
    }
   ],
   "source": [
    "len(provinceNoIntersect)"
   ]
  },
  {
   "cell_type": "code",
   "execution_count": 113,
   "metadata": {},
   "outputs": [
    {
     "data": {
      "text/plain": [
       "52"
      ]
     },
     "execution_count": 113,
     "metadata": {},
     "output_type": "execute_result"
    }
   ],
   "source": [
    "len(provinceNoInO3)"
   ]
  },
  {
   "cell_type": "code",
   "execution_count": 114,
   "metadata": {},
   "outputs": [],
   "source": [
    "yearList = [\"2020\",\"2021\",\"2022\"]\n",
    "monthList = [\"01\",\"02\",\"03\",\"04\",\"05\",\"06\",\"07\",\"08\",\"09\",\"10\",\"11\",\"12\"]\n",
    "dayList = [\"01\",\"08\",\"15\",\"22\"]\n",
    "def nextDay(date):\n",
    "    year=date[0:4]\n",
    "    month=date[4:6]\n",
    "    day=date[6:8]\n",
    "    if day ==\"22\":\n",
    "        day=dayList[0]\n",
    "        if month != \"12\":\n",
    "            month=monthList[monthList.index(month)+1]\n",
    "        else:\n",
    "            month=\"01\"\n",
    "            year=yearList[yearList.index(year)+1]\n",
    "    else:\n",
    "        day=dayList[dayList.index(day)+1]\n",
    "    return year+month+day"
   ]
  },
  {
   "cell_type": "code",
   "execution_count": 115,
   "metadata": {},
   "outputs": [
    {
     "name": "stdout",
     "output_type": "stream",
     "text": [
      "['20200722', '20200801', '20200808', '20200815', '20200822', '20200901', '20200908', '20200915', '20200922', '20201001', '20201008', '20201015', '20201022', '20201101', '20201108', '20201115', '20201122', '20201201', '20201208', '20201215', '20201222', '20210101', '20210108', '20210115', '20210122', '20210201', '20210208', '20210215', '20210222', '20210301', '20210308', '20210315', '20210322', '20210401', '20210408', '20210415', '20210422', '20210501', '20210508', '20210515', '20210522', '20210601', '20210608', '20210615', '20210622', '20210701', '20210708', '20210715', '20210722', '20210801', '20210808', '20210815', '20210822', '20210901', '20210908', '20210915', '20210922', '20211001', '20211008', '20211015', '20211022', '20211101', '20211108', '20211115', '20211122', '20211201', '20211208', '20211215', '20211222', '20220101', '20220108', '20220115', '20220122']\n"
     ]
    }
   ],
   "source": [
    "validDate=[]\n",
    "initialDate=\"20200722\"\n",
    "date=initialDate\n",
    "validDate.append(initialDate)\n",
    "while date < \"20220122\":\n",
    "    temp = nextDay(date)\n",
    "    validDate.append(temp)\n",
    "    date = temp\n",
    "print(validDate)"
   ]
  },
  {
   "cell_type": "code",
   "execution_count": 116,
   "metadata": {},
   "outputs": [
    {
     "data": {
      "text/plain": [
       "73"
      ]
     },
     "execution_count": 116,
     "metadata": {},
     "output_type": "execute_result"
    }
   ],
   "source": [
    "len(validDate)"
   ]
  },
  {
   "cell_type": "code",
   "execution_count": 117,
   "metadata": {},
   "outputs": [
    {
     "name": "stdout",
     "output_type": "stream",
     "text": [
      "['2020-07-22', '2020-08-01', '2020-08-08', '2020-08-15', '2020-08-22', '2020-09-01', '2020-09-08', '2020-09-15', '2020-09-22', '2020-10-01', '2020-10-08', '2020-10-15', '2020-10-22', '2020-11-01', '2020-11-08', '2020-11-15', '2020-11-22', '2020-12-01', '2020-12-08', '2020-12-15', '2020-12-22', '2021-01-01', '2021-01-08', '2021-01-15', '2021-01-22', '2021-02-01', '2021-02-08', '2021-02-15', '2021-02-22', '2021-03-01', '2021-03-08', '2021-03-15', '2021-03-22', '2021-04-01', '2021-04-08', '2021-04-15', '2021-04-22', '2021-05-01', '2021-05-08', '2021-05-15', '2021-05-22', '2021-06-01', '2021-06-08', '2021-06-15', '2021-06-22', '2021-07-01', '2021-07-08', '2021-07-15', '2021-07-22', '2021-08-01', '2021-08-08', '2021-08-15', '2021-08-22', '2021-09-01', '2021-09-08', '2021-09-15', '2021-09-22', '2021-10-01', '2021-10-08', '2021-10-15', '2021-10-22', '2021-11-01', '2021-11-08', '2021-11-15', '2021-11-22', '2021-12-01', '2021-12-08', '2021-12-15', '2021-12-22', '2022-01-01', '2022-01-08', '2022-01-15', '2022-01-22']\n"
     ]
    }
   ],
   "source": [
    "validDate = list(map(lambda x :x[0:4]+\"-\"+x[4:6]+\"-\"+x[6:8] ,validDate))\n",
    "print(validDate)"
   ]
  },
  {
   "cell_type": "code",
   "execution_count": 118,
   "metadata": {},
   "outputs": [],
   "source": [
    "dfPM25.reset_index(inplace=True)"
   ]
  },
  {
   "cell_type": "code",
   "execution_count": 119,
   "metadata": {},
   "outputs": [
    {
     "data": {
      "text/html": [
       "<div>\n",
       "<style scoped>\n",
       "    .dataframe tbody tr th:only-of-type {\n",
       "        vertical-align: middle;\n",
       "    }\n",
       "\n",
       "    .dataframe tbody tr th {\n",
       "        vertical-align: top;\n",
       "    }\n",
       "\n",
       "    .dataframe thead th {\n",
       "        text-align: right;\n",
       "    }\n",
       "</style>\n",
       "<table border=\"1\" class=\"dataframe\">\n",
       "  <thead>\n",
       "    <tr style=\"text-align: right;\">\n",
       "      <th></th>\n",
       "      <th>date_aq</th>\n",
       "      <th>provinceNo</th>\n",
       "      <th>PM25</th>\n",
       "    </tr>\n",
       "  </thead>\n",
       "  <tbody>\n",
       "    <tr>\n",
       "      <th>28187</th>\n",
       "      <td>2022-01-30</td>\n",
       "      <td>71</td>\n",
       "      <td>18.888889</td>\n",
       "    </tr>\n",
       "    <tr>\n",
       "      <th>28188</th>\n",
       "      <td>2022-01-30</td>\n",
       "      <td>72</td>\n",
       "      <td>24.888889</td>\n",
       "    </tr>\n",
       "    <tr>\n",
       "      <th>28189</th>\n",
       "      <td>2022-01-30</td>\n",
       "      <td>74</td>\n",
       "      <td>22.555556</td>\n",
       "    </tr>\n",
       "    <tr>\n",
       "      <th>28190</th>\n",
       "      <td>2022-01-30</td>\n",
       "      <td>75</td>\n",
       "      <td>27.171239</td>\n",
       "    </tr>\n",
       "    <tr>\n",
       "      <th>28191</th>\n",
       "      <td>2022-01-30</td>\n",
       "      <td>76</td>\n",
       "      <td>22.759259</td>\n",
       "    </tr>\n",
       "  </tbody>\n",
       "</table>\n",
       "</div>"
      ],
      "text/plain": [
       "          date_aq  provinceNo       PM25\n",
       "28187  2022-01-30          71  18.888889\n",
       "28188  2022-01-30          72  24.888889\n",
       "28189  2022-01-30          74  22.555556\n",
       "28190  2022-01-30          75  27.171239\n",
       "28191  2022-01-30          76  22.759259"
      ]
     },
     "execution_count": 119,
     "metadata": {},
     "output_type": "execute_result"
    }
   ],
   "source": [
    "dfPM25.tail()"
   ]
  },
  {
   "cell_type": "code",
   "execution_count": 121,
   "metadata": {},
   "outputs": [],
   "source": [
    "dfPM25_filtered = dfPM25[dfPM25['date_aq'].isin(validDate)]\n",
    "\n",
    "dfPM25_filtered =  dfPM25_filtered[dfPM25_filtered['provinceNo'].isin(provinceNoIntersect)]"
   ]
  },
  {
   "cell_type": "code",
   "execution_count": 135,
   "metadata": {},
   "outputs": [
    {
     "data": {
      "text/html": [
       "<div>\n",
       "<style scoped>\n",
       "    .dataframe tbody tr th:only-of-type {\n",
       "        vertical-align: middle;\n",
       "    }\n",
       "\n",
       "    .dataframe tbody tr th {\n",
       "        vertical-align: top;\n",
       "    }\n",
       "\n",
       "    .dataframe thead th {\n",
       "        text-align: right;\n",
       "    }\n",
       "</style>\n",
       "<table border=\"1\" class=\"dataframe\">\n",
       "  <thead>\n",
       "    <tr style=\"text-align: right;\">\n",
       "      <th></th>\n",
       "      <th>date_aq</th>\n",
       "      <th>provinceNo</th>\n",
       "      <th>PM25</th>\n",
       "    </tr>\n",
       "  </thead>\n",
       "  <tbody>\n",
       "    <tr>\n",
       "      <th>27720</th>\n",
       "      <td>2022-01-22</td>\n",
       "      <td>72</td>\n",
       "      <td>13.958333</td>\n",
       "    </tr>\n",
       "    <tr>\n",
       "      <th>27721</th>\n",
       "      <td>2022-01-22</td>\n",
       "      <td>73</td>\n",
       "      <td>15.833333</td>\n",
       "    </tr>\n",
       "    <tr>\n",
       "      <th>27722</th>\n",
       "      <td>2022-01-22</td>\n",
       "      <td>74</td>\n",
       "      <td>14.685185</td>\n",
       "    </tr>\n",
       "    <tr>\n",
       "      <th>27723</th>\n",
       "      <td>2022-01-22</td>\n",
       "      <td>75</td>\n",
       "      <td>17.225225</td>\n",
       "    </tr>\n",
       "    <tr>\n",
       "      <th>27724</th>\n",
       "      <td>2022-01-22</td>\n",
       "      <td>76</td>\n",
       "      <td>15.666667</td>\n",
       "    </tr>\n",
       "  </tbody>\n",
       "</table>\n",
       "</div>"
      ],
      "text/plain": [
       "          date_aq  provinceNo       PM25\n",
       "27720  2022-01-22          72  13.958333\n",
       "27721  2022-01-22          73  15.833333\n",
       "27722  2022-01-22          74  14.685185\n",
       "27723  2022-01-22          75  17.225225\n",
       "27724  2022-01-22          76  15.666667"
      ]
     },
     "execution_count": 135,
     "metadata": {},
     "output_type": "execute_result"
    }
   ],
   "source": [
    "dfPM25_filtered.tail()"
   ]
  },
  {
   "cell_type": "code",
   "execution_count": 140,
   "metadata": {},
   "outputs": [],
   "source": [
    "dfPM25_filtered.rename({'date_aq':'date'},axis=1, inplace=True)"
   ]
  },
  {
   "cell_type": "code",
   "execution_count": 145,
   "metadata": {},
   "outputs": [
    {
     "data": {
      "text/html": [
       "<div>\n",
       "<style scoped>\n",
       "    .dataframe tbody tr th:only-of-type {\n",
       "        vertical-align: middle;\n",
       "    }\n",
       "\n",
       "    .dataframe tbody tr th {\n",
       "        vertical-align: top;\n",
       "    }\n",
       "\n",
       "    .dataframe thead th {\n",
       "        text-align: right;\n",
       "    }\n",
       "</style>\n",
       "<table border=\"1\" class=\"dataframe\">\n",
       "  <thead>\n",
       "    <tr style=\"text-align: right;\">\n",
       "      <th></th>\n",
       "      <th>date</th>\n",
       "      <th>provinceNo</th>\n",
       "      <th>PM25</th>\n",
       "    </tr>\n",
       "  </thead>\n",
       "  <tbody>\n",
       "    <tr>\n",
       "      <th>94</th>\n",
       "      <td>2020-07-22</td>\n",
       "      <td>0</td>\n",
       "      <td>9.062500</td>\n",
       "    </tr>\n",
       "    <tr>\n",
       "      <th>95</th>\n",
       "      <td>2020-07-22</td>\n",
       "      <td>1</td>\n",
       "      <td>9.276596</td>\n",
       "    </tr>\n",
       "    <tr>\n",
       "      <th>96</th>\n",
       "      <td>2020-07-22</td>\n",
       "      <td>2</td>\n",
       "      <td>8.458333</td>\n",
       "    </tr>\n",
       "    <tr>\n",
       "      <th>97</th>\n",
       "      <td>2020-07-22</td>\n",
       "      <td>3</td>\n",
       "      <td>9.458333</td>\n",
       "    </tr>\n",
       "    <tr>\n",
       "      <th>98</th>\n",
       "      <td>2020-07-22</td>\n",
       "      <td>4</td>\n",
       "      <td>11.333333</td>\n",
       "    </tr>\n",
       "  </tbody>\n",
       "</table>\n",
       "</div>"
      ],
      "text/plain": [
       "          date  provinceNo       PM25\n",
       "94  2020-07-22           0   9.062500\n",
       "95  2020-07-22           1   9.276596\n",
       "96  2020-07-22           2   8.458333\n",
       "97  2020-07-22           3   9.458333\n",
       "98  2020-07-22           4  11.333333"
      ]
     },
     "execution_count": 145,
     "metadata": {},
     "output_type": "execute_result"
    }
   ],
   "source": [
    "dfPM25_filtered.head()"
   ]
  },
  {
   "cell_type": "markdown",
   "metadata": {},
   "source": [
    "# Merge PM25 with O3 and CO data"
   ]
  },
  {
   "cell_type": "code",
   "execution_count": 125,
   "metadata": {},
   "outputs": [],
   "source": [
    "dfO3 = pd.read_csv(\"../ScrapedData/O3Data.csv\")"
   ]
  },
  {
   "cell_type": "code",
   "execution_count": 126,
   "metadata": {},
   "outputs": [
    {
     "data": {
      "text/html": [
       "<div>\n",
       "<style scoped>\n",
       "    .dataframe tbody tr th:only-of-type {\n",
       "        vertical-align: middle;\n",
       "    }\n",
       "\n",
       "    .dataframe tbody tr th {\n",
       "        vertical-align: top;\n",
       "    }\n",
       "\n",
       "    .dataframe thead th {\n",
       "        text-align: right;\n",
       "    }\n",
       "</style>\n",
       "<table border=\"1\" class=\"dataframe\">\n",
       "  <thead>\n",
       "    <tr style=\"text-align: right;\">\n",
       "      <th></th>\n",
       "      <th>Unnamed: 0</th>\n",
       "      <th>date</th>\n",
       "      <th>provinceNo</th>\n",
       "      <th>o3</th>\n",
       "    </tr>\n",
       "  </thead>\n",
       "  <tbody>\n",
       "    <tr>\n",
       "      <th>0</th>\n",
       "      <td>0</td>\n",
       "      <td>20200722</td>\n",
       "      <td>74.0</td>\n",
       "      <td>55</td>\n",
       "    </tr>\n",
       "    <tr>\n",
       "      <th>1</th>\n",
       "      <td>1</td>\n",
       "      <td>20200722</td>\n",
       "      <td>71.0</td>\n",
       "      <td>98</td>\n",
       "    </tr>\n",
       "    <tr>\n",
       "      <th>2</th>\n",
       "      <td>2</td>\n",
       "      <td>20200722</td>\n",
       "      <td>72.0</td>\n",
       "      <td>63</td>\n",
       "    </tr>\n",
       "    <tr>\n",
       "      <th>3</th>\n",
       "      <td>3</td>\n",
       "      <td>20200722</td>\n",
       "      <td>63.0</td>\n",
       "      <td>37</td>\n",
       "    </tr>\n",
       "    <tr>\n",
       "      <th>4</th>\n",
       "      <td>4</td>\n",
       "      <td>20200722</td>\n",
       "      <td>64.0</td>\n",
       "      <td>46</td>\n",
       "    </tr>\n",
       "  </tbody>\n",
       "</table>\n",
       "</div>"
      ],
      "text/plain": [
       "   Unnamed: 0      date  provinceNo  o3\n",
       "0           0  20200722        74.0  55\n",
       "1           1  20200722        71.0  98\n",
       "2           2  20200722        72.0  63\n",
       "3           3  20200722        63.0  37\n",
       "4           4  20200722        64.0  46"
      ]
     },
     "execution_count": 126,
     "metadata": {},
     "output_type": "execute_result"
    }
   ],
   "source": [
    "dfO3.head()"
   ]
  },
  {
   "cell_type": "code",
   "execution_count": 127,
   "metadata": {},
   "outputs": [
    {
     "data": {
      "text/html": [
       "<div>\n",
       "<style scoped>\n",
       "    .dataframe tbody tr th:only-of-type {\n",
       "        vertical-align: middle;\n",
       "    }\n",
       "\n",
       "    .dataframe tbody tr th {\n",
       "        vertical-align: top;\n",
       "    }\n",
       "\n",
       "    .dataframe thead th {\n",
       "        text-align: right;\n",
       "    }\n",
       "</style>\n",
       "<table border=\"1\" class=\"dataframe\">\n",
       "  <thead>\n",
       "    <tr style=\"text-align: right;\">\n",
       "      <th></th>\n",
       "      <th>date</th>\n",
       "      <th>provinceNo</th>\n",
       "      <th>o3</th>\n",
       "    </tr>\n",
       "  </thead>\n",
       "  <tbody>\n",
       "    <tr>\n",
       "      <th>0</th>\n",
       "      <td>20200722</td>\n",
       "      <td>74.0</td>\n",
       "      <td>55</td>\n",
       "    </tr>\n",
       "    <tr>\n",
       "      <th>1</th>\n",
       "      <td>20200722</td>\n",
       "      <td>71.0</td>\n",
       "      <td>98</td>\n",
       "    </tr>\n",
       "    <tr>\n",
       "      <th>2</th>\n",
       "      <td>20200722</td>\n",
       "      <td>72.0</td>\n",
       "      <td>63</td>\n",
       "    </tr>\n",
       "    <tr>\n",
       "      <th>3</th>\n",
       "      <td>20200722</td>\n",
       "      <td>63.0</td>\n",
       "      <td>37</td>\n",
       "    </tr>\n",
       "    <tr>\n",
       "      <th>4</th>\n",
       "      <td>20200722</td>\n",
       "      <td>64.0</td>\n",
       "      <td>46</td>\n",
       "    </tr>\n",
       "    <tr>\n",
       "      <th>...</th>\n",
       "      <td>...</td>\n",
       "      <td>...</td>\n",
       "      <td>...</td>\n",
       "    </tr>\n",
       "    <tr>\n",
       "      <th>3791</th>\n",
       "      <td>20220122</td>\n",
       "      <td>15.0</td>\n",
       "      <td>105</td>\n",
       "    </tr>\n",
       "    <tr>\n",
       "      <th>3792</th>\n",
       "      <td>20220122</td>\n",
       "      <td>13.0</td>\n",
       "      <td>85</td>\n",
       "    </tr>\n",
       "    <tr>\n",
       "      <th>3793</th>\n",
       "      <td>20220122</td>\n",
       "      <td>76.0</td>\n",
       "      <td>83</td>\n",
       "    </tr>\n",
       "    <tr>\n",
       "      <th>3794</th>\n",
       "      <td>20220122</td>\n",
       "      <td>54.0</td>\n",
       "      <td>101</td>\n",
       "    </tr>\n",
       "    <tr>\n",
       "      <th>3795</th>\n",
       "      <td>20220122</td>\n",
       "      <td>52.0</td>\n",
       "      <td>68</td>\n",
       "    </tr>\n",
       "  </tbody>\n",
       "</table>\n",
       "<p>3796 rows × 3 columns</p>\n",
       "</div>"
      ],
      "text/plain": [
       "          date  provinceNo   o3\n",
       "0     20200722        74.0   55\n",
       "1     20200722        71.0   98\n",
       "2     20200722        72.0   63\n",
       "3     20200722        63.0   37\n",
       "4     20200722        64.0   46\n",
       "...        ...         ...  ...\n",
       "3791  20220122        15.0  105\n",
       "3792  20220122        13.0   85\n",
       "3793  20220122        76.0   83\n",
       "3794  20220122        54.0  101\n",
       "3795  20220122        52.0   68\n",
       "\n",
       "[3796 rows x 3 columns]"
      ]
     },
     "execution_count": 127,
     "metadata": {},
     "output_type": "execute_result"
    }
   ],
   "source": [
    "dfO3 = dfO3.drop(columns=dfO3.columns[0], axis=1)\n",
    "dfO3"
   ]
  },
  {
   "cell_type": "code",
   "execution_count": 128,
   "metadata": {},
   "outputs": [],
   "source": [
    "dfO3['provinceNo'] = dfO3['provinceNo'].astype(int)"
   ]
  },
  {
   "cell_type": "code",
   "execution_count": 129,
   "metadata": {},
   "outputs": [
    {
     "data": {
      "text/html": [
       "<div>\n",
       "<style scoped>\n",
       "    .dataframe tbody tr th:only-of-type {\n",
       "        vertical-align: middle;\n",
       "    }\n",
       "\n",
       "    .dataframe tbody tr th {\n",
       "        vertical-align: top;\n",
       "    }\n",
       "\n",
       "    .dataframe thead th {\n",
       "        text-align: right;\n",
       "    }\n",
       "</style>\n",
       "<table border=\"1\" class=\"dataframe\">\n",
       "  <thead>\n",
       "    <tr style=\"text-align: right;\">\n",
       "      <th></th>\n",
       "      <th>date</th>\n",
       "      <th>provinceNo</th>\n",
       "      <th>o3</th>\n",
       "    </tr>\n",
       "  </thead>\n",
       "  <tbody>\n",
       "    <tr>\n",
       "      <th>0</th>\n",
       "      <td>20200722</td>\n",
       "      <td>74</td>\n",
       "      <td>55</td>\n",
       "    </tr>\n",
       "    <tr>\n",
       "      <th>1</th>\n",
       "      <td>20200722</td>\n",
       "      <td>71</td>\n",
       "      <td>98</td>\n",
       "    </tr>\n",
       "    <tr>\n",
       "      <th>2</th>\n",
       "      <td>20200722</td>\n",
       "      <td>72</td>\n",
       "      <td>63</td>\n",
       "    </tr>\n",
       "    <tr>\n",
       "      <th>3</th>\n",
       "      <td>20200722</td>\n",
       "      <td>63</td>\n",
       "      <td>37</td>\n",
       "    </tr>\n",
       "    <tr>\n",
       "      <th>4</th>\n",
       "      <td>20200722</td>\n",
       "      <td>64</td>\n",
       "      <td>46</td>\n",
       "    </tr>\n",
       "  </tbody>\n",
       "</table>\n",
       "</div>"
      ],
      "text/plain": [
       "       date  provinceNo  o3\n",
       "0  20200722          74  55\n",
       "1  20200722          71  98\n",
       "2  20200722          72  63\n",
       "3  20200722          63  37\n",
       "4  20200722          64  46"
      ]
     },
     "execution_count": 129,
     "metadata": {},
     "output_type": "execute_result"
    }
   ],
   "source": [
    "dfO3.head()"
   ]
  },
  {
   "cell_type": "code",
   "execution_count": 131,
   "metadata": {},
   "outputs": [],
   "source": [
    "dfO3['date'] = dfO3['date'].astype(str)"
   ]
  },
  {
   "cell_type": "code",
   "execution_count": 132,
   "metadata": {},
   "outputs": [],
   "source": [
    "dfO3['date'] = dfO3['date'].apply(lambda x : x[0:4]+\"-\"+x[4:6]+\"-\"+x[6:8])"
   ]
  },
  {
   "cell_type": "code",
   "execution_count": 133,
   "metadata": {},
   "outputs": [
    {
     "data": {
      "text/html": [
       "<div>\n",
       "<style scoped>\n",
       "    .dataframe tbody tr th:only-of-type {\n",
       "        vertical-align: middle;\n",
       "    }\n",
       "\n",
       "    .dataframe tbody tr th {\n",
       "        vertical-align: top;\n",
       "    }\n",
       "\n",
       "    .dataframe thead th {\n",
       "        text-align: right;\n",
       "    }\n",
       "</style>\n",
       "<table border=\"1\" class=\"dataframe\">\n",
       "  <thead>\n",
       "    <tr style=\"text-align: right;\">\n",
       "      <th></th>\n",
       "      <th>date</th>\n",
       "      <th>provinceNo</th>\n",
       "      <th>o3</th>\n",
       "    </tr>\n",
       "  </thead>\n",
       "  <tbody>\n",
       "    <tr>\n",
       "      <th>0</th>\n",
       "      <td>2020-07-22</td>\n",
       "      <td>74</td>\n",
       "      <td>55</td>\n",
       "    </tr>\n",
       "    <tr>\n",
       "      <th>1</th>\n",
       "      <td>2020-07-22</td>\n",
       "      <td>71</td>\n",
       "      <td>98</td>\n",
       "    </tr>\n",
       "    <tr>\n",
       "      <th>2</th>\n",
       "      <td>2020-07-22</td>\n",
       "      <td>72</td>\n",
       "      <td>63</td>\n",
       "    </tr>\n",
       "    <tr>\n",
       "      <th>3</th>\n",
       "      <td>2020-07-22</td>\n",
       "      <td>63</td>\n",
       "      <td>37</td>\n",
       "    </tr>\n",
       "    <tr>\n",
       "      <th>4</th>\n",
       "      <td>2020-07-22</td>\n",
       "      <td>64</td>\n",
       "      <td>46</td>\n",
       "    </tr>\n",
       "  </tbody>\n",
       "</table>\n",
       "</div>"
      ],
      "text/plain": [
       "         date  provinceNo  o3\n",
       "0  2020-07-22          74  55\n",
       "1  2020-07-22          71  98\n",
       "2  2020-07-22          72  63\n",
       "3  2020-07-22          63  37\n",
       "4  2020-07-22          64  46"
      ]
     },
     "execution_count": 133,
     "metadata": {},
     "output_type": "execute_result"
    }
   ],
   "source": [
    "dfO3.head()"
   ]
  },
  {
   "cell_type": "code",
   "execution_count": 142,
   "metadata": {},
   "outputs": [],
   "source": [
    "df_merge = dfPM25_filtered.merge(dfO3,on=['date','provinceNo'])"
   ]
  },
  {
   "cell_type": "code",
   "execution_count": 143,
   "metadata": {},
   "outputs": [
    {
     "data": {
      "text/html": [
       "<div>\n",
       "<style scoped>\n",
       "    .dataframe tbody tr th:only-of-type {\n",
       "        vertical-align: middle;\n",
       "    }\n",
       "\n",
       "    .dataframe tbody tr th {\n",
       "        vertical-align: top;\n",
       "    }\n",
       "\n",
       "    .dataframe thead th {\n",
       "        text-align: right;\n",
       "    }\n",
       "</style>\n",
       "<table border=\"1\" class=\"dataframe\">\n",
       "  <thead>\n",
       "    <tr style=\"text-align: right;\">\n",
       "      <th></th>\n",
       "      <th>date</th>\n",
       "      <th>provinceNo</th>\n",
       "      <th>PM25</th>\n",
       "      <th>o3</th>\n",
       "    </tr>\n",
       "  </thead>\n",
       "  <tbody>\n",
       "    <tr>\n",
       "      <th>0</th>\n",
       "      <td>2020-07-22</td>\n",
       "      <td>0</td>\n",
       "      <td>9.062500</td>\n",
       "      <td>62</td>\n",
       "    </tr>\n",
       "    <tr>\n",
       "      <th>1</th>\n",
       "      <td>2020-07-22</td>\n",
       "      <td>1</td>\n",
       "      <td>9.276596</td>\n",
       "      <td>42</td>\n",
       "    </tr>\n",
       "    <tr>\n",
       "      <th>2</th>\n",
       "      <td>2020-07-22</td>\n",
       "      <td>2</td>\n",
       "      <td>8.458333</td>\n",
       "      <td>32</td>\n",
       "    </tr>\n",
       "    <tr>\n",
       "      <th>3</th>\n",
       "      <td>2020-07-22</td>\n",
       "      <td>3</td>\n",
       "      <td>9.458333</td>\n",
       "      <td>56</td>\n",
       "    </tr>\n",
       "    <tr>\n",
       "      <th>4</th>\n",
       "      <td>2020-07-22</td>\n",
       "      <td>4</td>\n",
       "      <td>11.333333</td>\n",
       "      <td>61</td>\n",
       "    </tr>\n",
       "  </tbody>\n",
       "</table>\n",
       "</div>"
      ],
      "text/plain": [
       "         date  provinceNo       PM25  o3\n",
       "0  2020-07-22           0   9.062500  62\n",
       "1  2020-07-22           1   9.276596  42\n",
       "2  2020-07-22           2   8.458333  32\n",
       "3  2020-07-22           3   9.458333  56\n",
       "4  2020-07-22           4  11.333333  61"
      ]
     },
     "execution_count": 143,
     "metadata": {},
     "output_type": "execute_result"
    }
   ],
   "source": [
    "df_merge.head()"
   ]
  },
  {
   "cell_type": "code",
   "execution_count": 146,
   "metadata": {},
   "outputs": [
    {
     "data": {
      "text/plain": [
       "(3102, 4)"
      ]
     },
     "execution_count": 146,
     "metadata": {},
     "output_type": "execute_result"
    }
   ],
   "source": [
    "df_merge.shape"
   ]
  },
  {
   "cell_type": "code",
   "execution_count": null,
   "metadata": {},
   "outputs": [],
   "source": [
    "# Merge CO with other"
   ]
  },
  {
   "cell_type": "markdown",
   "metadata": {},
   "source": [
    "# KNN"
   ]
  },
  {
   "cell_type": "code",
   "execution_count": 205,
   "metadata": {},
   "outputs": [],
   "source": [
    "from sklearn.cluster import KMeans"
   ]
  },
  {
   "cell_type": "code",
   "execution_count": 206,
   "metadata": {},
   "outputs": [
    {
     "data": {
      "text/html": [
       "<div>\n",
       "<style scoped>\n",
       "    .dataframe tbody tr th:only-of-type {\n",
       "        vertical-align: middle;\n",
       "    }\n",
       "\n",
       "    .dataframe tbody tr th {\n",
       "        vertical-align: top;\n",
       "    }\n",
       "\n",
       "    .dataframe thead th {\n",
       "        text-align: right;\n",
       "    }\n",
       "</style>\n",
       "<table border=\"1\" class=\"dataframe\">\n",
       "  <thead>\n",
       "    <tr style=\"text-align: right;\">\n",
       "      <th></th>\n",
       "      <th>PM25</th>\n",
       "      <th>o3</th>\n",
       "    </tr>\n",
       "  </thead>\n",
       "  <tbody>\n",
       "    <tr>\n",
       "      <th>0</th>\n",
       "      <td>9.062500</td>\n",
       "      <td>62</td>\n",
       "    </tr>\n",
       "    <tr>\n",
       "      <th>1</th>\n",
       "      <td>9.276596</td>\n",
       "      <td>42</td>\n",
       "    </tr>\n",
       "    <tr>\n",
       "      <th>2</th>\n",
       "      <td>8.458333</td>\n",
       "      <td>32</td>\n",
       "    </tr>\n",
       "    <tr>\n",
       "      <th>3</th>\n",
       "      <td>9.458333</td>\n",
       "      <td>56</td>\n",
       "    </tr>\n",
       "    <tr>\n",
       "      <th>4</th>\n",
       "      <td>11.333333</td>\n",
       "      <td>61</td>\n",
       "    </tr>\n",
       "  </tbody>\n",
       "</table>\n",
       "</div>"
      ],
      "text/plain": [
       "        PM25  o3\n",
       "0   9.062500  62\n",
       "1   9.276596  42\n",
       "2   8.458333  32\n",
       "3   9.458333  56\n",
       "4  11.333333  61"
      ]
     },
     "execution_count": 206,
     "metadata": {},
     "output_type": "execute_result"
    }
   ],
   "source": [
    "df20200722 = df_merge[df_merge['date'] == '2020-07-22'].iloc[:,2:]\n",
    "df20200722.head()"
   ]
  },
  {
   "cell_type": "code",
   "execution_count": null,
   "metadata": {},
   "outputs": [],
   "source": [
    "def clusterOneday(data,date):\n",
    "    kmeans = KMeans(n_clusters=3,random_state=2022) #might change as there will be 3 features\n",
    "    kmeans.fit(data)\n",
    "    print(kmeans.cluster_centers_)\n",
    "    print(kmeans.labels_)\n",
    "    return kmeans.predict(data)"
   ]
  },
  {
   "cell_type": "code",
   "execution_count": null,
   "metadata": {},
   "outputs": [],
   "source": [
    "def assmeblerResult(data,result):\n",
    "    "
   ]
  },
  {
   "cell_type": "code",
   "execution_count": null,
   "metadata": {},
   "outputs": [],
   "source": [
    "from sklearn.preprocessing import StandardScaler\n",
    "scaler = StandardScaler()\n",
    "scaler.fit(data[0])\n",
    "\n",
    "trans_data = scaler.transform(data[0])\n",
    "print(trans_data[0:5,])\n",
    "\n",
    "org_data = scaler.inverse_transform(trans_data)\n",
    "print(org_data[0:5,])"
   ]
  },
  {
   "cell_type": "code",
   "execution_count": 207,
   "metadata": {},
   "outputs": [
    {
     "name": "stdout",
     "output_type": "stream",
     "text": [
      "[[-0.70038196  0.09319232]\n",
      " [-0.65236522 -0.89354984]\n",
      " [-0.83588261 -1.38692092]\n",
      " [-0.61160567 -0.20283033]\n",
      " [-0.19108641  0.04385521]]\n"
     ]
    }
   ],
   "source": [
    "from sklearn.preprocessing import StandardScaler\n",
    "scaler = StandardScaler()\n",
    "scaler.fit(df20200722)\n",
    "\n",
    "trans_data = scaler.transform(df20200722)\n",
    "print(trans_data[0:5,])"
   ]
  },
  {
   "cell_type": "code",
   "execution_count": 208,
   "metadata": {},
   "outputs": [
    {
     "data": {
      "image/png": "[encoded data removed]",
      "text/plain": [
       "<Figure size 432x288 with 1 Axes>"
      ]
     },
     "metadata": {
      "needs_background": "light"
     },
     "output_type": "display_data"
    }
   ],
   "source": [
    "# elbow method\n",
    "import numpy as np\n",
    "from scipy.spatial.distance import cdist\n",
    "import matplotlib.pyplot as plt\n",
    "\n",
    "K = range(1, 10)\n",
    "meandistortions = []\n",
    "for k in K:\n",
    "    kmeans = KMeans(n_clusters=k)\n",
    "    kmeans.fit(trans_data)\n",
    "    meandistortions.append(sum(np.min(cdist(trans_data, kmeans.cluster_centers_, 'euclidean'), axis=1)) / trans_data.shape[0])\n",
    "\n",
    "plt.plot(K, meandistortions, 'bx-')\n",
    "plt.xlabel('k')\n",
    "plt.ylabel('Average distortion')\n",
    "plt.title('Selecting k with the Elbow Method')\n",
    "plt.show()"
   ]
  },
  {
   "cell_type": "code",
   "execution_count": 219,
   "metadata": {},
   "outputs": [],
   "source": [
    "kmeans = KMeans(n_clusters=5)"
   ]
  },
  {
   "cell_type": "code",
   "execution_count": 192,
   "metadata": {},
   "outputs": [
    {
     "name": "stdout",
     "output_type": "stream",
     "text": [
      "[[-0.70038196  0.09319232]\n",
      " [-0.65236522 -0.89354984]\n",
      " [-0.83588261 -1.38692092]\n",
      " [-0.61160567 -0.20283033]\n",
      " [-0.19108641  0.04385521]]\n"
     ]
    }
   ],
   "source": []
  },
  {
   "cell_type": "code",
   "execution_count": 220,
   "metadata": {},
   "outputs": [
    {
     "data": {
      "text/plain": [
       "KMeans(n_clusters=5)"
      ]
     },
     "execution_count": 220,
     "metadata": {},
     "output_type": "execute_result"
    }
   ],
   "source": [
    "kmeans.fit(trans_data)"
   ]
  },
  {
   "cell_type": "code",
   "execution_count": 221,
   "metadata": {},
   "outputs": [
    {
     "data": {
      "text/plain": [
       "array([[-0.48403546, -0.17405035],\n",
       "       [ 0.64283222,  1.07288632],\n",
       "       [ 1.29073724, -0.71470283],\n",
       "       [-0.85165209,  1.59797411],\n",
       "       [-1.12213793, -1.21917476]])"
      ]
     },
     "execution_count": 221,
     "metadata": {},
     "output_type": "execute_result"
    }
   ],
   "source": [
    "kmeans.cluster_centers_"
   ]
  },
  {
   "cell_type": "code",
   "execution_count": 222,
   "metadata": {},
   "outputs": [
    {
     "data": {
      "text/plain": [
       "array([0, 4, 4, 0, 0, 4, 3, 2, 1, 1, 0, 3, 0, 1, 0, 1, 3, 2, 2, 1, 0, 2,\n",
       "       1, 2, 0, 0, 4, 0, 0, 4, 3, 2, 2, 0, 2, 1])"
      ]
     },
     "execution_count": 222,
     "metadata": {},
     "output_type": "execute_result"
    }
   ],
   "source": [
    "kmeans.labels_"
   ]
  },
  {
   "cell_type": "code",
   "execution_count": 223,
   "metadata": {},
   "outputs": [
    {
     "data": {
      "text/plain": [
       "array([0, 4, 4, 0, 0, 4, 3, 2, 1, 1, 0, 3, 0, 1, 0, 1, 3, 2, 2, 1, 0, 2,\n",
       "       1, 2, 0, 0, 4, 0, 0, 4, 3, 2, 2, 0, 2, 1])"
      ]
     },
     "execution_count": 223,
     "metadata": {},
     "output_type": "execute_result"
    }
   ],
   "source": [
    "kmeans.predict(trans_data)"
   ]
  },
  {
   "cell_type": "code",
   "execution_count": null,
   "metadata": {},
   "outputs": [],
   "source": [
    "fig, ax = plt.subplots(figsize=(10,7))\n",
    "# plt.scatter(new_dfa[\"Annual Income (k$)\"][new_dfa[\"label_kmeans\"] == 0], new_dfa[\"Age\"][new_dfa[\"label_kmeans\"] == 0], \n",
    "#             color = \"blue\", s=100, edgecolor='green',linestyle='--')\n",
    "# plt.scatter(new_dfa[\"Annual Income (k$)\"][new_dfa[\"label_kmeans\"] == 1], new_dfa[\"Age\"][new_dfa[\"label_kmeans\"] == 1], \n",
    "#             color = \"red\", s=100, edgecolor='green',linestyle='--')\n",
    "# plt.scatter(new_dfa[\"Annual Income (k$)\"][new_dfa[\"label_kmeans\"] == 2], new_dfa[\"Age\"][new_dfa[\"label_kmeans\"] == 2], \n",
    "#             color = \"green\", s=100, edgecolor='green',linestyle='--')\n",
    "centers = kmeans.cluster_centers_\n",
    "plt.scatter(centers[:, 0], centers[:, 1], c='black', s=500);\n",
    "ax.set_xlabel('Annual Income (k$)')\n",
    "ax.set_ylabel('Age')\n",
    "plt.show()"
   ]
  },
  {
   "cell_type": "code",
   "execution_count": 224,
   "metadata": {},
   "outputs": [
    {
     "name": "stdout",
     "output_type": "stream",
     "text": [
      "[[ 9.0625     62.        ]\n",
      " [ 9.27659574 42.        ]\n",
      " [ 8.45833333 32.        ]\n",
      " [ 9.45833333 56.        ]\n",
      " [11.33333333 61.        ]]\n"
     ]
    }
   ],
   "source": [
    "org_data = scaler.inverse_transform(trans_data)\n",
    "print(org_data[0:5,])"
   ]
  },
  {
   "cell_type": "code",
   "execution_count": 225,
   "metadata": {},
   "outputs": [
    {
     "data": {
      "text/plain": [
       "<matplotlib.collections.PathCollection at 0x18601b44c10>"
      ]
     },
     "execution_count": 225,
     "metadata": {},
     "output_type": "execute_result"
    },
    {
     "data": {
      "image/png": "[encoded data removed]",
      "text/plain": [
       "<Figure size 720x432 with 1 Axes>"
      ]
     },
     "metadata": {
      "needs_background": "light"
     },
     "output_type": "display_data"
    }
   ],
   "source": [
    "f, (ax1) = plt.subplots(1, 1, sharey=True,figsize=(10,6))\n",
    "ax1.set_title('K Means')\n",
    "ax1.set_xlabel('PM2.5')\n",
    "ax1.set_ylabel('O3')\n",
    "ax1.scatter(x=org_data[:,0],y=org_data[:,1],c=kmeans.labels_,cmap='rainbow')"
   ]
  }
 ],
 "metadata": {
  "interpreter": {
   "hash": "363f465c024f42953412273ca7ebb636505daa3e8ad8d144423574f486004e16"
  },
  "kernelspec": {
   "display_name": "Python 3.9.5 64-bit",
   "language": "python",
   "name": "python3"
  },
  "language_info": {
   "codemirror_mode": {
    "name": "ipython",
    "version": 3
   },
   "file_extension": ".py",
   "mimetype": "text/x-python",
   "name": "python",
   "nbconvert_exporter": "python",
   "pygments_lexer": "ipython3",
   "version": "3.9.5"
  },
  "orig_nbformat": 4
 },
 "nbformat": 4,
 "nbformat_minor": 2
}
