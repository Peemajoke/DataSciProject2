{
 "cells": [
  {
   "cell_type": "code",
   "execution_count": null,
   "metadata": {},
   "outputs": [],
   "source": [
    "from selenium import webdriver\n",
    "from selenium.webdriver.chrome.service import Service as ChromeService\n",
    "from webdriver_manager.chrome import ChromeDriverManager\n",
    "from selenium.webdriver.support.ui import WebDriverWait\n",
    "from selenium.webdriver.support import expected_conditions as EC\n",
    "\n",
    "import time\n",
    "import os\n",
    "\n",
    "import datetime\n",
    "\n",
    "import pandas as pd\n",
    "\n",
    "from selenium.webdriver.common.by import By\n",
    "from selenium.common.exceptions import TimeoutException"
   ]
  },
  {
   "cell_type": "code",
   "execution_count": null,
   "metadata": {},
   "outputs": [],
   "source": [
    "service = ChromeService(executable_path=ChromeDriverManager().install())\n",
    "driver = webdriver.Chrome(service=service)\n",
    "driver.maximize_window()"
   ]
  },
  {
   "cell_type": "markdown",
   "metadata": {},
   "source": [
    "# เก็บข้อมูลว่าแต่ละจังหวัดมี no. อะไร ตามที่ตั้ง no. ให้ใน file data prep และเก็บพิกัดของเว็บ Ventusky ที่จะ render map บริเวณจังหวัดนั้น ๆ"
   ]
  },
  {
   "cell_type": "code",
   "execution_count": null,
   "metadata": {},
   "outputs": [],
   "source": [
    "provinceDict = {\"yala\":[74,\"6.506;101.341;9\"],\"satun\":[71,\"6.680;100.403;9\"], \"songkhla\":[72,\"7.125;100.658;9\"],\"trang\":[63,\"7.493;99.926;9\"], \\\n",
    "\"nakhon-si-thammarat\":[65-1,\"8.227;99.789;9\"],\"wichit\":[70-1,\"8.038;98.722;9\"],\"surat-thani\":[74-1,\"9.115;99.007;9\"],\"ranong\":[71-1,\"9.863;98.867;9\"], \\\n",
    "\"kanchanaburi\":[57-1,\"13.923;100.349;9\"] , \"samut-sakhon\":[44-1,\"13.931;100.267;9\"], \"bangkok\":[76-1,\"13.931;100.267;9\"] , \"samut-prakan\":[42-1,\"13.931;100.267;9\"] , \\\n",
    "\"mueang-nonthaburi\":[35-1,\"13.931;100.267;9\"] , \\\n",
    "\"pathum-thani\":[36-1,\"13.931;100.267;9\"] , \"phra-nakhon-si-ayutthaya\" : [37-1,\"13.931;100.267;9\"]  , \"saraburi\":[48-1,\"14.475;100.437;9\"] , \\\n",
    "\"lop-buri\":[41-1,\"14.475;100.437;9\"] , \"sing-buri\":[45-1,\"14.475;100.437;9\"] , \"prachin-buri\":[54-1,\"14.475;100.437;9\"] , \"nakhon-nayok\":[32-1,\"14.475;100.437;9\"] , \\\n",
    "\"chiang-rai\":[1-1, \"19.22;99.99;8\"], \"mae-hong-son\":[6-1, \"19.02;97.87;8\"], \"phayao\":[4-1, \"19.10;100.27;8\"], \"nan\":[3-1, \"18.79;100.80;8\"], \\\n",
    "\"chiang-mai\":[2-1, \"18.93;99.06;8\"], \"lamphun\":[8-1, \"18.50;99.07;8\"], \"lampang\":[7-1, \"18.35;99.42;8\"], \"phrae\":[5-1, \"18.17;100.26;8\"], \"uttaradit\":[9-1, \"17.55;100.10;8\"], \\\n",
    "\"sukhothai\":[46-1, \"16.96;99.97;8\"], \"tak\":[58-1, \"16.83;99.18;8\"], \"phitsanulok\":[39-1, \"16.83;100.20;8\"], \"kamphaeng-phet\":[30-1, \"16.35;99.30;8\"], \"phichit\":[38-1, \"16.37;100.45;8\"], \\\n",
    "\"phetchabun\":[40-1, \"16.50;101.39;8\"], \"nakhon-sawan\":[34-1, \"15.73;100.26;8\"], \"uthai-thani\":[50-1, \"15.35;100.12;8\"], \"nong-khai\":[25-1, \"17.91;102.82;8\"], \\\n",
    "\"loei\":[21-1, \"17.47;101.90;8\"], \"udon-thani\":[27-1, \"17.50;102.79;8\"], \"nakhon-phanom\":[13-1, \"17.41;104.73;8\"], \\\n",
    "\"sakon-nakhon\":[22-1, \"17.17;104.19;8\"], \"khon-kaen\":[11-1, \"16.34;102.69;8\"], \"kalasin\":[10-1, \"16.50;103.73;8\"], \\\n",
    "\"roi-et\":[20-1, \"16.10;103.69;8\"],  \"chaiyaphum\":[12-1, \"15.87;102.05;8\"], \\\n",
    "\"ubon-ratchathani\":[28-1, \"14.98;105.17;8\"], \"buriram\":[16-1, \"14.84;102.88;8\"], \\\n",
    "\"nakhon-ratchasima\":[14-1,\"14.85;102.04;8\"], \"chon-buri\":[77-1, \"13.25;101.13;8\"], \"rayong\":[55-1, \"12.67;101.21;8\"], \"trat\":[52, \"12.25;102.55;8\"]}"
   ]
  },
  {
   "cell_type": "code",
   "execution_count": null,
   "metadata": {},
   "outputs": [],
   "source": [
    "print(len(provinceDict))"
   ]
  },
  {
   "cell_type": "markdown",
   "metadata": {},
   "source": [
    "# Function scrape ข้อมูลชองทุกจังหวัดใน 1 วันที่ระบุ"
   ]
  },
  {
   "cell_type": "code",
   "execution_count": null,
   "metadata": {},
   "outputs": [],
   "source": [
    "def findStuff(date,type):\n",
    "    firstTime=True\n",
    "    scrapedValue = []\n",
    "    for key,value in provinceDict.items():\n",
    "        url = f'https://www.ventusky.com/?p={value[1]}&l={type}&t={date}/0600'\n",
    "        driver.get(url=url) \n",
    "        #wait for web to load\n",
    "        if(firstTime):\n",
    "            time.sleep(2)\n",
    "            firstTime=False\n",
    "        try:\n",
    "            WebDriverWait(driver, 5).until(EC.presence_of_element_located((By.CSS_SELECTOR, f\"a[href*={key}]\")))\n",
    "            print (\"Page is ready!\")\n",
    "        except TimeoutException:\n",
    "            print (\"Loading took too much time!\")\n",
    "        ozoneValue = driver.find_elements_by_css_selector(f'a[href={key}]')[0]\n",
    "        driver.execute_script(\"arguments[0].click();\", ozoneValue)\n",
    "        try:\n",
    "            WebDriverWait(driver, 10).until(EC.presence_of_element_located((By.CSS_SELECTOR, f'a[class=\"qo am zh\"][href=\"{key}\"]')))\n",
    "        except:\n",
    "            print(\"not found href 1\")\n",
    "            \n",
    "        time.sleep(1)\n",
    "        ozoneValue = driver.find_elements_by_css_selector(f'a[href={key}]')\n",
    "        realOzoneValue=ozoneValue[-1]\n",
    "        for e in ozoneValue:\n",
    "            testValue = e.get_attribute(\"data-value\")\n",
    "            if(testValue!=None):\n",
    "                realOzoneValue=e\n",
    "                break\n",
    "            else:\n",
    "                print(testValue)\n",
    "        scrapedValue.append([value[0],realOzoneValue.get_attribute('data-value').split(\" \")[0]])\n",
    "        print(realOzoneValue.get_attribute('data-value').split(\" \")[0])\n",
    "    return scrapedValue\n",
    "    "
   ]
  },
  {
   "cell_type": "markdown",
   "metadata": {},
   "source": [
    "# Function return วันถัดไปที่จะทำการ scrape"
   ]
  },
  {
   "cell_type": "code",
   "execution_count": null,
   "metadata": {},
   "outputs": [],
   "source": [
    "yearList = [\"2020\",\"2021\",\"2022\"]\n",
    "monthList = [\"01\",\"02\",\"03\",\"04\",\"05\",\"06\",\"07\",\"08\",\"09\",\"10\",\"11\",\"12\"]\n",
    "dayList = [\"01\",\"08\",\"15\",\"22\"]\n",
    "def nextDay(date):\n",
    "    year=date[0:4]\n",
    "    month=date[4:6]\n",
    "    day=date[6:8]\n",
    "    if day ==\"22\":\n",
    "        day=dayList[0]\n",
    "        if month != \"12\":\n",
    "            month=monthList[monthList.index(month)+1]\n",
    "        else:\n",
    "            month=\"01\"\n",
    "            year=yearList[yearList.index(year)+1]\n",
    "    else:\n",
    "        day=dayList[dayList.index(day)+1]\n",
    "    return year+month+day"
   ]
  },
  {
   "cell_type": "markdown",
   "metadata": {},
   "source": [
    "# Scrape ข้อมูล CO"
   ]
  },
  {
   "cell_type": "code",
   "execution_count": null,
   "metadata": {},
   "outputs": [],
   "source": [
    "df_struct = {\n",
    "    \"date\":[],\n",
    "    \"provinceNo\":[],\n",
    "    \"co\":[]\n",
    "}\n",
    "\n",
    "dfCO = pd.DataFrame(df_struct)\n",
    "coResult = {}"
   ]
  },
  {
   "cell_type": "code",
   "execution_count": null,
   "metadata": {},
   "outputs": [],
   "source": [
    "initialDate = \"20200722\"\n",
    "\n",
    "date = initialDate\n",
    "\n",
    "while date <= \"20220122\":\n",
    "    scrapedValue2 = findStuff(date,\"co\")\n",
    "    print(scrapedValue2)\n",
    "    coResult[date] = scrapedValue2\n",
    "\n",
    "    df = pd.DataFrame(\n",
    "    data=scrapedValue2,\n",
    "    columns=['provinceNo','co']\n",
    "    )\n",
    "    df['date'] = date\n",
    "    first_column = df.pop('date')\n",
    "    df.insert(0, 'date', first_column)\n",
    "    dfCO = pd.concat([dfCO,df])\n",
    "\n",
    "    date = nextDay(date)"
   ]
  },
  {
   "cell_type": "markdown",
   "metadata": {},
   "source": [
    "# Export ข้อมูล CO ที่ scrape"
   ]
  },
  {
   "cell_type": "code",
   "execution_count": null,
   "metadata": {},
   "outputs": [],
   "source": [
    "dfCO.to_csv('../ScrapedData/COdata.csv')"
   ]
  },
  {
   "cell_type": "markdown",
   "metadata": {},
   "source": [
    "# Scrape ข้อมูล O3"
   ]
  },
  {
   "cell_type": "code",
   "execution_count": null,
   "metadata": {},
   "outputs": [],
   "source": [
    "df_struct = {\n",
    "    \"date\":[],\n",
    "    \"provinceNo\":[],\n",
    "    \"o3\":[]\n",
    "}\n",
    "\n",
    "dfO3 = pd.DataFrame(df_struct)\n",
    "o3Result={}"
   ]
  },
  {
   "cell_type": "code",
   "execution_count": null,
   "metadata": {},
   "outputs": [],
   "source": [
    "initialDate = \"20211215\"\n",
    "\n",
    "date = initialDate\n",
    "\n",
    "while date <= \"20220122\":\n",
    "    scrapedValue = findStuff(date,\"o3\")\n",
    "    print(scrapedValue)\n",
    "    o3Result[date] = scrapedValue\n",
    "\n",
    "    df = pd.DataFrame(\n",
    "    data=scrapedValue,\n",
    "    columns=['provinceNo','o3']\n",
    "    )\n",
    "    df['date'] = date\n",
    "    first_column = df.pop('date')\n",
    "    df.insert(0, 'date', first_column)\n",
    "    dfO3 = pd.concat([dfO3,df])\n",
    "\n",
    "    date = nextDay(date)\n"
   ]
  },
  {
   "cell_type": "markdown",
   "metadata": {},
   "source": [
    "# Export ข้อมูล O3 ที่ scrape"
   ]
  },
  {
   "cell_type": "code",
   "execution_count": null,
   "metadata": {},
   "outputs": [],
   "source": [
    "dfO3.to_csv('../ScrapedData/O3Data.csv')"
   ]
  },
  {
   "cell_type": "code",
   "execution_count": null,
   "metadata": {},
   "outputs": [],
   "source": []
  }
 ],
 "metadata": {
  "interpreter": {
   "hash": "c081257499a92776a7ff5343ee4d85420a7950a6ae97b0cb2aee7a7ddd41b7f2"
  },
  "kernelspec": {
   "display_name": "Python 3.9.6 64-bit",
   "language": "python",
   "name": "python3"
  },
  "language_info": {
   "codemirror_mode": {
    "name": "ipython",
    "version": 3
   },
   "file_extension": ".py",
   "mimetype": "text/x-python",
   "name": "python",
   "nbconvert_exporter": "python",
   "pygments_lexer": "ipython3",
   "version": "3.9.6"
  },
  "orig_nbformat": 4
 },
 "nbformat": 4,
 "nbformat_minor": 2
}
